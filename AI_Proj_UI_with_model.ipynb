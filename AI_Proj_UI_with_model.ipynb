{
  "nbformat": 4,
  "nbformat_minor": 0,
  "metadata": {
    "colab": {
      "name": "AI_Proj_UI.ipynb",
      "provenance": [],
      "collapsed_sections": []
    },
    "kernelspec": {
      "name": "python3",
      "display_name": "Python 3"
    },
    "language_info": {
      "name": "python"
    },
    "accelerator": "GPU",
    "gpuClass": "standard",
    "widgets": {
      "application/vnd.jupyter.widget-state+json": {
<<<<<<< HEAD
        "297913d9aa9a4c53934368cb3cf9c518": {
=======
        "49455c6fd07148eea282c0c8ad72f0a1": {
>>>>>>> 71b6dc6a43491d267ea60d4fa2e2daf492eed1d5
          "model_module": "@jupyter-widgets/controls",
          "model_name": "HBoxModel",
          "model_module_version": "1.5.0",
          "state": {
            "_dom_classes": [],
            "_model_module": "@jupyter-widgets/controls",
            "_model_module_version": "1.5.0",
            "_model_name": "HBoxModel",
            "_view_count": null,
            "_view_module": "@jupyter-widgets/controls",
            "_view_module_version": "1.5.0",
            "_view_name": "HBoxView",
            "box_style": "",
            "children": [
<<<<<<< HEAD
              "IPY_MODEL_7c2861ea1b164b00ae45cc780372d3e9",
              "IPY_MODEL_14a72458e0d14fcdb209b40584ca2e28",
              "IPY_MODEL_7afcf9ea09cf4883b9dc125fdc3ca479"
            ],
            "layout": "IPY_MODEL_8a30a534f8c2414e919385c3aa86f948"
          }
        },
        "7c2861ea1b164b00ae45cc780372d3e9": {
=======
              "IPY_MODEL_c908a5275d224256b27772ec86a0ea62",
              "IPY_MODEL_e03e4c2e59234587907381e5de827148",
              "IPY_MODEL_8afe7ea8ec5448a0822df1332c685f83"
            ],
            "layout": "IPY_MODEL_72a6323eac3c4521baeaa5644567149e"
          }
        },
        "c908a5275d224256b27772ec86a0ea62": {
>>>>>>> 71b6dc6a43491d267ea60d4fa2e2daf492eed1d5
          "model_module": "@jupyter-widgets/controls",
          "model_name": "HTMLModel",
          "model_module_version": "1.5.0",
          "state": {
            "_dom_classes": [],
            "_model_module": "@jupyter-widgets/controls",
            "_model_module_version": "1.5.0",
            "_model_name": "HTMLModel",
            "_view_count": null,
            "_view_module": "@jupyter-widgets/controls",
            "_view_module_version": "1.5.0",
            "_view_name": "HTMLView",
            "description": "",
            "description_tooltip": null,
<<<<<<< HEAD
            "layout": "IPY_MODEL_08c800380a9f4d5dbee3c3068eb586a0",
            "placeholder": "​",
            "style": "IPY_MODEL_685cfc814bd044e0bd378de132d5cde2",
            "value": "Downloading config.json: 100%"
          }
        },
        "14a72458e0d14fcdb209b40584ca2e28": {
=======
            "layout": "IPY_MODEL_974ee4eec73d4aeb845077d983179b14",
            "placeholder": "​",
            "style": "IPY_MODEL_9353c551d5614f91a0c571ae173d36bf",
            "value": "Downloading config.json: 100%"
          }
        },
        "e03e4c2e59234587907381e5de827148": {
>>>>>>> 71b6dc6a43491d267ea60d4fa2e2daf492eed1d5
          "model_module": "@jupyter-widgets/controls",
          "model_name": "FloatProgressModel",
          "model_module_version": "1.5.0",
          "state": {
            "_dom_classes": [],
            "_model_module": "@jupyter-widgets/controls",
            "_model_module_version": "1.5.0",
            "_model_name": "FloatProgressModel",
            "_view_count": null,
            "_view_module": "@jupyter-widgets/controls",
            "_view_module_version": "1.5.0",
            "_view_name": "ProgressView",
            "bar_style": "success",
            "description": "",
            "description_tooltip": null,
<<<<<<< HEAD
            "layout": "IPY_MODEL_eb8d4626b29242759065920e4b12f1ca",
            "max": 570,
            "min": 0,
            "orientation": "horizontal",
            "style": "IPY_MODEL_9604d8f4a09f47c1888357b116bbccb5",
            "value": 570
          }
        },
        "7afcf9ea09cf4883b9dc125fdc3ca479": {
=======
            "layout": "IPY_MODEL_8e1630f2a2dd431eb3802da1d30c3d40",
            "max": 570,
            "min": 0,
            "orientation": "horizontal",
            "style": "IPY_MODEL_69150d6187a8412db942359860512e3f",
            "value": 570
          }
        },
        "8afe7ea8ec5448a0822df1332c685f83": {
>>>>>>> 71b6dc6a43491d267ea60d4fa2e2daf492eed1d5
          "model_module": "@jupyter-widgets/controls",
          "model_name": "HTMLModel",
          "model_module_version": "1.5.0",
          "state": {
            "_dom_classes": [],
            "_model_module": "@jupyter-widgets/controls",
            "_model_module_version": "1.5.0",
            "_model_name": "HTMLModel",
            "_view_count": null,
            "_view_module": "@jupyter-widgets/controls",
            "_view_module_version": "1.5.0",
            "_view_name": "HTMLView",
            "description": "",
            "description_tooltip": null,
<<<<<<< HEAD
            "layout": "IPY_MODEL_f76daa71ed5a46d79ceff760b24deef1",
            "placeholder": "​",
            "style": "IPY_MODEL_df371c2d00fd4ca7bdb291457b900995",
            "value": " 570/570 [00:00&lt;00:00, 15.5kB/s]"
          }
        },
        "8a30a534f8c2414e919385c3aa86f948": {
=======
            "layout": "IPY_MODEL_b48f5499b599434d9c359e4c384fb8ee",
            "placeholder": "​",
            "style": "IPY_MODEL_2a0f0140ff27427cb855d7d7f9a29c4d",
            "value": " 570/570 [00:00&lt;00:00, 10.7kB/s]"
          }
        },
        "72a6323eac3c4521baeaa5644567149e": {
>>>>>>> 71b6dc6a43491d267ea60d4fa2e2daf492eed1d5
          "model_module": "@jupyter-widgets/base",
          "model_name": "LayoutModel",
          "model_module_version": "1.2.0",
          "state": {
            "_model_module": "@jupyter-widgets/base",
            "_model_module_version": "1.2.0",
            "_model_name": "LayoutModel",
            "_view_count": null,
            "_view_module": "@jupyter-widgets/base",
            "_view_module_version": "1.2.0",
            "_view_name": "LayoutView",
            "align_content": null,
            "align_items": null,
            "align_self": null,
            "border": null,
            "bottom": null,
            "display": null,
            "flex": null,
            "flex_flow": null,
            "grid_area": null,
            "grid_auto_columns": null,
            "grid_auto_flow": null,
            "grid_auto_rows": null,
            "grid_column": null,
            "grid_gap": null,
            "grid_row": null,
            "grid_template_areas": null,
            "grid_template_columns": null,
            "grid_template_rows": null,
            "height": null,
            "justify_content": null,
            "justify_items": null,
            "left": null,
            "margin": null,
            "max_height": null,
            "max_width": null,
            "min_height": null,
            "min_width": null,
            "object_fit": null,
            "object_position": null,
            "order": null,
            "overflow": null,
            "overflow_x": null,
            "overflow_y": null,
            "padding": null,
            "right": null,
            "top": null,
            "visibility": null,
            "width": null
          }
        },
<<<<<<< HEAD
        "08c800380a9f4d5dbee3c3068eb586a0": {
=======
        "974ee4eec73d4aeb845077d983179b14": {
>>>>>>> 71b6dc6a43491d267ea60d4fa2e2daf492eed1d5
          "model_module": "@jupyter-widgets/base",
          "model_name": "LayoutModel",
          "model_module_version": "1.2.0",
          "state": {
            "_model_module": "@jupyter-widgets/base",
            "_model_module_version": "1.2.0",
            "_model_name": "LayoutModel",
            "_view_count": null,
            "_view_module": "@jupyter-widgets/base",
            "_view_module_version": "1.2.0",
            "_view_name": "LayoutView",
            "align_content": null,
            "align_items": null,
            "align_self": null,
            "border": null,
            "bottom": null,
            "display": null,
            "flex": null,
            "flex_flow": null,
            "grid_area": null,
            "grid_auto_columns": null,
            "grid_auto_flow": null,
            "grid_auto_rows": null,
            "grid_column": null,
            "grid_gap": null,
            "grid_row": null,
            "grid_template_areas": null,
            "grid_template_columns": null,
            "grid_template_rows": null,
            "height": null,
            "justify_content": null,
            "justify_items": null,
            "left": null,
            "margin": null,
            "max_height": null,
            "max_width": null,
            "min_height": null,
            "min_width": null,
            "object_fit": null,
            "object_position": null,
            "order": null,
            "overflow": null,
            "overflow_x": null,
            "overflow_y": null,
            "padding": null,
            "right": null,
            "top": null,
            "visibility": null,
            "width": null
          }
        },
<<<<<<< HEAD
        "685cfc814bd044e0bd378de132d5cde2": {
=======
        "9353c551d5614f91a0c571ae173d36bf": {
>>>>>>> 71b6dc6a43491d267ea60d4fa2e2daf492eed1d5
          "model_module": "@jupyter-widgets/controls",
          "model_name": "DescriptionStyleModel",
          "model_module_version": "1.5.0",
          "state": {
            "_model_module": "@jupyter-widgets/controls",
            "_model_module_version": "1.5.0",
            "_model_name": "DescriptionStyleModel",
            "_view_count": null,
            "_view_module": "@jupyter-widgets/base",
            "_view_module_version": "1.2.0",
            "_view_name": "StyleView",
            "description_width": ""
          }
        },
<<<<<<< HEAD
        "eb8d4626b29242759065920e4b12f1ca": {
=======
        "8e1630f2a2dd431eb3802da1d30c3d40": {
>>>>>>> 71b6dc6a43491d267ea60d4fa2e2daf492eed1d5
          "model_module": "@jupyter-widgets/base",
          "model_name": "LayoutModel",
          "model_module_version": "1.2.0",
          "state": {
            "_model_module": "@jupyter-widgets/base",
            "_model_module_version": "1.2.0",
            "_model_name": "LayoutModel",
            "_view_count": null,
            "_view_module": "@jupyter-widgets/base",
            "_view_module_version": "1.2.0",
            "_view_name": "LayoutView",
            "align_content": null,
            "align_items": null,
            "align_self": null,
            "border": null,
            "bottom": null,
            "display": null,
            "flex": null,
            "flex_flow": null,
            "grid_area": null,
            "grid_auto_columns": null,
            "grid_auto_flow": null,
            "grid_auto_rows": null,
            "grid_column": null,
            "grid_gap": null,
            "grid_row": null,
            "grid_template_areas": null,
            "grid_template_columns": null,
            "grid_template_rows": null,
            "height": null,
            "justify_content": null,
            "justify_items": null,
            "left": null,
            "margin": null,
            "max_height": null,
            "max_width": null,
            "min_height": null,
            "min_width": null,
            "object_fit": null,
            "object_position": null,
            "order": null,
            "overflow": null,
            "overflow_x": null,
            "overflow_y": null,
            "padding": null,
            "right": null,
            "top": null,
            "visibility": null,
            "width": null
          }
        },
<<<<<<< HEAD
        "9604d8f4a09f47c1888357b116bbccb5": {
=======
        "69150d6187a8412db942359860512e3f": {
>>>>>>> 71b6dc6a43491d267ea60d4fa2e2daf492eed1d5
          "model_module": "@jupyter-widgets/controls",
          "model_name": "ProgressStyleModel",
          "model_module_version": "1.5.0",
          "state": {
            "_model_module": "@jupyter-widgets/controls",
            "_model_module_version": "1.5.0",
            "_model_name": "ProgressStyleModel",
            "_view_count": null,
            "_view_module": "@jupyter-widgets/base",
            "_view_module_version": "1.2.0",
            "_view_name": "StyleView",
            "bar_color": null,
            "description_width": ""
          }
        },
<<<<<<< HEAD
        "f76daa71ed5a46d79ceff760b24deef1": {
=======
        "b48f5499b599434d9c359e4c384fb8ee": {
>>>>>>> 71b6dc6a43491d267ea60d4fa2e2daf492eed1d5
          "model_module": "@jupyter-widgets/base",
          "model_name": "LayoutModel",
          "model_module_version": "1.2.0",
          "state": {
            "_model_module": "@jupyter-widgets/base",
            "_model_module_version": "1.2.0",
            "_model_name": "LayoutModel",
            "_view_count": null,
            "_view_module": "@jupyter-widgets/base",
            "_view_module_version": "1.2.0",
            "_view_name": "LayoutView",
            "align_content": null,
            "align_items": null,
            "align_self": null,
            "border": null,
            "bottom": null,
            "display": null,
            "flex": null,
            "flex_flow": null,
            "grid_area": null,
            "grid_auto_columns": null,
            "grid_auto_flow": null,
            "grid_auto_rows": null,
            "grid_column": null,
            "grid_gap": null,
            "grid_row": null,
            "grid_template_areas": null,
            "grid_template_columns": null,
            "grid_template_rows": null,
            "height": null,
            "justify_content": null,
            "justify_items": null,
            "left": null,
            "margin": null,
            "max_height": null,
            "max_width": null,
            "min_height": null,
            "min_width": null,
            "object_fit": null,
            "object_position": null,
            "order": null,
            "overflow": null,
            "overflow_x": null,
            "overflow_y": null,
            "padding": null,
            "right": null,
            "top": null,
            "visibility": null,
            "width": null
          }
        },
<<<<<<< HEAD
        "df371c2d00fd4ca7bdb291457b900995": {
=======
        "2a0f0140ff27427cb855d7d7f9a29c4d": {
>>>>>>> 71b6dc6a43491d267ea60d4fa2e2daf492eed1d5
          "model_module": "@jupyter-widgets/controls",
          "model_name": "DescriptionStyleModel",
          "model_module_version": "1.5.0",
          "state": {
            "_model_module": "@jupyter-widgets/controls",
            "_model_module_version": "1.5.0",
            "_model_name": "DescriptionStyleModel",
            "_view_count": null,
            "_view_module": "@jupyter-widgets/base",
            "_view_module_version": "1.2.0",
            "_view_name": "StyleView",
            "description_width": ""
          }
        },
<<<<<<< HEAD
        "76a46624b8e64fff9d5461217770dfc5": {
=======
        "2198126599f14744b1e51944178edba3": {
>>>>>>> 71b6dc6a43491d267ea60d4fa2e2daf492eed1d5
          "model_module": "@jupyter-widgets/controls",
          "model_name": "HBoxModel",
          "model_module_version": "1.5.0",
          "state": {
            "_dom_classes": [],
            "_model_module": "@jupyter-widgets/controls",
            "_model_module_version": "1.5.0",
            "_model_name": "HBoxModel",
            "_view_count": null,
            "_view_module": "@jupyter-widgets/controls",
            "_view_module_version": "1.5.0",
            "_view_name": "HBoxView",
            "box_style": "",
            "children": [
<<<<<<< HEAD
              "IPY_MODEL_93273e97973f4cf5847d4ff237448a17",
              "IPY_MODEL_f04381d0b38e4bdfab3b08319b80affb",
              "IPY_MODEL_1d2af5edeb7c412bad20e987b557ce76"
            ],
            "layout": "IPY_MODEL_4e0f1663d0d6440e9b2e239fbff99261"
          }
        },
        "93273e97973f4cf5847d4ff237448a17": {
=======
              "IPY_MODEL_954ea149aa464dbd9c6d435e2f27336d",
              "IPY_MODEL_e15dff3cd3b14640be9b3c8d9ec04ad6",
              "IPY_MODEL_6427d52f9f144224ab8939293d9a1ae3"
            ],
            "layout": "IPY_MODEL_1b15b3958feb44e283e8baa3de76dc16"
          }
        },
        "954ea149aa464dbd9c6d435e2f27336d": {
>>>>>>> 71b6dc6a43491d267ea60d4fa2e2daf492eed1d5
          "model_module": "@jupyter-widgets/controls",
          "model_name": "HTMLModel",
          "model_module_version": "1.5.0",
          "state": {
            "_dom_classes": [],
            "_model_module": "@jupyter-widgets/controls",
            "_model_module_version": "1.5.0",
            "_model_name": "HTMLModel",
            "_view_count": null,
            "_view_module": "@jupyter-widgets/controls",
            "_view_module_version": "1.5.0",
            "_view_name": "HTMLView",
            "description": "",
            "description_tooltip": null,
<<<<<<< HEAD
            "layout": "IPY_MODEL_d49ab84e0c544dbf8ced182c9cfb1c0e",
            "placeholder": "​",
            "style": "IPY_MODEL_318ebbdbc1c0483191674759b02f0fc2",
            "value": "Downloading pytorch_model.bin: 100%"
          }
        },
        "f04381d0b38e4bdfab3b08319b80affb": {
=======
            "layout": "IPY_MODEL_5df5497507d44684bb612c20626f5854",
            "placeholder": "​",
            "style": "IPY_MODEL_e432384d75d348ae9f110b73b58a164a",
            "value": "Downloading pytorch_model.bin: 100%"
          }
        },
        "e15dff3cd3b14640be9b3c8d9ec04ad6": {
>>>>>>> 71b6dc6a43491d267ea60d4fa2e2daf492eed1d5
          "model_module": "@jupyter-widgets/controls",
          "model_name": "FloatProgressModel",
          "model_module_version": "1.5.0",
          "state": {
            "_dom_classes": [],
            "_model_module": "@jupyter-widgets/controls",
            "_model_module_version": "1.5.0",
            "_model_name": "FloatProgressModel",
            "_view_count": null,
            "_view_module": "@jupyter-widgets/controls",
            "_view_module_version": "1.5.0",
            "_view_name": "ProgressView",
            "bar_style": "success",
            "description": "",
            "description_tooltip": null,
<<<<<<< HEAD
            "layout": "IPY_MODEL_aa6f5c8be6534cbfa084cdfec7e958e4",
            "max": 440473133,
            "min": 0,
            "orientation": "horizontal",
            "style": "IPY_MODEL_db2b4fe646ff4681a9f5ee57b587440c",
            "value": 440473133
          }
        },
        "1d2af5edeb7c412bad20e987b557ce76": {
=======
            "layout": "IPY_MODEL_4cdeab42f48f4eb78ac1a21c71c7ffab",
            "max": 440473133,
            "min": 0,
            "orientation": "horizontal",
            "style": "IPY_MODEL_9741dcfecafe4c10999c735fa27198e2",
            "value": 440473133
          }
        },
        "6427d52f9f144224ab8939293d9a1ae3": {
>>>>>>> 71b6dc6a43491d267ea60d4fa2e2daf492eed1d5
          "model_module": "@jupyter-widgets/controls",
          "model_name": "HTMLModel",
          "model_module_version": "1.5.0",
          "state": {
            "_dom_classes": [],
            "_model_module": "@jupyter-widgets/controls",
            "_model_module_version": "1.5.0",
            "_model_name": "HTMLModel",
            "_view_count": null,
            "_view_module": "@jupyter-widgets/controls",
            "_view_module_version": "1.5.0",
            "_view_name": "HTMLView",
            "description": "",
            "description_tooltip": null,
<<<<<<< HEAD
            "layout": "IPY_MODEL_d7cd7f94b4eb40daac7b040054cead97",
            "placeholder": "​",
            "style": "IPY_MODEL_23e652a1fdf74039a230bf7d8031ddbf",
            "value": " 420M/420M [00:07&lt;00:00, 60.9MB/s]"
          }
        },
        "4e0f1663d0d6440e9b2e239fbff99261": {
=======
            "layout": "IPY_MODEL_b5e50ee5cc054e85a73e5ff8a18ccaf1",
            "placeholder": "​",
            "style": "IPY_MODEL_8b0540ac2d3b4edda93473189aea3bb2",
            "value": " 420M/420M [00:18&lt;00:00, 60.4MB/s]"
          }
        },
        "1b15b3958feb44e283e8baa3de76dc16": {
>>>>>>> 71b6dc6a43491d267ea60d4fa2e2daf492eed1d5
          "model_module": "@jupyter-widgets/base",
          "model_name": "LayoutModel",
          "model_module_version": "1.2.0",
          "state": {
            "_model_module": "@jupyter-widgets/base",
            "_model_module_version": "1.2.0",
            "_model_name": "LayoutModel",
            "_view_count": null,
            "_view_module": "@jupyter-widgets/base",
            "_view_module_version": "1.2.0",
            "_view_name": "LayoutView",
            "align_content": null,
            "align_items": null,
            "align_self": null,
            "border": null,
            "bottom": null,
            "display": null,
            "flex": null,
            "flex_flow": null,
            "grid_area": null,
            "grid_auto_columns": null,
            "grid_auto_flow": null,
            "grid_auto_rows": null,
            "grid_column": null,
            "grid_gap": null,
            "grid_row": null,
            "grid_template_areas": null,
            "grid_template_columns": null,
            "grid_template_rows": null,
            "height": null,
            "justify_content": null,
            "justify_items": null,
            "left": null,
            "margin": null,
            "max_height": null,
            "max_width": null,
            "min_height": null,
            "min_width": null,
            "object_fit": null,
            "object_position": null,
            "order": null,
            "overflow": null,
            "overflow_x": null,
            "overflow_y": null,
            "padding": null,
            "right": null,
            "top": null,
            "visibility": null,
            "width": null
          }
        },
<<<<<<< HEAD
        "d49ab84e0c544dbf8ced182c9cfb1c0e": {
=======
        "5df5497507d44684bb612c20626f5854": {
>>>>>>> 71b6dc6a43491d267ea60d4fa2e2daf492eed1d5
          "model_module": "@jupyter-widgets/base",
          "model_name": "LayoutModel",
          "model_module_version": "1.2.0",
          "state": {
            "_model_module": "@jupyter-widgets/base",
            "_model_module_version": "1.2.0",
            "_model_name": "LayoutModel",
            "_view_count": null,
            "_view_module": "@jupyter-widgets/base",
            "_view_module_version": "1.2.0",
            "_view_name": "LayoutView",
            "align_content": null,
            "align_items": null,
            "align_self": null,
            "border": null,
            "bottom": null,
            "display": null,
            "flex": null,
            "flex_flow": null,
            "grid_area": null,
            "grid_auto_columns": null,
            "grid_auto_flow": null,
            "grid_auto_rows": null,
            "grid_column": null,
            "grid_gap": null,
            "grid_row": null,
            "grid_template_areas": null,
            "grid_template_columns": null,
            "grid_template_rows": null,
            "height": null,
            "justify_content": null,
            "justify_items": null,
            "left": null,
            "margin": null,
            "max_height": null,
            "max_width": null,
            "min_height": null,
            "min_width": null,
            "object_fit": null,
            "object_position": null,
            "order": null,
            "overflow": null,
            "overflow_x": null,
            "overflow_y": null,
            "padding": null,
            "right": null,
            "top": null,
            "visibility": null,
            "width": null
          }
        },
<<<<<<< HEAD
        "318ebbdbc1c0483191674759b02f0fc2": {
=======
        "e432384d75d348ae9f110b73b58a164a": {
>>>>>>> 71b6dc6a43491d267ea60d4fa2e2daf492eed1d5
          "model_module": "@jupyter-widgets/controls",
          "model_name": "DescriptionStyleModel",
          "model_module_version": "1.5.0",
          "state": {
            "_model_module": "@jupyter-widgets/controls",
            "_model_module_version": "1.5.0",
            "_model_name": "DescriptionStyleModel",
            "_view_count": null,
            "_view_module": "@jupyter-widgets/base",
            "_view_module_version": "1.2.0",
            "_view_name": "StyleView",
            "description_width": ""
          }
        },
<<<<<<< HEAD
        "aa6f5c8be6534cbfa084cdfec7e958e4": {
=======
        "4cdeab42f48f4eb78ac1a21c71c7ffab": {
>>>>>>> 71b6dc6a43491d267ea60d4fa2e2daf492eed1d5
          "model_module": "@jupyter-widgets/base",
          "model_name": "LayoutModel",
          "model_module_version": "1.2.0",
          "state": {
            "_model_module": "@jupyter-widgets/base",
            "_model_module_version": "1.2.0",
            "_model_name": "LayoutModel",
            "_view_count": null,
            "_view_module": "@jupyter-widgets/base",
            "_view_module_version": "1.2.0",
            "_view_name": "LayoutView",
            "align_content": null,
            "align_items": null,
            "align_self": null,
            "border": null,
            "bottom": null,
            "display": null,
            "flex": null,
            "flex_flow": null,
            "grid_area": null,
            "grid_auto_columns": null,
            "grid_auto_flow": null,
            "grid_auto_rows": null,
            "grid_column": null,
            "grid_gap": null,
            "grid_row": null,
            "grid_template_areas": null,
            "grid_template_columns": null,
            "grid_template_rows": null,
            "height": null,
            "justify_content": null,
            "justify_items": null,
            "left": null,
            "margin": null,
            "max_height": null,
            "max_width": null,
            "min_height": null,
            "min_width": null,
            "object_fit": null,
            "object_position": null,
            "order": null,
            "overflow": null,
            "overflow_x": null,
            "overflow_y": null,
            "padding": null,
            "right": null,
            "top": null,
            "visibility": null,
            "width": null
          }
        },
<<<<<<< HEAD
        "db2b4fe646ff4681a9f5ee57b587440c": {
=======
        "9741dcfecafe4c10999c735fa27198e2": {
>>>>>>> 71b6dc6a43491d267ea60d4fa2e2daf492eed1d5
          "model_module": "@jupyter-widgets/controls",
          "model_name": "ProgressStyleModel",
          "model_module_version": "1.5.0",
          "state": {
            "_model_module": "@jupyter-widgets/controls",
            "_model_module_version": "1.5.0",
            "_model_name": "ProgressStyleModel",
            "_view_count": null,
            "_view_module": "@jupyter-widgets/base",
            "_view_module_version": "1.2.0",
            "_view_name": "StyleView",
            "bar_color": null,
            "description_width": ""
          }
        },
<<<<<<< HEAD
        "d7cd7f94b4eb40daac7b040054cead97": {
=======
        "b5e50ee5cc054e85a73e5ff8a18ccaf1": {
>>>>>>> 71b6dc6a43491d267ea60d4fa2e2daf492eed1d5
          "model_module": "@jupyter-widgets/base",
          "model_name": "LayoutModel",
          "model_module_version": "1.2.0",
          "state": {
            "_model_module": "@jupyter-widgets/base",
            "_model_module_version": "1.2.0",
            "_model_name": "LayoutModel",
            "_view_count": null,
            "_view_module": "@jupyter-widgets/base",
            "_view_module_version": "1.2.0",
            "_view_name": "LayoutView",
            "align_content": null,
            "align_items": null,
            "align_self": null,
            "border": null,
            "bottom": null,
            "display": null,
            "flex": null,
            "flex_flow": null,
            "grid_area": null,
            "grid_auto_columns": null,
            "grid_auto_flow": null,
            "grid_auto_rows": null,
            "grid_column": null,
            "grid_gap": null,
            "grid_row": null,
            "grid_template_areas": null,
            "grid_template_columns": null,
            "grid_template_rows": null,
            "height": null,
            "justify_content": null,
            "justify_items": null,
            "left": null,
            "margin": null,
            "max_height": null,
            "max_width": null,
            "min_height": null,
            "min_width": null,
            "object_fit": null,
            "object_position": null,
            "order": null,
            "overflow": null,
            "overflow_x": null,
            "overflow_y": null,
            "padding": null,
            "right": null,
            "top": null,
            "visibility": null,
            "width": null
          }
        },
<<<<<<< HEAD
        "23e652a1fdf74039a230bf7d8031ddbf": {
=======
        "8b0540ac2d3b4edda93473189aea3bb2": {
>>>>>>> 71b6dc6a43491d267ea60d4fa2e2daf492eed1d5
          "model_module": "@jupyter-widgets/controls",
          "model_name": "DescriptionStyleModel",
          "model_module_version": "1.5.0",
          "state": {
            "_model_module": "@jupyter-widgets/controls",
            "_model_module_version": "1.5.0",
            "_model_name": "DescriptionStyleModel",
            "_view_count": null,
            "_view_module": "@jupyter-widgets/base",
            "_view_module_version": "1.2.0",
            "_view_name": "StyleView",
            "description_width": ""
          }
        },
<<<<<<< HEAD
        "0e3245b559a644da8950e161abf520fe": {
=======
        "ba5ff60f14df4d0e8d4e51b1b434e355": {
>>>>>>> 71b6dc6a43491d267ea60d4fa2e2daf492eed1d5
          "model_module": "@jupyter-widgets/controls",
          "model_name": "HBoxModel",
          "model_module_version": "1.5.0",
          "state": {
            "_dom_classes": [],
            "_model_module": "@jupyter-widgets/controls",
            "_model_module_version": "1.5.0",
            "_model_name": "HBoxModel",
            "_view_count": null,
            "_view_module": "@jupyter-widgets/controls",
            "_view_module_version": "1.5.0",
            "_view_name": "HBoxView",
            "box_style": "",
            "children": [
<<<<<<< HEAD
              "IPY_MODEL_8fa7c0467f4e4edd899dc966cf8e544f",
              "IPY_MODEL_efc4b6facc4c4588acf6ed6ed266c2d9",
              "IPY_MODEL_c832c14bba1d43eaa5076fb5fa9f3e3d"
            ],
            "layout": "IPY_MODEL_ce3ca5e7ed354ffa8871812d0cec3e62"
          }
        },
        "8fa7c0467f4e4edd899dc966cf8e544f": {
=======
              "IPY_MODEL_25013a9621a848058a65939f8ae6316d",
              "IPY_MODEL_14ee8c6910c14e8c9de99db2ea4c4502",
              "IPY_MODEL_d71a4aeeded34751a6cc77afdb3193ba"
            ],
            "layout": "IPY_MODEL_ccc7fccdd5f447269a69b7d162becf43"
          }
        },
        "25013a9621a848058a65939f8ae6316d": {
>>>>>>> 71b6dc6a43491d267ea60d4fa2e2daf492eed1d5
          "model_module": "@jupyter-widgets/controls",
          "model_name": "HTMLModel",
          "model_module_version": "1.5.0",
          "state": {
            "_dom_classes": [],
            "_model_module": "@jupyter-widgets/controls",
            "_model_module_version": "1.5.0",
            "_model_name": "HTMLModel",
            "_view_count": null,
            "_view_module": "@jupyter-widgets/controls",
            "_view_module_version": "1.5.0",
            "_view_name": "HTMLView",
            "description": "",
            "description_tooltip": null,
<<<<<<< HEAD
            "layout": "IPY_MODEL_42384a43838c49c280cd59b206be4dea",
            "placeholder": "​",
            "style": "IPY_MODEL_62d2cf66ed8547feb8a25fd6a28fa75d",
            "value": "Downloading tokenizer_config.json: 100%"
          }
        },
        "efc4b6facc4c4588acf6ed6ed266c2d9": {
=======
            "layout": "IPY_MODEL_b025a2250099446a8b49a2ceaa4d8023",
            "placeholder": "​",
            "style": "IPY_MODEL_f69d6c87b29942a5987e95329d119311",
            "value": "Downloading tokenizer_config.json: 100%"
          }
        },
        "14ee8c6910c14e8c9de99db2ea4c4502": {
>>>>>>> 71b6dc6a43491d267ea60d4fa2e2daf492eed1d5
          "model_module": "@jupyter-widgets/controls",
          "model_name": "FloatProgressModel",
          "model_module_version": "1.5.0",
          "state": {
            "_dom_classes": [],
            "_model_module": "@jupyter-widgets/controls",
            "_model_module_version": "1.5.0",
            "_model_name": "FloatProgressModel",
            "_view_count": null,
            "_view_module": "@jupyter-widgets/controls",
            "_view_module_version": "1.5.0",
            "_view_name": "ProgressView",
            "bar_style": "success",
            "description": "",
            "description_tooltip": null,
<<<<<<< HEAD
            "layout": "IPY_MODEL_ae5ab0cbdf9740fb9422f64b86341601",
            "max": 28,
            "min": 0,
            "orientation": "horizontal",
            "style": "IPY_MODEL_50482f1be5cb46639f454c7f5ad1cd3a",
            "value": 28
          }
        },
        "c832c14bba1d43eaa5076fb5fa9f3e3d": {
=======
            "layout": "IPY_MODEL_f3b03e0f82db4733ba535982fcc57685",
            "max": 28,
            "min": 0,
            "orientation": "horizontal",
            "style": "IPY_MODEL_6c3370323a1f48f9b8cd7a17676e7d97",
            "value": 28
          }
        },
        "d71a4aeeded34751a6cc77afdb3193ba": {
>>>>>>> 71b6dc6a43491d267ea60d4fa2e2daf492eed1d5
          "model_module": "@jupyter-widgets/controls",
          "model_name": "HTMLModel",
          "model_module_version": "1.5.0",
          "state": {
            "_dom_classes": [],
            "_model_module": "@jupyter-widgets/controls",
            "_model_module_version": "1.5.0",
            "_model_name": "HTMLModel",
            "_view_count": null,
            "_view_module": "@jupyter-widgets/controls",
            "_view_module_version": "1.5.0",
            "_view_name": "HTMLView",
            "description": "",
            "description_tooltip": null,
<<<<<<< HEAD
            "layout": "IPY_MODEL_8b56457a62584a03a875c5f09be56344",
            "placeholder": "​",
            "style": "IPY_MODEL_39cd3e4298564d208cbdf9f85d492996",
            "value": " 28.0/28.0 [00:00&lt;00:00, 835B/s]"
          }
        },
        "ce3ca5e7ed354ffa8871812d0cec3e62": {
=======
            "layout": "IPY_MODEL_16d2db5a254148c098ed6e7c44c8d2e1",
            "placeholder": "​",
            "style": "IPY_MODEL_423421f1050b441db281f1d53fb293e2",
            "value": " 28.0/28.0 [00:00&lt;00:00, 852B/s]"
          }
        },
        "ccc7fccdd5f447269a69b7d162becf43": {
>>>>>>> 71b6dc6a43491d267ea60d4fa2e2daf492eed1d5
          "model_module": "@jupyter-widgets/base",
          "model_name": "LayoutModel",
          "model_module_version": "1.2.0",
          "state": {
            "_model_module": "@jupyter-widgets/base",
            "_model_module_version": "1.2.0",
            "_model_name": "LayoutModel",
            "_view_count": null,
            "_view_module": "@jupyter-widgets/base",
            "_view_module_version": "1.2.0",
            "_view_name": "LayoutView",
            "align_content": null,
            "align_items": null,
            "align_self": null,
            "border": null,
            "bottom": null,
            "display": null,
            "flex": null,
            "flex_flow": null,
            "grid_area": null,
            "grid_auto_columns": null,
            "grid_auto_flow": null,
            "grid_auto_rows": null,
            "grid_column": null,
            "grid_gap": null,
            "grid_row": null,
            "grid_template_areas": null,
            "grid_template_columns": null,
            "grid_template_rows": null,
            "height": null,
            "justify_content": null,
            "justify_items": null,
            "left": null,
            "margin": null,
            "max_height": null,
            "max_width": null,
            "min_height": null,
            "min_width": null,
            "object_fit": null,
            "object_position": null,
            "order": null,
            "overflow": null,
            "overflow_x": null,
            "overflow_y": null,
            "padding": null,
            "right": null,
            "top": null,
            "visibility": null,
            "width": null
          }
        },
<<<<<<< HEAD
        "42384a43838c49c280cd59b206be4dea": {
=======
        "b025a2250099446a8b49a2ceaa4d8023": {
>>>>>>> 71b6dc6a43491d267ea60d4fa2e2daf492eed1d5
          "model_module": "@jupyter-widgets/base",
          "model_name": "LayoutModel",
          "model_module_version": "1.2.0",
          "state": {
            "_model_module": "@jupyter-widgets/base",
            "_model_module_version": "1.2.0",
            "_model_name": "LayoutModel",
            "_view_count": null,
            "_view_module": "@jupyter-widgets/base",
            "_view_module_version": "1.2.0",
            "_view_name": "LayoutView",
            "align_content": null,
            "align_items": null,
            "align_self": null,
            "border": null,
            "bottom": null,
            "display": null,
            "flex": null,
            "flex_flow": null,
            "grid_area": null,
            "grid_auto_columns": null,
            "grid_auto_flow": null,
            "grid_auto_rows": null,
            "grid_column": null,
            "grid_gap": null,
            "grid_row": null,
            "grid_template_areas": null,
            "grid_template_columns": null,
            "grid_template_rows": null,
            "height": null,
            "justify_content": null,
            "justify_items": null,
            "left": null,
            "margin": null,
            "max_height": null,
            "max_width": null,
            "min_height": null,
            "min_width": null,
            "object_fit": null,
            "object_position": null,
            "order": null,
            "overflow": null,
            "overflow_x": null,
            "overflow_y": null,
            "padding": null,
            "right": null,
            "top": null,
            "visibility": null,
            "width": null
          }
        },
<<<<<<< HEAD
        "62d2cf66ed8547feb8a25fd6a28fa75d": {
=======
        "f69d6c87b29942a5987e95329d119311": {
>>>>>>> 71b6dc6a43491d267ea60d4fa2e2daf492eed1d5
          "model_module": "@jupyter-widgets/controls",
          "model_name": "DescriptionStyleModel",
          "model_module_version": "1.5.0",
          "state": {
            "_model_module": "@jupyter-widgets/controls",
            "_model_module_version": "1.5.0",
            "_model_name": "DescriptionStyleModel",
            "_view_count": null,
            "_view_module": "@jupyter-widgets/base",
            "_view_module_version": "1.2.0",
            "_view_name": "StyleView",
            "description_width": ""
          }
        },
<<<<<<< HEAD
        "ae5ab0cbdf9740fb9422f64b86341601": {
=======
        "f3b03e0f82db4733ba535982fcc57685": {
>>>>>>> 71b6dc6a43491d267ea60d4fa2e2daf492eed1d5
          "model_module": "@jupyter-widgets/base",
          "model_name": "LayoutModel",
          "model_module_version": "1.2.0",
          "state": {
            "_model_module": "@jupyter-widgets/base",
            "_model_module_version": "1.2.0",
            "_model_name": "LayoutModel",
            "_view_count": null,
            "_view_module": "@jupyter-widgets/base",
            "_view_module_version": "1.2.0",
            "_view_name": "LayoutView",
            "align_content": null,
            "align_items": null,
            "align_self": null,
            "border": null,
            "bottom": null,
            "display": null,
            "flex": null,
            "flex_flow": null,
            "grid_area": null,
            "grid_auto_columns": null,
            "grid_auto_flow": null,
            "grid_auto_rows": null,
            "grid_column": null,
            "grid_gap": null,
            "grid_row": null,
            "grid_template_areas": null,
            "grid_template_columns": null,
            "grid_template_rows": null,
            "height": null,
            "justify_content": null,
            "justify_items": null,
            "left": null,
            "margin": null,
            "max_height": null,
            "max_width": null,
            "min_height": null,
            "min_width": null,
            "object_fit": null,
            "object_position": null,
            "order": null,
            "overflow": null,
            "overflow_x": null,
            "overflow_y": null,
            "padding": null,
            "right": null,
            "top": null,
            "visibility": null,
            "width": null
          }
        },
<<<<<<< HEAD
        "50482f1be5cb46639f454c7f5ad1cd3a": {
=======
        "6c3370323a1f48f9b8cd7a17676e7d97": {
>>>>>>> 71b6dc6a43491d267ea60d4fa2e2daf492eed1d5
          "model_module": "@jupyter-widgets/controls",
          "model_name": "ProgressStyleModel",
          "model_module_version": "1.5.0",
          "state": {
            "_model_module": "@jupyter-widgets/controls",
            "_model_module_version": "1.5.0",
            "_model_name": "ProgressStyleModel",
            "_view_count": null,
            "_view_module": "@jupyter-widgets/base",
            "_view_module_version": "1.2.0",
            "_view_name": "StyleView",
            "bar_color": null,
            "description_width": ""
          }
        },
<<<<<<< HEAD
        "8b56457a62584a03a875c5f09be56344": {
=======
        "16d2db5a254148c098ed6e7c44c8d2e1": {
>>>>>>> 71b6dc6a43491d267ea60d4fa2e2daf492eed1d5
          "model_module": "@jupyter-widgets/base",
          "model_name": "LayoutModel",
          "model_module_version": "1.2.0",
          "state": {
            "_model_module": "@jupyter-widgets/base",
            "_model_module_version": "1.2.0",
            "_model_name": "LayoutModel",
            "_view_count": null,
            "_view_module": "@jupyter-widgets/base",
            "_view_module_version": "1.2.0",
            "_view_name": "LayoutView",
            "align_content": null,
            "align_items": null,
            "align_self": null,
            "border": null,
            "bottom": null,
            "display": null,
            "flex": null,
            "flex_flow": null,
            "grid_area": null,
            "grid_auto_columns": null,
            "grid_auto_flow": null,
            "grid_auto_rows": null,
            "grid_column": null,
            "grid_gap": null,
            "grid_row": null,
            "grid_template_areas": null,
            "grid_template_columns": null,
            "grid_template_rows": null,
            "height": null,
            "justify_content": null,
            "justify_items": null,
            "left": null,
            "margin": null,
            "max_height": null,
            "max_width": null,
            "min_height": null,
            "min_width": null,
            "object_fit": null,
            "object_position": null,
            "order": null,
            "overflow": null,
            "overflow_x": null,
            "overflow_y": null,
            "padding": null,
            "right": null,
            "top": null,
            "visibility": null,
            "width": null
          }
        },
<<<<<<< HEAD
        "39cd3e4298564d208cbdf9f85d492996": {
=======
        "423421f1050b441db281f1d53fb293e2": {
>>>>>>> 71b6dc6a43491d267ea60d4fa2e2daf492eed1d5
          "model_module": "@jupyter-widgets/controls",
          "model_name": "DescriptionStyleModel",
          "model_module_version": "1.5.0",
          "state": {
            "_model_module": "@jupyter-widgets/controls",
            "_model_module_version": "1.5.0",
            "_model_name": "DescriptionStyleModel",
            "_view_count": null,
            "_view_module": "@jupyter-widgets/base",
            "_view_module_version": "1.2.0",
            "_view_name": "StyleView",
            "description_width": ""
          }
        },
<<<<<<< HEAD
        "551ddf466a7b44c9beb297387c54edda": {
=======
        "cf2b02c3098a4c4192915184c3cc07ad": {
>>>>>>> 71b6dc6a43491d267ea60d4fa2e2daf492eed1d5
          "model_module": "@jupyter-widgets/controls",
          "model_name": "HBoxModel",
          "model_module_version": "1.5.0",
          "state": {
            "_dom_classes": [],
            "_model_module": "@jupyter-widgets/controls",
            "_model_module_version": "1.5.0",
            "_model_name": "HBoxModel",
            "_view_count": null,
            "_view_module": "@jupyter-widgets/controls",
            "_view_module_version": "1.5.0",
            "_view_name": "HBoxView",
            "box_style": "",
            "children": [
<<<<<<< HEAD
              "IPY_MODEL_b080c533ed334dedbbe1ec3b021ed47e",
              "IPY_MODEL_1b6d34e2b7b449ec904a493b2233dc9c",
              "IPY_MODEL_737600c2fb1f4687892f2c20683ed479"
            ],
            "layout": "IPY_MODEL_8fe1a14733334c23927ca28748d2e3cf"
          }
        },
        "b080c533ed334dedbbe1ec3b021ed47e": {
=======
              "IPY_MODEL_4341bdcc70e04769be35d7206ccdda18",
              "IPY_MODEL_19fa532a62c34c709ac1c672e30ea263",
              "IPY_MODEL_0d73776b5c93461ba6ed61bc192119b9"
            ],
            "layout": "IPY_MODEL_98e5fd52a30c4dff999ab5c681267b91"
          }
        },
        "4341bdcc70e04769be35d7206ccdda18": {
>>>>>>> 71b6dc6a43491d267ea60d4fa2e2daf492eed1d5
          "model_module": "@jupyter-widgets/controls",
          "model_name": "HTMLModel",
          "model_module_version": "1.5.0",
          "state": {
            "_dom_classes": [],
            "_model_module": "@jupyter-widgets/controls",
            "_model_module_version": "1.5.0",
            "_model_name": "HTMLModel",
            "_view_count": null,
            "_view_module": "@jupyter-widgets/controls",
            "_view_module_version": "1.5.0",
            "_view_name": "HTMLView",
            "description": "",
            "description_tooltip": null,
<<<<<<< HEAD
            "layout": "IPY_MODEL_095ff58488c043a883a103d4910829c2",
            "placeholder": "​",
            "style": "IPY_MODEL_c476fb6b1b28472d827d598fabced7aa",
            "value": "Downloading vocab.txt: 100%"
          }
        },
        "1b6d34e2b7b449ec904a493b2233dc9c": {
=======
            "layout": "IPY_MODEL_5818b96c8e6c4d9790c7cad624ed03d9",
            "placeholder": "​",
            "style": "IPY_MODEL_7c2cd09c5eeb4c97b31427d66254aa3a",
            "value": "Downloading vocab.txt: 100%"
          }
        },
        "19fa532a62c34c709ac1c672e30ea263": {
>>>>>>> 71b6dc6a43491d267ea60d4fa2e2daf492eed1d5
          "model_module": "@jupyter-widgets/controls",
          "model_name": "FloatProgressModel",
          "model_module_version": "1.5.0",
          "state": {
            "_dom_classes": [],
            "_model_module": "@jupyter-widgets/controls",
            "_model_module_version": "1.5.0",
            "_model_name": "FloatProgressModel",
            "_view_count": null,
            "_view_module": "@jupyter-widgets/controls",
            "_view_module_version": "1.5.0",
            "_view_name": "ProgressView",
            "bar_style": "success",
            "description": "",
            "description_tooltip": null,
<<<<<<< HEAD
            "layout": "IPY_MODEL_c7ae92a44e7b4028a3ba774ad000b32c",
            "max": 231508,
            "min": 0,
            "orientation": "horizontal",
            "style": "IPY_MODEL_14eed7a8daf743c1bc140f711c8ddb07",
            "value": 231508
          }
        },
        "737600c2fb1f4687892f2c20683ed479": {
=======
            "layout": "IPY_MODEL_17acf33c26934e218d91f9ef510c2b4e",
            "max": 231508,
            "min": 0,
            "orientation": "horizontal",
            "style": "IPY_MODEL_73be838fb11f49c68973dfc6e5b2fa20",
            "value": 231508
          }
        },
        "0d73776b5c93461ba6ed61bc192119b9": {
>>>>>>> 71b6dc6a43491d267ea60d4fa2e2daf492eed1d5
          "model_module": "@jupyter-widgets/controls",
          "model_name": "HTMLModel",
          "model_module_version": "1.5.0",
          "state": {
            "_dom_classes": [],
            "_model_module": "@jupyter-widgets/controls",
            "_model_module_version": "1.5.0",
            "_model_name": "HTMLModel",
            "_view_count": null,
            "_view_module": "@jupyter-widgets/controls",
            "_view_module_version": "1.5.0",
            "_view_name": "HTMLView",
            "description": "",
            "description_tooltip": null,
<<<<<<< HEAD
            "layout": "IPY_MODEL_70275509b5474b5898294f99eecd0414",
            "placeholder": "​",
            "style": "IPY_MODEL_0476a120a0f348afa7a29d7211aa5991",
            "value": " 226k/226k [00:00&lt;00:00, 857kB/s]"
          }
        },
        "8fe1a14733334c23927ca28748d2e3cf": {
=======
            "layout": "IPY_MODEL_92ff05f8f69b4c3fa413aba92a6494b4",
            "placeholder": "​",
            "style": "IPY_MODEL_8e2219237aa7442ca69da7887c0749b7",
            "value": " 226k/226k [00:00&lt;00:00, 263kB/s]"
          }
        },
        "98e5fd52a30c4dff999ab5c681267b91": {
>>>>>>> 71b6dc6a43491d267ea60d4fa2e2daf492eed1d5
          "model_module": "@jupyter-widgets/base",
          "model_name": "LayoutModel",
          "model_module_version": "1.2.0",
          "state": {
            "_model_module": "@jupyter-widgets/base",
            "_model_module_version": "1.2.0",
            "_model_name": "LayoutModel",
            "_view_count": null,
            "_view_module": "@jupyter-widgets/base",
            "_view_module_version": "1.2.0",
            "_view_name": "LayoutView",
            "align_content": null,
            "align_items": null,
            "align_self": null,
            "border": null,
            "bottom": null,
            "display": null,
            "flex": null,
            "flex_flow": null,
            "grid_area": null,
            "grid_auto_columns": null,
            "grid_auto_flow": null,
            "grid_auto_rows": null,
            "grid_column": null,
            "grid_gap": null,
            "grid_row": null,
            "grid_template_areas": null,
            "grid_template_columns": null,
            "grid_template_rows": null,
            "height": null,
            "justify_content": null,
            "justify_items": null,
            "left": null,
            "margin": null,
            "max_height": null,
            "max_width": null,
            "min_height": null,
            "min_width": null,
            "object_fit": null,
            "object_position": null,
            "order": null,
            "overflow": null,
            "overflow_x": null,
            "overflow_y": null,
            "padding": null,
            "right": null,
            "top": null,
            "visibility": null,
            "width": null
          }
        },
<<<<<<< HEAD
        "095ff58488c043a883a103d4910829c2": {
=======
        "5818b96c8e6c4d9790c7cad624ed03d9": {
>>>>>>> 71b6dc6a43491d267ea60d4fa2e2daf492eed1d5
          "model_module": "@jupyter-widgets/base",
          "model_name": "LayoutModel",
          "model_module_version": "1.2.0",
          "state": {
            "_model_module": "@jupyter-widgets/base",
            "_model_module_version": "1.2.0",
            "_model_name": "LayoutModel",
            "_view_count": null,
            "_view_module": "@jupyter-widgets/base",
            "_view_module_version": "1.2.0",
            "_view_name": "LayoutView",
            "align_content": null,
            "align_items": null,
            "align_self": null,
            "border": null,
            "bottom": null,
            "display": null,
            "flex": null,
            "flex_flow": null,
            "grid_area": null,
            "grid_auto_columns": null,
            "grid_auto_flow": null,
            "grid_auto_rows": null,
            "grid_column": null,
            "grid_gap": null,
            "grid_row": null,
            "grid_template_areas": null,
            "grid_template_columns": null,
            "grid_template_rows": null,
            "height": null,
            "justify_content": null,
            "justify_items": null,
            "left": null,
            "margin": null,
            "max_height": null,
            "max_width": null,
            "min_height": null,
            "min_width": null,
            "object_fit": null,
            "object_position": null,
            "order": null,
            "overflow": null,
            "overflow_x": null,
            "overflow_y": null,
            "padding": null,
            "right": null,
            "top": null,
            "visibility": null,
            "width": null
          }
        },
<<<<<<< HEAD
        "c476fb6b1b28472d827d598fabced7aa": {
=======
        "7c2cd09c5eeb4c97b31427d66254aa3a": {
>>>>>>> 71b6dc6a43491d267ea60d4fa2e2daf492eed1d5
          "model_module": "@jupyter-widgets/controls",
          "model_name": "DescriptionStyleModel",
          "model_module_version": "1.5.0",
          "state": {
            "_model_module": "@jupyter-widgets/controls",
            "_model_module_version": "1.5.0",
            "_model_name": "DescriptionStyleModel",
            "_view_count": null,
            "_view_module": "@jupyter-widgets/base",
            "_view_module_version": "1.2.0",
            "_view_name": "StyleView",
            "description_width": ""
          }
        },
<<<<<<< HEAD
        "c7ae92a44e7b4028a3ba774ad000b32c": {
=======
        "17acf33c26934e218d91f9ef510c2b4e": {
>>>>>>> 71b6dc6a43491d267ea60d4fa2e2daf492eed1d5
          "model_module": "@jupyter-widgets/base",
          "model_name": "LayoutModel",
          "model_module_version": "1.2.0",
          "state": {
            "_model_module": "@jupyter-widgets/base",
            "_model_module_version": "1.2.0",
            "_model_name": "LayoutModel",
            "_view_count": null,
            "_view_module": "@jupyter-widgets/base",
            "_view_module_version": "1.2.0",
            "_view_name": "LayoutView",
            "align_content": null,
            "align_items": null,
            "align_self": null,
            "border": null,
            "bottom": null,
            "display": null,
            "flex": null,
            "flex_flow": null,
            "grid_area": null,
            "grid_auto_columns": null,
            "grid_auto_flow": null,
            "grid_auto_rows": null,
            "grid_column": null,
            "grid_gap": null,
            "grid_row": null,
            "grid_template_areas": null,
            "grid_template_columns": null,
            "grid_template_rows": null,
            "height": null,
            "justify_content": null,
            "justify_items": null,
            "left": null,
            "margin": null,
            "max_height": null,
            "max_width": null,
            "min_height": null,
            "min_width": null,
            "object_fit": null,
            "object_position": null,
            "order": null,
            "overflow": null,
            "overflow_x": null,
            "overflow_y": null,
            "padding": null,
            "right": null,
            "top": null,
            "visibility": null,
            "width": null
          }
        },
<<<<<<< HEAD
        "14eed7a8daf743c1bc140f711c8ddb07": {
=======
        "73be838fb11f49c68973dfc6e5b2fa20": {
>>>>>>> 71b6dc6a43491d267ea60d4fa2e2daf492eed1d5
          "model_module": "@jupyter-widgets/controls",
          "model_name": "ProgressStyleModel",
          "model_module_version": "1.5.0",
          "state": {
            "_model_module": "@jupyter-widgets/controls",
            "_model_module_version": "1.5.0",
            "_model_name": "ProgressStyleModel",
            "_view_count": null,
            "_view_module": "@jupyter-widgets/base",
            "_view_module_version": "1.2.0",
            "_view_name": "StyleView",
            "bar_color": null,
            "description_width": ""
          }
        },
<<<<<<< HEAD
        "70275509b5474b5898294f99eecd0414": {
=======
        "92ff05f8f69b4c3fa413aba92a6494b4": {
>>>>>>> 71b6dc6a43491d267ea60d4fa2e2daf492eed1d5
          "model_module": "@jupyter-widgets/base",
          "model_name": "LayoutModel",
          "model_module_version": "1.2.0",
          "state": {
            "_model_module": "@jupyter-widgets/base",
            "_model_module_version": "1.2.0",
            "_model_name": "LayoutModel",
            "_view_count": null,
            "_view_module": "@jupyter-widgets/base",
            "_view_module_version": "1.2.0",
            "_view_name": "LayoutView",
            "align_content": null,
            "align_items": null,
            "align_self": null,
            "border": null,
            "bottom": null,
            "display": null,
            "flex": null,
            "flex_flow": null,
            "grid_area": null,
            "grid_auto_columns": null,
            "grid_auto_flow": null,
            "grid_auto_rows": null,
            "grid_column": null,
            "grid_gap": null,
            "grid_row": null,
            "grid_template_areas": null,
            "grid_template_columns": null,
            "grid_template_rows": null,
            "height": null,
            "justify_content": null,
            "justify_items": null,
            "left": null,
            "margin": null,
            "max_height": null,
            "max_width": null,
            "min_height": null,
            "min_width": null,
            "object_fit": null,
            "object_position": null,
            "order": null,
            "overflow": null,
            "overflow_x": null,
            "overflow_y": null,
            "padding": null,
            "right": null,
            "top": null,
            "visibility": null,
            "width": null
          }
        },
<<<<<<< HEAD
        "0476a120a0f348afa7a29d7211aa5991": {
=======
        "8e2219237aa7442ca69da7887c0749b7": {
>>>>>>> 71b6dc6a43491d267ea60d4fa2e2daf492eed1d5
          "model_module": "@jupyter-widgets/controls",
          "model_name": "DescriptionStyleModel",
          "model_module_version": "1.5.0",
          "state": {
            "_model_module": "@jupyter-widgets/controls",
            "_model_module_version": "1.5.0",
            "_model_name": "DescriptionStyleModel",
            "_view_count": null,
            "_view_module": "@jupyter-widgets/base",
            "_view_module_version": "1.2.0",
            "_view_name": "StyleView",
            "description_width": ""
          }
        },
<<<<<<< HEAD
        "beee442b048a42d19fd99d5b85599a00": {
=======
        "70a26e6ef140496c8da857425d94e661": {
>>>>>>> 71b6dc6a43491d267ea60d4fa2e2daf492eed1d5
          "model_module": "@jupyter-widgets/controls",
          "model_name": "HBoxModel",
          "model_module_version": "1.5.0",
          "state": {
            "_dom_classes": [],
            "_model_module": "@jupyter-widgets/controls",
            "_model_module_version": "1.5.0",
            "_model_name": "HBoxModel",
            "_view_count": null,
            "_view_module": "@jupyter-widgets/controls",
            "_view_module_version": "1.5.0",
            "_view_name": "HBoxView",
            "box_style": "",
            "children": [
<<<<<<< HEAD
              "IPY_MODEL_c1bec425cdee4255940b112266a72857",
              "IPY_MODEL_b98e534211da4721be1d402d1a0ce7ff",
              "IPY_MODEL_946e0822a94643908ecd910fb909816c"
            ],
            "layout": "IPY_MODEL_469302f3fdb045cc8b809385e1d533b8"
          }
        },
        "c1bec425cdee4255940b112266a72857": {
=======
              "IPY_MODEL_248d384e419a4c79876e2765805eeb02",
              "IPY_MODEL_ff1c267ce1244d93b3320fcff343811e",
              "IPY_MODEL_c316b471fe6a4313a2318ffa296ecf59"
            ],
            "layout": "IPY_MODEL_2ba16c22fa08402493ee567c10fd2696"
          }
        },
        "248d384e419a4c79876e2765805eeb02": {
>>>>>>> 71b6dc6a43491d267ea60d4fa2e2daf492eed1d5
          "model_module": "@jupyter-widgets/controls",
          "model_name": "HTMLModel",
          "model_module_version": "1.5.0",
          "state": {
            "_dom_classes": [],
            "_model_module": "@jupyter-widgets/controls",
            "_model_module_version": "1.5.0",
            "_model_name": "HTMLModel",
            "_view_count": null,
            "_view_module": "@jupyter-widgets/controls",
            "_view_module_version": "1.5.0",
            "_view_name": "HTMLView",
            "description": "",
            "description_tooltip": null,
<<<<<<< HEAD
            "layout": "IPY_MODEL_391c2f515076497dadca60bd872f4a0b",
            "placeholder": "​",
            "style": "IPY_MODEL_6920b7af230f4b96b7914bb3ffe76937",
            "value": "Downloading tokenizer.json: 100%"
          }
        },
        "b98e534211da4721be1d402d1a0ce7ff": {
=======
            "layout": "IPY_MODEL_5b3a18906f774edd819e2cf3fbed3356",
            "placeholder": "​",
            "style": "IPY_MODEL_eab7328ae4244e3b8edd739e7a988569",
            "value": "Downloading tokenizer.json: 100%"
          }
        },
        "ff1c267ce1244d93b3320fcff343811e": {
>>>>>>> 71b6dc6a43491d267ea60d4fa2e2daf492eed1d5
          "model_module": "@jupyter-widgets/controls",
          "model_name": "FloatProgressModel",
          "model_module_version": "1.5.0",
          "state": {
            "_dom_classes": [],
            "_model_module": "@jupyter-widgets/controls",
            "_model_module_version": "1.5.0",
            "_model_name": "FloatProgressModel",
            "_view_count": null,
            "_view_module": "@jupyter-widgets/controls",
            "_view_module_version": "1.5.0",
            "_view_name": "ProgressView",
            "bar_style": "success",
            "description": "",
            "description_tooltip": null,
<<<<<<< HEAD
            "layout": "IPY_MODEL_9e7810ce50594b31bd9375e63ea4cb25",
            "max": 466062,
            "min": 0,
            "orientation": "horizontal",
            "style": "IPY_MODEL_82537de5d4a44d51b378130b29a5c7a8",
            "value": 466062
          }
        },
        "946e0822a94643908ecd910fb909816c": {
=======
            "layout": "IPY_MODEL_f2a0c84641484e0c81258b7abef04a5b",
            "max": 466062,
            "min": 0,
            "orientation": "horizontal",
            "style": "IPY_MODEL_5b23c8dede81437b80f6b76c11df4890",
            "value": 466062
          }
        },
        "c316b471fe6a4313a2318ffa296ecf59": {
>>>>>>> 71b6dc6a43491d267ea60d4fa2e2daf492eed1d5
          "model_module": "@jupyter-widgets/controls",
          "model_name": "HTMLModel",
          "model_module_version": "1.5.0",
          "state": {
            "_dom_classes": [],
            "_model_module": "@jupyter-widgets/controls",
            "_model_module_version": "1.5.0",
            "_model_name": "HTMLModel",
            "_view_count": null,
            "_view_module": "@jupyter-widgets/controls",
            "_view_module_version": "1.5.0",
            "_view_name": "HTMLView",
            "description": "",
            "description_tooltip": null,
<<<<<<< HEAD
            "layout": "IPY_MODEL_dc13b9699fd14d4a87fb96677b441514",
            "placeholder": "​",
            "style": "IPY_MODEL_a204c75dcd8b4665b3dbfb0812d015b8",
            "value": " 455k/455k [00:00&lt;00:00, 885kB/s]"
          }
        },
        "469302f3fdb045cc8b809385e1d533b8": {
=======
            "layout": "IPY_MODEL_09bf79779a2140a59229de0830252ee2",
            "placeholder": "​",
            "style": "IPY_MODEL_dfdffd12410f4e29be75651c98ff5522",
            "value": " 455k/455k [00:01&lt;00:00, 522kB/s]"
          }
        },
        "2ba16c22fa08402493ee567c10fd2696": {
>>>>>>> 71b6dc6a43491d267ea60d4fa2e2daf492eed1d5
          "model_module": "@jupyter-widgets/base",
          "model_name": "LayoutModel",
          "model_module_version": "1.2.0",
          "state": {
            "_model_module": "@jupyter-widgets/base",
            "_model_module_version": "1.2.0",
            "_model_name": "LayoutModel",
            "_view_count": null,
            "_view_module": "@jupyter-widgets/base",
            "_view_module_version": "1.2.0",
            "_view_name": "LayoutView",
            "align_content": null,
            "align_items": null,
            "align_self": null,
            "border": null,
            "bottom": null,
            "display": null,
            "flex": null,
            "flex_flow": null,
            "grid_area": null,
            "grid_auto_columns": null,
            "grid_auto_flow": null,
            "grid_auto_rows": null,
            "grid_column": null,
            "grid_gap": null,
            "grid_row": null,
            "grid_template_areas": null,
            "grid_template_columns": null,
            "grid_template_rows": null,
            "height": null,
            "justify_content": null,
            "justify_items": null,
            "left": null,
            "margin": null,
            "max_height": null,
            "max_width": null,
            "min_height": null,
            "min_width": null,
            "object_fit": null,
            "object_position": null,
            "order": null,
            "overflow": null,
            "overflow_x": null,
            "overflow_y": null,
            "padding": null,
            "right": null,
            "top": null,
            "visibility": null,
            "width": null
          }
        },
<<<<<<< HEAD
        "391c2f515076497dadca60bd872f4a0b": {
=======
        "5b3a18906f774edd819e2cf3fbed3356": {
>>>>>>> 71b6dc6a43491d267ea60d4fa2e2daf492eed1d5
          "model_module": "@jupyter-widgets/base",
          "model_name": "LayoutModel",
          "model_module_version": "1.2.0",
          "state": {
            "_model_module": "@jupyter-widgets/base",
            "_model_module_version": "1.2.0",
            "_model_name": "LayoutModel",
            "_view_count": null,
            "_view_module": "@jupyter-widgets/base",
            "_view_module_version": "1.2.0",
            "_view_name": "LayoutView",
            "align_content": null,
            "align_items": null,
            "align_self": null,
            "border": null,
            "bottom": null,
            "display": null,
            "flex": null,
            "flex_flow": null,
            "grid_area": null,
            "grid_auto_columns": null,
            "grid_auto_flow": null,
            "grid_auto_rows": null,
            "grid_column": null,
            "grid_gap": null,
            "grid_row": null,
            "grid_template_areas": null,
            "grid_template_columns": null,
            "grid_template_rows": null,
            "height": null,
            "justify_content": null,
            "justify_items": null,
            "left": null,
            "margin": null,
            "max_height": null,
            "max_width": null,
            "min_height": null,
            "min_width": null,
            "object_fit": null,
            "object_position": null,
            "order": null,
            "overflow": null,
            "overflow_x": null,
            "overflow_y": null,
            "padding": null,
            "right": null,
            "top": null,
            "visibility": null,
            "width": null
          }
        },
<<<<<<< HEAD
        "6920b7af230f4b96b7914bb3ffe76937": {
=======
        "eab7328ae4244e3b8edd739e7a988569": {
>>>>>>> 71b6dc6a43491d267ea60d4fa2e2daf492eed1d5
          "model_module": "@jupyter-widgets/controls",
          "model_name": "DescriptionStyleModel",
          "model_module_version": "1.5.0",
          "state": {
            "_model_module": "@jupyter-widgets/controls",
            "_model_module_version": "1.5.0",
            "_model_name": "DescriptionStyleModel",
            "_view_count": null,
            "_view_module": "@jupyter-widgets/base",
            "_view_module_version": "1.2.0",
            "_view_name": "StyleView",
            "description_width": ""
          }
        },
<<<<<<< HEAD
        "9e7810ce50594b31bd9375e63ea4cb25": {
=======
        "f2a0c84641484e0c81258b7abef04a5b": {
>>>>>>> 71b6dc6a43491d267ea60d4fa2e2daf492eed1d5
          "model_module": "@jupyter-widgets/base",
          "model_name": "LayoutModel",
          "model_module_version": "1.2.0",
          "state": {
            "_model_module": "@jupyter-widgets/base",
            "_model_module_version": "1.2.0",
            "_model_name": "LayoutModel",
            "_view_count": null,
            "_view_module": "@jupyter-widgets/base",
            "_view_module_version": "1.2.0",
            "_view_name": "LayoutView",
            "align_content": null,
            "align_items": null,
            "align_self": null,
            "border": null,
            "bottom": null,
            "display": null,
            "flex": null,
            "flex_flow": null,
            "grid_area": null,
            "grid_auto_columns": null,
            "grid_auto_flow": null,
            "grid_auto_rows": null,
            "grid_column": null,
            "grid_gap": null,
            "grid_row": null,
            "grid_template_areas": null,
            "grid_template_columns": null,
            "grid_template_rows": null,
            "height": null,
            "justify_content": null,
            "justify_items": null,
            "left": null,
            "margin": null,
            "max_height": null,
            "max_width": null,
            "min_height": null,
            "min_width": null,
            "object_fit": null,
            "object_position": null,
            "order": null,
            "overflow": null,
            "overflow_x": null,
            "overflow_y": null,
            "padding": null,
            "right": null,
            "top": null,
            "visibility": null,
            "width": null
          }
        },
<<<<<<< HEAD
        "82537de5d4a44d51b378130b29a5c7a8": {
=======
        "5b23c8dede81437b80f6b76c11df4890": {
>>>>>>> 71b6dc6a43491d267ea60d4fa2e2daf492eed1d5
          "model_module": "@jupyter-widgets/controls",
          "model_name": "ProgressStyleModel",
          "model_module_version": "1.5.0",
          "state": {
            "_model_module": "@jupyter-widgets/controls",
            "_model_module_version": "1.5.0",
            "_model_name": "ProgressStyleModel",
            "_view_count": null,
            "_view_module": "@jupyter-widgets/base",
            "_view_module_version": "1.2.0",
            "_view_name": "StyleView",
            "bar_color": null,
            "description_width": ""
          }
        },
<<<<<<< HEAD
        "dc13b9699fd14d4a87fb96677b441514": {
=======
        "09bf79779a2140a59229de0830252ee2": {
>>>>>>> 71b6dc6a43491d267ea60d4fa2e2daf492eed1d5
          "model_module": "@jupyter-widgets/base",
          "model_name": "LayoutModel",
          "model_module_version": "1.2.0",
          "state": {
            "_model_module": "@jupyter-widgets/base",
            "_model_module_version": "1.2.0",
            "_model_name": "LayoutModel",
            "_view_count": null,
            "_view_module": "@jupyter-widgets/base",
            "_view_module_version": "1.2.0",
            "_view_name": "LayoutView",
            "align_content": null,
            "align_items": null,
            "align_self": null,
            "border": null,
            "bottom": null,
            "display": null,
            "flex": null,
            "flex_flow": null,
            "grid_area": null,
            "grid_auto_columns": null,
            "grid_auto_flow": null,
            "grid_auto_rows": null,
            "grid_column": null,
            "grid_gap": null,
            "grid_row": null,
            "grid_template_areas": null,
            "grid_template_columns": null,
            "grid_template_rows": null,
            "height": null,
            "justify_content": null,
            "justify_items": null,
            "left": null,
            "margin": null,
            "max_height": null,
            "max_width": null,
            "min_height": null,
            "min_width": null,
            "object_fit": null,
            "object_position": null,
            "order": null,
            "overflow": null,
            "overflow_x": null,
            "overflow_y": null,
            "padding": null,
            "right": null,
            "top": null,
            "visibility": null,
            "width": null
          }
        },
<<<<<<< HEAD
        "a204c75dcd8b4665b3dbfb0812d015b8": {
=======
        "dfdffd12410f4e29be75651c98ff5522": {
>>>>>>> 71b6dc6a43491d267ea60d4fa2e2daf492eed1d5
          "model_module": "@jupyter-widgets/controls",
          "model_name": "DescriptionStyleModel",
          "model_module_version": "1.5.0",
          "state": {
            "_model_module": "@jupyter-widgets/controls",
            "_model_module_version": "1.5.0",
            "_model_name": "DescriptionStyleModel",
            "_view_count": null,
            "_view_module": "@jupyter-widgets/base",
            "_view_module_version": "1.2.0",
            "_view_name": "StyleView",
            "description_width": ""
          }
        }
      }
    }
  },
  "cells": [
    {
      "cell_type": "markdown",
      "source": [
        "# How to use\n",
        "\n",
        "Code for UI itself MUST be encapsulated in a separate .py file (cannot run as cells in ipynb).\n",
        "\n",
        "In this notebook, I use `%% writefile app.py` to write a new streamlit .py file to the local venv (you can check with `!ls`).\n",
        "\n",
        "Once your streamlit .py file is ready, to run, skip forward to the last section: **Running streamlit instance**.\n",
        "\n",
        "# Resources\n",
        "\n",
        "[Main page](https://streamlit.io/)\n",
        "\n",
        "[Documentation](https://docs.streamlit.io/library/get-started/main-concepts)\n",
        "\n",
        "[Youtube tutorial](https://github.com/dataprofessor/ml-app)\n",
        "\n",
        "[Linking streamlit and colab](https://medium.com/@jcharistech/how-to-run-streamlit-apps-from-colab-29b969a1bdfc)"
      ],
      "metadata": {
        "id": "zywRdRNwxT21"
      }
    },
    {
      "cell_type": "code",
      "source": [
        "# ignore me\n",
        "!streamlit run https://raw.githubusercontent.com/streamlit/demo-uber-nyc-pickups/master/streamlit_app.py"
      ],
      "metadata": {
        "colab": {
          "base_uri": "https://localhost:8080/"
        },
        "id": "joXkBX4EwO7l",
        "outputId": "88b56505-ee34-4a0b-f97d-359fb9704bf0"
      },
      "execution_count": null,
      "outputs": [
        {
          "output_type": "stream",
          "name": "stdout",
          "text": [
            "2022-07-25 09:49:33.408 INFO    numexpr.utils: NumExpr defaulting to 2 threads.\n",
            "\u001b[0m\n",
            "\u001b[34m\u001b[1m  You can now view your Streamlit app in your browser.\u001b[0m\n",
            "\u001b[0m\n",
            "\u001b[34m  Network URL: \u001b[0m\u001b[1mhttp://172.28.0.2:8501\u001b[0m\n",
            "\u001b[34m  External URL: \u001b[0m\u001b[1mhttp://34.73.210.146:8501\u001b[0m\n",
            "\u001b[0m\n",
            "\u001b[34m  Stopping...\u001b[0m\n",
            "^C\n"
          ]
        }
      ]
    },
    {
      "cell_type": "markdown",
      "source": [
        "# Code for streamlit app starts here"
      ],
      "metadata": {
        "id": "ytwFqFLy9kiA"
      }
    },
    {
      "cell_type": "code",
      "source": [
        "%%writefile requirements.txt\n",
        "\n",
        "#transformers==4.21.0 # for BERT, pytorch already inbuilt to colab\n",
        "transformers==3.1.0\n",
        "streamlit==1.11.1\n",
        "pyngrok==4.1.1 # newer versions don't work"
      ],
      "metadata": {
        "colab": {
          "base_uri": "https://localhost:8080/"
        },
        "id": "v_IzUBMyW-oR",
<<<<<<< HEAD
        "outputId": "2ace3742-c0d5-40ca-d27a-70517e91b92d"
=======
        "outputId": "5e9ec350-fae6-4633-f64c-bff81db49aa0"
>>>>>>> 71b6dc6a43491d267ea60d4fa2e2daf492eed1d5
      },
      "execution_count": 5,
      "outputs": [
        {
          "output_type": "stream",
          "name": "stdout",
          "text": [
            "Overwriting requirements.txt\n"
          ]
        }
      ]
    },
    {
      "cell_type": "code",
      "execution_count": 6,
      "metadata": {
        "colab": {
          "base_uri": "https://localhost:8080/"
        },
        "id": "yZ4RHOCRvujl",
<<<<<<< HEAD
        "outputId": "09604a62-2e8a-4aa9-c26d-ec59095754b7"
=======
        "outputId": "e37e33bd-7dd6-448f-cf39-fa4bdcf2b19f"
>>>>>>> 71b6dc6a43491d267ea60d4fa2e2daf492eed1d5
      },
      "outputs": [
        {
          "output_type": "stream",
          "name": "stdout",
          "text": [
            "Looking in indexes: https://pypi.org/simple, https://us-python.pkg.dev/colab-wheels/public/simple/\n",
<<<<<<< HEAD
            "Requirement already satisfied: transformers==3.1.0 in /usr/local/lib/python3.7/dist-packages (from -r requirements.txt (line 3)) (3.1.0)\n",
            "Requirement already satisfied: streamlit==1.11.1 in /usr/local/lib/python3.7/dist-packages (from -r requirements.txt (line 4)) (1.11.1)\n",
            "Requirement already satisfied: pyngrok==4.1.1 in /usr/local/lib/python3.7/dist-packages (from -r requirements.txt (line 5)) (4.1.1)\n",
            "Requirement already satisfied: filelock in /usr/local/lib/python3.7/dist-packages (from transformers==3.1.0->-r requirements.txt (line 3)) (3.7.1)\n",
            "Requirement already satisfied: tokenizers==0.8.1.rc2 in /usr/local/lib/python3.7/dist-packages (from transformers==3.1.0->-r requirements.txt (line 3)) (0.8.1rc2)\n",
            "Requirement already satisfied: sacremoses in /usr/local/lib/python3.7/dist-packages (from transformers==3.1.0->-r requirements.txt (line 3)) (0.0.53)\n",
            "Requirement already satisfied: packaging in /usr/local/lib/python3.7/dist-packages (from transformers==3.1.0->-r requirements.txt (line 3)) (21.3)\n",
            "Requirement already satisfied: numpy in /usr/local/lib/python3.7/dist-packages (from transformers==3.1.0->-r requirements.txt (line 3)) (1.21.6)\n",
            "Requirement already satisfied: sentencepiece!=0.1.92 in /usr/local/lib/python3.7/dist-packages (from transformers==3.1.0->-r requirements.txt (line 3)) (0.1.97)\n",
            "Requirement already satisfied: tqdm>=4.27 in /usr/local/lib/python3.7/dist-packages (from transformers==3.1.0->-r requirements.txt (line 3)) (4.64.0)\n",
            "Requirement already satisfied: regex!=2019.12.17 in /usr/local/lib/python3.7/dist-packages (from transformers==3.1.0->-r requirements.txt (line 3)) (2022.6.2)\n",
            "Requirement already satisfied: requests in /usr/local/lib/python3.7/dist-packages (from transformers==3.1.0->-r requirements.txt (line 3)) (2.23.0)\n",
            "Requirement already satisfied: watchdog in /usr/local/lib/python3.7/dist-packages (from streamlit==1.11.1->-r requirements.txt (line 4)) (2.1.9)\n",
            "Requirement already satisfied: cachetools>=4.0 in /usr/local/lib/python3.7/dist-packages (from streamlit==1.11.1->-r requirements.txt (line 4)) (4.2.4)\n",
            "Requirement already satisfied: protobuf<4,>=3.12 in /usr/local/lib/python3.7/dist-packages (from streamlit==1.11.1->-r requirements.txt (line 4)) (3.17.3)\n",
            "Requirement already satisfied: pyarrow>=4.0 in /usr/local/lib/python3.7/dist-packages (from streamlit==1.11.1->-r requirements.txt (line 4)) (6.0.1)\n",
            "Requirement already satisfied: pympler>=0.9 in /usr/local/lib/python3.7/dist-packages (from streamlit==1.11.1->-r requirements.txt (line 4)) (1.0.1)\n",
            "Requirement already satisfied: blinker>=1.0.0 in /usr/local/lib/python3.7/dist-packages (from streamlit==1.11.1->-r requirements.txt (line 4)) (1.5)\n",
            "Requirement already satisfied: importlib-metadata>=1.4 in /usr/local/lib/python3.7/dist-packages (from streamlit==1.11.1->-r requirements.txt (line 4)) (4.12.0)\n",
            "Requirement already satisfied: attrs>=16.0.0 in /usr/local/lib/python3.7/dist-packages (from streamlit==1.11.1->-r requirements.txt (line 4)) (22.1.0)\n",
            "Requirement already satisfied: typing-extensions>=3.10.0.0 in /usr/local/lib/python3.7/dist-packages (from streamlit==1.11.1->-r requirements.txt (line 4)) (4.1.1)\n",
            "Requirement already satisfied: toml in /usr/local/lib/python3.7/dist-packages (from streamlit==1.11.1->-r requirements.txt (line 4)) (0.10.2)\n",
            "Requirement already satisfied: rich>=10.11.0 in /usr/local/lib/python3.7/dist-packages (from streamlit==1.11.1->-r requirements.txt (line 4)) (12.5.1)\n",
            "Requirement already satisfied: tornado>=5.0 in /usr/local/lib/python3.7/dist-packages (from streamlit==1.11.1->-r requirements.txt (line 4)) (6.2)\n",
            "Requirement already satisfied: validators>=0.2 in /usr/local/lib/python3.7/dist-packages (from streamlit==1.11.1->-r requirements.txt (line 4)) (0.20.0)\n",
            "Requirement already satisfied: python-dateutil in /usr/local/lib/python3.7/dist-packages (from streamlit==1.11.1->-r requirements.txt (line 4)) (2.8.2)\n",
            "Requirement already satisfied: altair>=3.2.0 in /usr/local/lib/python3.7/dist-packages (from streamlit==1.11.1->-r requirements.txt (line 4)) (4.2.0)\n",
            "Requirement already satisfied: pillow>=6.2.0 in /usr/local/lib/python3.7/dist-packages (from streamlit==1.11.1->-r requirements.txt (line 4)) (7.1.2)\n",
            "Requirement already satisfied: pandas>=0.21.0 in /usr/local/lib/python3.7/dist-packages (from streamlit==1.11.1->-r requirements.txt (line 4)) (1.3.5)\n",
            "Requirement already satisfied: semver in /usr/local/lib/python3.7/dist-packages (from streamlit==1.11.1->-r requirements.txt (line 4)) (2.13.0)\n",
            "Requirement already satisfied: gitpython!=3.1.19 in /usr/local/lib/python3.7/dist-packages (from streamlit==1.11.1->-r requirements.txt (line 4)) (3.1.27)\n",
            "Requirement already satisfied: pydeck>=0.1.dev5 in /usr/local/lib/python3.7/dist-packages (from streamlit==1.11.1->-r requirements.txt (line 4)) (0.7.1)\n",
            "Requirement already satisfied: click>=7.0 in /usr/local/lib/python3.7/dist-packages (from streamlit==1.11.1->-r requirements.txt (line 4)) (7.1.2)\n",
            "Requirement already satisfied: tzlocal>=1.1 in /usr/local/lib/python3.7/dist-packages (from streamlit==1.11.1->-r requirements.txt (line 4)) (1.5.1)\n",
            "Requirement already satisfied: future in /usr/local/lib/python3.7/dist-packages (from pyngrok==4.1.1->-r requirements.txt (line 5)) (0.16.0)\n",
            "Requirement already satisfied: PyYAML in /usr/local/lib/python3.7/dist-packages (from pyngrok==4.1.1->-r requirements.txt (line 5)) (6.0)\n",
            "Requirement already satisfied: toolz in /usr/local/lib/python3.7/dist-packages (from altair>=3.2.0->streamlit==1.11.1->-r requirements.txt (line 4)) (0.12.0)\n",
            "Requirement already satisfied: entrypoints in /usr/local/lib/python3.7/dist-packages (from altair>=3.2.0->streamlit==1.11.1->-r requirements.txt (line 4)) (0.4)\n",
            "Requirement already satisfied: jinja2 in /usr/local/lib/python3.7/dist-packages (from altair>=3.2.0->streamlit==1.11.1->-r requirements.txt (line 4)) (2.11.3)\n",
            "Requirement already satisfied: jsonschema>=3.0 in /usr/local/lib/python3.7/dist-packages (from altair>=3.2.0->streamlit==1.11.1->-r requirements.txt (line 4)) (4.3.3)\n",
            "Requirement already satisfied: gitdb<5,>=4.0.1 in /usr/local/lib/python3.7/dist-packages (from gitpython!=3.1.19->streamlit==1.11.1->-r requirements.txt (line 4)) (4.0.9)\n",
            "Requirement already satisfied: smmap<6,>=3.0.1 in /usr/local/lib/python3.7/dist-packages (from gitdb<5,>=4.0.1->gitpython!=3.1.19->streamlit==1.11.1->-r requirements.txt (line 4)) (5.0.0)\n",
            "Requirement already satisfied: zipp>=0.5 in /usr/local/lib/python3.7/dist-packages (from importlib-metadata>=1.4->streamlit==1.11.1->-r requirements.txt (line 4)) (3.8.1)\n",
            "Requirement already satisfied: pyrsistent!=0.17.0,!=0.17.1,!=0.17.2,>=0.14.0 in /usr/local/lib/python3.7/dist-packages (from jsonschema>=3.0->altair>=3.2.0->streamlit==1.11.1->-r requirements.txt (line 4)) (0.18.1)\n",
            "Requirement already satisfied: importlib-resources>=1.4.0 in /usr/local/lib/python3.7/dist-packages (from jsonschema>=3.0->altair>=3.2.0->streamlit==1.11.1->-r requirements.txt (line 4)) (5.9.0)\n",
            "Requirement already satisfied: pyparsing!=3.0.5,>=2.0.2 in /usr/local/lib/python3.7/dist-packages (from packaging->transformers==3.1.0->-r requirements.txt (line 3)) (3.0.9)\n",
            "Requirement already satisfied: pytz>=2017.3 in /usr/local/lib/python3.7/dist-packages (from pandas>=0.21.0->streamlit==1.11.1->-r requirements.txt (line 4)) (2022.1)\n",
            "Requirement already satisfied: six>=1.9 in /usr/local/lib/python3.7/dist-packages (from protobuf<4,>=3.12->streamlit==1.11.1->-r requirements.txt (line 4)) (1.15.0)\n",
            "Requirement already satisfied: ipykernel>=5.1.2 in /usr/local/lib/python3.7/dist-packages (from pydeck>=0.1.dev5->streamlit==1.11.1->-r requirements.txt (line 4)) (6.15.1)\n",
            "Requirement already satisfied: ipywidgets>=7.0.0 in /usr/local/lib/python3.7/dist-packages (from pydeck>=0.1.dev5->streamlit==1.11.1->-r requirements.txt (line 4)) (7.7.1)\n",
            "Requirement already satisfied: traitlets>=4.3.2 in /usr/local/lib/python3.7/dist-packages (from pydeck>=0.1.dev5->streamlit==1.11.1->-r requirements.txt (line 4)) (5.1.1)\n",
            "Requirement already satisfied: psutil in /usr/local/lib/python3.7/dist-packages (from ipykernel>=5.1.2->pydeck>=0.1.dev5->streamlit==1.11.1->-r requirements.txt (line 4)) (5.4.8)\n",
            "Requirement already satisfied: ipython>=7.23.1 in /usr/local/lib/python3.7/dist-packages (from ipykernel>=5.1.2->pydeck>=0.1.dev5->streamlit==1.11.1->-r requirements.txt (line 4)) (7.34.0)\n",
            "Requirement already satisfied: nest-asyncio in /usr/local/lib/python3.7/dist-packages (from ipykernel>=5.1.2->pydeck>=0.1.dev5->streamlit==1.11.1->-r requirements.txt (line 4)) (1.5.5)\n",
            "Requirement already satisfied: debugpy>=1.0 in /usr/local/lib/python3.7/dist-packages (from ipykernel>=5.1.2->pydeck>=0.1.dev5->streamlit==1.11.1->-r requirements.txt (line 4)) (1.0.0)\n",
            "Requirement already satisfied: pyzmq>=17 in /usr/local/lib/python3.7/dist-packages (from ipykernel>=5.1.2->pydeck>=0.1.dev5->streamlit==1.11.1->-r requirements.txt (line 4)) (23.2.0)\n",
            "Requirement already satisfied: matplotlib-inline>=0.1 in /usr/local/lib/python3.7/dist-packages (from ipykernel>=5.1.2->pydeck>=0.1.dev5->streamlit==1.11.1->-r requirements.txt (line 4)) (0.1.3)\n",
            "Requirement already satisfied: jupyter-client>=6.1.12 in /usr/local/lib/python3.7/dist-packages (from ipykernel>=5.1.2->pydeck>=0.1.dev5->streamlit==1.11.1->-r requirements.txt (line 4)) (7.3.4)\n",
            "Requirement already satisfied: setuptools>=18.5 in /usr/local/lib/python3.7/dist-packages (from ipython>=7.23.1->ipykernel>=5.1.2->pydeck>=0.1.dev5->streamlit==1.11.1->-r requirements.txt (line 4)) (57.4.0)\n",
            "Requirement already satisfied: pexpect>4.3 in /usr/local/lib/python3.7/dist-packages (from ipython>=7.23.1->ipykernel>=5.1.2->pydeck>=0.1.dev5->streamlit==1.11.1->-r requirements.txt (line 4)) (4.8.0)\n",
            "Requirement already satisfied: decorator in /usr/local/lib/python3.7/dist-packages (from ipython>=7.23.1->ipykernel>=5.1.2->pydeck>=0.1.dev5->streamlit==1.11.1->-r requirements.txt (line 4)) (4.4.2)\n",
            "Requirement already satisfied: prompt-toolkit!=3.0.0,!=3.0.1,<3.1.0,>=2.0.0 in /usr/local/lib/python3.7/dist-packages (from ipython>=7.23.1->ipykernel>=5.1.2->pydeck>=0.1.dev5->streamlit==1.11.1->-r requirements.txt (line 4)) (3.0.30)\n",
            "Requirement already satisfied: pickleshare in /usr/local/lib/python3.7/dist-packages (from ipython>=7.23.1->ipykernel>=5.1.2->pydeck>=0.1.dev5->streamlit==1.11.1->-r requirements.txt (line 4)) (0.7.5)\n",
            "Requirement already satisfied: pygments in /usr/local/lib/python3.7/dist-packages (from ipython>=7.23.1->ipykernel>=5.1.2->pydeck>=0.1.dev5->streamlit==1.11.1->-r requirements.txt (line 4)) (2.6.1)\n",
            "Requirement already satisfied: backcall in /usr/local/lib/python3.7/dist-packages (from ipython>=7.23.1->ipykernel>=5.1.2->pydeck>=0.1.dev5->streamlit==1.11.1->-r requirements.txt (line 4)) (0.2.0)\n",
            "Requirement already satisfied: jedi>=0.16 in /usr/local/lib/python3.7/dist-packages (from ipython>=7.23.1->ipykernel>=5.1.2->pydeck>=0.1.dev5->streamlit==1.11.1->-r requirements.txt (line 4)) (0.18.1)\n",
            "Requirement already satisfied: widgetsnbextension~=3.6.0 in /usr/local/lib/python3.7/dist-packages (from ipywidgets>=7.0.0->pydeck>=0.1.dev5->streamlit==1.11.1->-r requirements.txt (line 4)) (3.6.1)\n",
            "Requirement already satisfied: ipython-genutils~=0.2.0 in /usr/local/lib/python3.7/dist-packages (from ipywidgets>=7.0.0->pydeck>=0.1.dev5->streamlit==1.11.1->-r requirements.txt (line 4)) (0.2.0)\n",
            "Requirement already satisfied: jupyterlab-widgets>=1.0.0 in /usr/local/lib/python3.7/dist-packages (from ipywidgets>=7.0.0->pydeck>=0.1.dev5->streamlit==1.11.1->-r requirements.txt (line 4)) (1.1.1)\n",
            "Requirement already satisfied: parso<0.9.0,>=0.8.0 in /usr/local/lib/python3.7/dist-packages (from jedi>=0.16->ipython>=7.23.1->ipykernel>=5.1.2->pydeck>=0.1.dev5->streamlit==1.11.1->-r requirements.txt (line 4)) (0.8.3)\n",
            "Requirement already satisfied: MarkupSafe>=0.23 in /usr/local/lib/python3.7/dist-packages (from jinja2->altair>=3.2.0->streamlit==1.11.1->-r requirements.txt (line 4)) (2.0.1)\n",
            "Requirement already satisfied: jupyter-core>=4.9.2 in /usr/local/lib/python3.7/dist-packages (from jupyter-client>=6.1.12->ipykernel>=5.1.2->pydeck>=0.1.dev5->streamlit==1.11.1->-r requirements.txt (line 4)) (4.11.1)\n",
            "Requirement already satisfied: ptyprocess>=0.5 in /usr/local/lib/python3.7/dist-packages (from pexpect>4.3->ipython>=7.23.1->ipykernel>=5.1.2->pydeck>=0.1.dev5->streamlit==1.11.1->-r requirements.txt (line 4)) (0.7.0)\n",
            "Requirement already satisfied: wcwidth in /usr/local/lib/python3.7/dist-packages (from prompt-toolkit!=3.0.0,!=3.0.1,<3.1.0,>=2.0.0->ipython>=7.23.1->ipykernel>=5.1.2->pydeck>=0.1.dev5->streamlit==1.11.1->-r requirements.txt (line 4)) (0.2.5)\n",
            "Requirement already satisfied: urllib3!=1.25.0,!=1.25.1,<1.26,>=1.21.1 in /usr/local/lib/python3.7/dist-packages (from requests->transformers==3.1.0->-r requirements.txt (line 3)) (1.24.3)\n",
            "Requirement already satisfied: certifi>=2017.4.17 in /usr/local/lib/python3.7/dist-packages (from requests->transformers==3.1.0->-r requirements.txt (line 3)) (2022.6.15)\n",
            "Requirement already satisfied: chardet<4,>=3.0.2 in /usr/local/lib/python3.7/dist-packages (from requests->transformers==3.1.0->-r requirements.txt (line 3)) (3.0.4)\n",
            "Requirement already satisfied: idna<3,>=2.5 in /usr/local/lib/python3.7/dist-packages (from requests->transformers==3.1.0->-r requirements.txt (line 3)) (2.10)\n",
            "Requirement already satisfied: commonmark<0.10.0,>=0.9.0 in /usr/local/lib/python3.7/dist-packages (from rich>=10.11.0->streamlit==1.11.1->-r requirements.txt (line 4)) (0.9.1)\n",
            "Requirement already satisfied: notebook>=4.4.1 in /usr/local/lib/python3.7/dist-packages (from widgetsnbextension~=3.6.0->ipywidgets>=7.0.0->pydeck>=0.1.dev5->streamlit==1.11.1->-r requirements.txt (line 4)) (5.3.1)\n",
            "Requirement already satisfied: Send2Trash in /usr/local/lib/python3.7/dist-packages (from notebook>=4.4.1->widgetsnbextension~=3.6.0->ipywidgets>=7.0.0->pydeck>=0.1.dev5->streamlit==1.11.1->-r requirements.txt (line 4)) (1.8.0)\n",
            "Requirement already satisfied: terminado>=0.8.1 in /usr/local/lib/python3.7/dist-packages (from notebook>=4.4.1->widgetsnbextension~=3.6.0->ipywidgets>=7.0.0->pydeck>=0.1.dev5->streamlit==1.11.1->-r requirements.txt (line 4)) (0.13.3)\n",
            "Requirement already satisfied: nbconvert in /usr/local/lib/python3.7/dist-packages (from notebook>=4.4.1->widgetsnbextension~=3.6.0->ipywidgets>=7.0.0->pydeck>=0.1.dev5->streamlit==1.11.1->-r requirements.txt (line 4)) (5.6.1)\n",
            "Requirement already satisfied: nbformat in /usr/local/lib/python3.7/dist-packages (from notebook>=4.4.1->widgetsnbextension~=3.6.0->ipywidgets>=7.0.0->pydeck>=0.1.dev5->streamlit==1.11.1->-r requirements.txt (line 4)) (5.4.0)\n",
            "Requirement already satisfied: mistune<2,>=0.8.1 in /usr/local/lib/python3.7/dist-packages (from nbconvert->notebook>=4.4.1->widgetsnbextension~=3.6.0->ipywidgets>=7.0.0->pydeck>=0.1.dev5->streamlit==1.11.1->-r requirements.txt (line 4)) (0.8.4)\n",
            "Requirement already satisfied: defusedxml in /usr/local/lib/python3.7/dist-packages (from nbconvert->notebook>=4.4.1->widgetsnbextension~=3.6.0->ipywidgets>=7.0.0->pydeck>=0.1.dev5->streamlit==1.11.1->-r requirements.txt (line 4)) (0.7.1)\n",
            "Requirement already satisfied: bleach in /usr/local/lib/python3.7/dist-packages (from nbconvert->notebook>=4.4.1->widgetsnbextension~=3.6.0->ipywidgets>=7.0.0->pydeck>=0.1.dev5->streamlit==1.11.1->-r requirements.txt (line 4)) (5.0.1)\n",
            "Requirement already satisfied: pandocfilters>=1.4.1 in /usr/local/lib/python3.7/dist-packages (from nbconvert->notebook>=4.4.1->widgetsnbextension~=3.6.0->ipywidgets>=7.0.0->pydeck>=0.1.dev5->streamlit==1.11.1->-r requirements.txt (line 4)) (1.5.0)\n",
            "Requirement already satisfied: testpath in /usr/local/lib/python3.7/dist-packages (from nbconvert->notebook>=4.4.1->widgetsnbextension~=3.6.0->ipywidgets>=7.0.0->pydeck>=0.1.dev5->streamlit==1.11.1->-r requirements.txt (line 4)) (0.6.0)\n",
            "Requirement already satisfied: fastjsonschema in /usr/local/lib/python3.7/dist-packages (from nbformat->notebook>=4.4.1->widgetsnbextension~=3.6.0->ipywidgets>=7.0.0->pydeck>=0.1.dev5->streamlit==1.11.1->-r requirements.txt (line 4)) (2.16.1)\n",
            "Requirement already satisfied: webencodings in /usr/local/lib/python3.7/dist-packages (from bleach->nbconvert->notebook>=4.4.1->widgetsnbextension~=3.6.0->ipywidgets>=7.0.0->pydeck>=0.1.dev5->streamlit==1.11.1->-r requirements.txt (line 4)) (0.5.1)\n",
            "Requirement already satisfied: joblib in /usr/local/lib/python3.7/dist-packages (from sacremoses->transformers==3.1.0->-r requirements.txt (line 3)) (1.1.0)\n"
          ]
=======
            "Collecting transformers==4.21.0\n",
            "  Downloading transformers-4.21.0-py3-none-any.whl (4.7 MB)\n",
            "\u001b[K     |████████████████████████████████| 4.7 MB 33.0 MB/s \n",
            "\u001b[?25hCollecting streamlit==1.11.1\n",
            "  Downloading streamlit-1.11.1-py2.py3-none-any.whl (9.1 MB)\n",
            "\u001b[K     |████████████████████████████████| 9.1 MB 23.4 MB/s \n",
            "\u001b[?25hCollecting pyngrok==4.1.1\n",
            "  Downloading pyngrok-4.1.1.tar.gz (18 kB)\n",
            "Requirement already satisfied: requests in /usr/local/lib/python3.7/dist-packages (from transformers==4.21.0->-r requirements.txt (line 2)) (2.23.0)\n",
            "Requirement already satisfied: importlib-metadata in /usr/local/lib/python3.7/dist-packages (from transformers==4.21.0->-r requirements.txt (line 2)) (4.12.0)\n",
            "Requirement already satisfied: filelock in /usr/local/lib/python3.7/dist-packages (from transformers==4.21.0->-r requirements.txt (line 2)) (3.7.1)\n",
            "Requirement already satisfied: huggingface-hub<1.0,>=0.1.0 in /usr/local/lib/python3.7/dist-packages (from transformers==4.21.0->-r requirements.txt (line 2)) (0.8.1)\n",
            "Requirement already satisfied: tokenizers!=0.11.3,<0.13,>=0.11.1 in /usr/local/lib/python3.7/dist-packages (from transformers==4.21.0->-r requirements.txt (line 2)) (0.12.1)\n",
            "Requirement already satisfied: packaging>=20.0 in /usr/local/lib/python3.7/dist-packages (from transformers==4.21.0->-r requirements.txt (line 2)) (21.3)\n",
            "Requirement already satisfied: regex!=2019.12.17 in /usr/local/lib/python3.7/dist-packages (from transformers==4.21.0->-r requirements.txt (line 2)) (2022.6.2)\n",
            "Requirement already satisfied: tqdm>=4.27 in /usr/local/lib/python3.7/dist-packages (from transformers==4.21.0->-r requirements.txt (line 2)) (4.64.0)\n",
            "Requirement already satisfied: numpy>=1.17 in /usr/local/lib/python3.7/dist-packages (from transformers==4.21.0->-r requirements.txt (line 2)) (1.21.6)\n",
            "Requirement already satisfied: pyyaml>=5.1 in /usr/local/lib/python3.7/dist-packages (from transformers==4.21.0->-r requirements.txt (line 2)) (6.0)\n",
            "Requirement already satisfied: typing-extensions>=3.10.0.0 in /usr/local/lib/python3.7/dist-packages (from streamlit==1.11.1->-r requirements.txt (line 3)) (4.1.1)\n",
            "Requirement already satisfied: click>=7.0 in /usr/local/lib/python3.7/dist-packages (from streamlit==1.11.1->-r requirements.txt (line 3)) (7.1.2)\n",
            "Requirement already satisfied: pandas>=0.21.0 in /usr/local/lib/python3.7/dist-packages (from streamlit==1.11.1->-r requirements.txt (line 3)) (1.3.5)\n",
            "Requirement already satisfied: semver in /usr/local/lib/python3.7/dist-packages (from streamlit==1.11.1->-r requirements.txt (line 3)) (2.13.0)\n",
            "Requirement already satisfied: python-dateutil in /usr/local/lib/python3.7/dist-packages (from streamlit==1.11.1->-r requirements.txt (line 3)) (2.8.2)\n",
            "Requirement already satisfied: tzlocal>=1.1 in /usr/local/lib/python3.7/dist-packages (from streamlit==1.11.1->-r requirements.txt (line 3)) (1.5.1)\n",
            "Requirement already satisfied: cachetools>=4.0 in /usr/local/lib/python3.7/dist-packages (from streamlit==1.11.1->-r requirements.txt (line 3)) (4.2.4)\n",
            "Requirement already satisfied: toml in /usr/local/lib/python3.7/dist-packages (from streamlit==1.11.1->-r requirements.txt (line 3)) (0.10.2)\n",
            "Collecting validators>=0.2\n",
            "  Downloading validators-0.20.0.tar.gz (30 kB)\n",
            "Collecting gitpython!=3.1.19\n",
            "  Downloading GitPython-3.1.27-py3-none-any.whl (181 kB)\n",
            "\u001b[K     |████████████████████████████████| 181 kB 61.6 MB/s \n",
            "\u001b[?25hCollecting pydeck>=0.1.dev5\n",
            "  Downloading pydeck-0.7.1-py2.py3-none-any.whl (4.3 MB)\n",
            "\u001b[K     |████████████████████████████████| 4.3 MB 39.7 MB/s \n",
            "\u001b[?25hRequirement already satisfied: pyarrow>=4.0 in /usr/local/lib/python3.7/dist-packages (from streamlit==1.11.1->-r requirements.txt (line 3)) (6.0.1)\n",
            "Requirement already satisfied: altair>=3.2.0 in /usr/local/lib/python3.7/dist-packages (from streamlit==1.11.1->-r requirements.txt (line 3)) (4.2.0)\n",
            "Requirement already satisfied: protobuf<4,>=3.12 in /usr/local/lib/python3.7/dist-packages (from streamlit==1.11.1->-r requirements.txt (line 3)) (3.17.3)\n",
            "Requirement already satisfied: pillow>=6.2.0 in /usr/local/lib/python3.7/dist-packages (from streamlit==1.11.1->-r requirements.txt (line 3)) (7.1.2)\n",
            "Requirement already satisfied: attrs>=16.0.0 in /usr/local/lib/python3.7/dist-packages (from streamlit==1.11.1->-r requirements.txt (line 3)) (22.1.0)\n",
            "Collecting rich>=10.11.0\n",
            "  Downloading rich-12.5.1-py3-none-any.whl (235 kB)\n",
            "\u001b[K     |████████████████████████████████| 235 kB 73.3 MB/s \n",
            "\u001b[?25hCollecting watchdog\n",
            "  Downloading watchdog-2.1.9-py3-none-manylinux2014_x86_64.whl (78 kB)\n",
            "\u001b[K     |████████████████████████████████| 78 kB 9.3 MB/s \n",
            "\u001b[?25hCollecting pympler>=0.9\n",
            "  Downloading Pympler-1.0.1-py3-none-any.whl (164 kB)\n",
            "\u001b[K     |████████████████████████████████| 164 kB 76.2 MB/s \n",
            "\u001b[?25hCollecting blinker>=1.0.0\n",
            "  Downloading blinker-1.5-py2.py3-none-any.whl (12 kB)\n",
            "Requirement already satisfied: tornado>=5.0 in /usr/local/lib/python3.7/dist-packages (from streamlit==1.11.1->-r requirements.txt (line 3)) (5.1.1)\n",
            "Requirement already satisfied: future in /usr/local/lib/python3.7/dist-packages (from pyngrok==4.1.1->-r requirements.txt (line 4)) (0.16.0)\n",
            "Requirement already satisfied: jinja2 in /usr/local/lib/python3.7/dist-packages (from altair>=3.2.0->streamlit==1.11.1->-r requirements.txt (line 3)) (2.11.3)\n",
            "Requirement already satisfied: entrypoints in /usr/local/lib/python3.7/dist-packages (from altair>=3.2.0->streamlit==1.11.1->-r requirements.txt (line 3)) (0.4)\n",
            "Requirement already satisfied: toolz in /usr/local/lib/python3.7/dist-packages (from altair>=3.2.0->streamlit==1.11.1->-r requirements.txt (line 3)) (0.12.0)\n",
            "Requirement already satisfied: jsonschema>=3.0 in /usr/local/lib/python3.7/dist-packages (from altair>=3.2.0->streamlit==1.11.1->-r requirements.txt (line 3)) (4.3.3)\n",
            "Collecting gitdb<5,>=4.0.1\n",
            "  Downloading gitdb-4.0.9-py3-none-any.whl (63 kB)\n",
            "\u001b[K     |████████████████████████████████| 63 kB 2.2 MB/s \n",
            "\u001b[?25hCollecting smmap<6,>=3.0.1\n",
            "  Downloading smmap-5.0.0-py3-none-any.whl (24 kB)\n",
            "Requirement already satisfied: zipp>=0.5 in /usr/local/lib/python3.7/dist-packages (from importlib-metadata->transformers==4.21.0->-r requirements.txt (line 2)) (3.8.1)\n",
            "Requirement already satisfied: importlib-resources>=1.4.0 in /usr/local/lib/python3.7/dist-packages (from jsonschema>=3.0->altair>=3.2.0->streamlit==1.11.1->-r requirements.txt (line 3)) (5.9.0)\n",
            "Requirement already satisfied: pyrsistent!=0.17.0,!=0.17.1,!=0.17.2,>=0.14.0 in /usr/local/lib/python3.7/dist-packages (from jsonschema>=3.0->altair>=3.2.0->streamlit==1.11.1->-r requirements.txt (line 3)) (0.18.1)\n",
            "Requirement already satisfied: pyparsing!=3.0.5,>=2.0.2 in /usr/local/lib/python3.7/dist-packages (from packaging>=20.0->transformers==4.21.0->-r requirements.txt (line 2)) (3.0.9)\n",
            "Requirement already satisfied: pytz>=2017.3 in /usr/local/lib/python3.7/dist-packages (from pandas>=0.21.0->streamlit==1.11.1->-r requirements.txt (line 3)) (2022.1)\n",
            "Requirement already satisfied: six>=1.9 in /usr/local/lib/python3.7/dist-packages (from protobuf<4,>=3.12->streamlit==1.11.1->-r requirements.txt (line 3)) (1.15.0)\n",
            "Requirement already satisfied: traitlets>=4.3.2 in /usr/local/lib/python3.7/dist-packages (from pydeck>=0.1.dev5->streamlit==1.11.1->-r requirements.txt (line 3)) (5.1.1)\n",
            "Collecting ipykernel>=5.1.2\n",
            "  Downloading ipykernel-6.15.1-py3-none-any.whl (132 kB)\n",
            "\u001b[K     |████████████████████████████████| 132 kB 72.9 MB/s \n",
            "\u001b[?25hRequirement already satisfied: ipywidgets>=7.0.0 in /usr/local/lib/python3.7/dist-packages (from pydeck>=0.1.dev5->streamlit==1.11.1->-r requirements.txt (line 3)) (7.7.1)\n",
            "Requirement already satisfied: pyzmq>=17 in /usr/local/lib/python3.7/dist-packages (from ipykernel>=5.1.2->pydeck>=0.1.dev5->streamlit==1.11.1->-r requirements.txt (line 3)) (23.2.0)\n",
            "Collecting jupyter-client>=6.1.12\n",
            "  Downloading jupyter_client-7.3.4-py3-none-any.whl (132 kB)\n",
            "\u001b[K     |████████████████████████████████| 132 kB 73.7 MB/s \n",
            "\u001b[?25hRequirement already satisfied: debugpy>=1.0 in /usr/local/lib/python3.7/dist-packages (from ipykernel>=5.1.2->pydeck>=0.1.dev5->streamlit==1.11.1->-r requirements.txt (line 3)) (1.0.0)\n",
            "Requirement already satisfied: matplotlib-inline>=0.1 in /usr/local/lib/python3.7/dist-packages (from ipykernel>=5.1.2->pydeck>=0.1.dev5->streamlit==1.11.1->-r requirements.txt (line 3)) (0.1.3)\n",
            "Requirement already satisfied: nest-asyncio in /usr/local/lib/python3.7/dist-packages (from ipykernel>=5.1.2->pydeck>=0.1.dev5->streamlit==1.11.1->-r requirements.txt (line 3)) (1.5.5)\n",
            "Collecting tornado>=5.0\n",
            "  Downloading tornado-6.2-cp37-abi3-manylinux_2_5_x86_64.manylinux1_x86_64.manylinux_2_17_x86_64.manylinux2014_x86_64.whl (423 kB)\n",
            "\u001b[K     |████████████████████████████████| 423 kB 74.6 MB/s \n",
            "\u001b[?25hCollecting ipython>=7.23.1\n",
            "  Downloading ipython-7.34.0-py3-none-any.whl (793 kB)\n",
            "\u001b[K     |████████████████████████████████| 793 kB 57.7 MB/s \n",
            "\u001b[?25hRequirement already satisfied: psutil in /usr/local/lib/python3.7/dist-packages (from ipykernel>=5.1.2->pydeck>=0.1.dev5->streamlit==1.11.1->-r requirements.txt (line 3)) (5.4.8)\n",
            "Collecting prompt-toolkit!=3.0.0,!=3.0.1,<3.1.0,>=2.0.0\n",
            "  Downloading prompt_toolkit-3.0.30-py3-none-any.whl (381 kB)\n",
            "\u001b[K     |████████████████████████████████| 381 kB 73.3 MB/s \n",
            "\u001b[?25hRequirement already satisfied: setuptools>=18.5 in /usr/local/lib/python3.7/dist-packages (from ipython>=7.23.1->ipykernel>=5.1.2->pydeck>=0.1.dev5->streamlit==1.11.1->-r requirements.txt (line 3)) (57.4.0)\n",
            "Requirement already satisfied: decorator in /usr/local/lib/python3.7/dist-packages (from ipython>=7.23.1->ipykernel>=5.1.2->pydeck>=0.1.dev5->streamlit==1.11.1->-r requirements.txt (line 3)) (4.4.2)\n",
            "Requirement already satisfied: jedi>=0.16 in /usr/local/lib/python3.7/dist-packages (from ipython>=7.23.1->ipykernel>=5.1.2->pydeck>=0.1.dev5->streamlit==1.11.1->-r requirements.txt (line 3)) (0.18.1)\n",
            "Requirement already satisfied: backcall in /usr/local/lib/python3.7/dist-packages (from ipython>=7.23.1->ipykernel>=5.1.2->pydeck>=0.1.dev5->streamlit==1.11.1->-r requirements.txt (line 3)) (0.2.0)\n",
            "Requirement already satisfied: pexpect>4.3 in /usr/local/lib/python3.7/dist-packages (from ipython>=7.23.1->ipykernel>=5.1.2->pydeck>=0.1.dev5->streamlit==1.11.1->-r requirements.txt (line 3)) (4.8.0)\n",
            "Requirement already satisfied: pygments in /usr/local/lib/python3.7/dist-packages (from ipython>=7.23.1->ipykernel>=5.1.2->pydeck>=0.1.dev5->streamlit==1.11.1->-r requirements.txt (line 3)) (2.6.1)\n",
            "Requirement already satisfied: pickleshare in /usr/local/lib/python3.7/dist-packages (from ipython>=7.23.1->ipykernel>=5.1.2->pydeck>=0.1.dev5->streamlit==1.11.1->-r requirements.txt (line 3)) (0.7.5)\n",
            "Requirement already satisfied: ipython-genutils~=0.2.0 in /usr/local/lib/python3.7/dist-packages (from ipywidgets>=7.0.0->pydeck>=0.1.dev5->streamlit==1.11.1->-r requirements.txt (line 3)) (0.2.0)\n",
            "Requirement already satisfied: widgetsnbextension~=3.6.0 in /usr/local/lib/python3.7/dist-packages (from ipywidgets>=7.0.0->pydeck>=0.1.dev5->streamlit==1.11.1->-r requirements.txt (line 3)) (3.6.1)\n",
            "Requirement already satisfied: jupyterlab-widgets>=1.0.0 in /usr/local/lib/python3.7/dist-packages (from ipywidgets>=7.0.0->pydeck>=0.1.dev5->streamlit==1.11.1->-r requirements.txt (line 3)) (1.1.1)\n",
            "Requirement already satisfied: parso<0.9.0,>=0.8.0 in /usr/local/lib/python3.7/dist-packages (from jedi>=0.16->ipython>=7.23.1->ipykernel>=5.1.2->pydeck>=0.1.dev5->streamlit==1.11.1->-r requirements.txt (line 3)) (0.8.3)\n",
            "Requirement already satisfied: MarkupSafe>=0.23 in /usr/local/lib/python3.7/dist-packages (from jinja2->altair>=3.2.0->streamlit==1.11.1->-r requirements.txt (line 3)) (2.0.1)\n",
            "Requirement already satisfied: jupyter-core>=4.9.2 in /usr/local/lib/python3.7/dist-packages (from jupyter-client>=6.1.12->ipykernel>=5.1.2->pydeck>=0.1.dev5->streamlit==1.11.1->-r requirements.txt (line 3)) (4.11.1)\n",
            "Requirement already satisfied: ptyprocess>=0.5 in /usr/local/lib/python3.7/dist-packages (from pexpect>4.3->ipython>=7.23.1->ipykernel>=5.1.2->pydeck>=0.1.dev5->streamlit==1.11.1->-r requirements.txt (line 3)) (0.7.0)\n",
            "Requirement already satisfied: wcwidth in /usr/local/lib/python3.7/dist-packages (from prompt-toolkit!=3.0.0,!=3.0.1,<3.1.0,>=2.0.0->ipython>=7.23.1->ipykernel>=5.1.2->pydeck>=0.1.dev5->streamlit==1.11.1->-r requirements.txt (line 3)) (0.2.5)\n",
            "Requirement already satisfied: idna<3,>=2.5 in /usr/local/lib/python3.7/dist-packages (from requests->transformers==4.21.0->-r requirements.txt (line 2)) (2.10)\n",
            "Requirement already satisfied: certifi>=2017.4.17 in /usr/local/lib/python3.7/dist-packages (from requests->transformers==4.21.0->-r requirements.txt (line 2)) (2022.6.15)\n",
            "Requirement already satisfied: chardet<4,>=3.0.2 in /usr/local/lib/python3.7/dist-packages (from requests->transformers==4.21.0->-r requirements.txt (line 2)) (3.0.4)\n",
            "Requirement already satisfied: urllib3!=1.25.0,!=1.25.1,<1.26,>=1.21.1 in /usr/local/lib/python3.7/dist-packages (from requests->transformers==4.21.0->-r requirements.txt (line 2)) (1.24.3)\n",
            "Collecting commonmark<0.10.0,>=0.9.0\n",
            "  Downloading commonmark-0.9.1-py2.py3-none-any.whl (51 kB)\n",
            "\u001b[K     |████████████████████████████████| 51 kB 8.8 MB/s \n",
            "\u001b[?25hRequirement already satisfied: notebook>=4.4.1 in /usr/local/lib/python3.7/dist-packages (from widgetsnbextension~=3.6.0->ipywidgets>=7.0.0->pydeck>=0.1.dev5->streamlit==1.11.1->-r requirements.txt (line 3)) (5.3.1)\n",
            "Requirement already satisfied: Send2Trash in /usr/local/lib/python3.7/dist-packages (from notebook>=4.4.1->widgetsnbextension~=3.6.0->ipywidgets>=7.0.0->pydeck>=0.1.dev5->streamlit==1.11.1->-r requirements.txt (line 3)) (1.8.0)\n",
            "Requirement already satisfied: nbformat in /usr/local/lib/python3.7/dist-packages (from notebook>=4.4.1->widgetsnbextension~=3.6.0->ipywidgets>=7.0.0->pydeck>=0.1.dev5->streamlit==1.11.1->-r requirements.txt (line 3)) (5.4.0)\n",
            "Requirement already satisfied: nbconvert in /usr/local/lib/python3.7/dist-packages (from notebook>=4.4.1->widgetsnbextension~=3.6.0->ipywidgets>=7.0.0->pydeck>=0.1.dev5->streamlit==1.11.1->-r requirements.txt (line 3)) (5.6.1)\n",
            "Requirement already satisfied: terminado>=0.8.1 in /usr/local/lib/python3.7/dist-packages (from notebook>=4.4.1->widgetsnbextension~=3.6.0->ipywidgets>=7.0.0->pydeck>=0.1.dev5->streamlit==1.11.1->-r requirements.txt (line 3)) (0.13.3)\n",
            "Requirement already satisfied: testpath in /usr/local/lib/python3.7/dist-packages (from nbconvert->notebook>=4.4.1->widgetsnbextension~=3.6.0->ipywidgets>=7.0.0->pydeck>=0.1.dev5->streamlit==1.11.1->-r requirements.txt (line 3)) (0.6.0)\n",
            "Requirement already satisfied: mistune<2,>=0.8.1 in /usr/local/lib/python3.7/dist-packages (from nbconvert->notebook>=4.4.1->widgetsnbextension~=3.6.0->ipywidgets>=7.0.0->pydeck>=0.1.dev5->streamlit==1.11.1->-r requirements.txt (line 3)) (0.8.4)\n",
            "Requirement already satisfied: pandocfilters>=1.4.1 in /usr/local/lib/python3.7/dist-packages (from nbconvert->notebook>=4.4.1->widgetsnbextension~=3.6.0->ipywidgets>=7.0.0->pydeck>=0.1.dev5->streamlit==1.11.1->-r requirements.txt (line 3)) (1.5.0)\n",
            "Requirement already satisfied: bleach in /usr/local/lib/python3.7/dist-packages (from nbconvert->notebook>=4.4.1->widgetsnbextension~=3.6.0->ipywidgets>=7.0.0->pydeck>=0.1.dev5->streamlit==1.11.1->-r requirements.txt (line 3)) (5.0.1)\n",
            "Requirement already satisfied: defusedxml in /usr/local/lib/python3.7/dist-packages (from nbconvert->notebook>=4.4.1->widgetsnbextension~=3.6.0->ipywidgets>=7.0.0->pydeck>=0.1.dev5->streamlit==1.11.1->-r requirements.txt (line 3)) (0.7.1)\n",
            "Requirement already satisfied: fastjsonschema in /usr/local/lib/python3.7/dist-packages (from nbformat->notebook>=4.4.1->widgetsnbextension~=3.6.0->ipywidgets>=7.0.0->pydeck>=0.1.dev5->streamlit==1.11.1->-r requirements.txt (line 3)) (2.16.1)\n",
            "Requirement already satisfied: webencodings in /usr/local/lib/python3.7/dist-packages (from bleach->nbconvert->notebook>=4.4.1->widgetsnbextension~=3.6.0->ipywidgets>=7.0.0->pydeck>=0.1.dev5->streamlit==1.11.1->-r requirements.txt (line 3)) (0.5.1)\n",
            "Building wheels for collected packages: pyngrok, validators\n",
            "  Building wheel for pyngrok (setup.py) ... \u001b[?25l\u001b[?25hdone\n",
            "  Created wheel for pyngrok: filename=pyngrok-4.1.1-py3-none-any.whl size=15983 sha256=02beeb237aec8b1094ab771ace74fa1e73e36eaeed42e681df670b3cb7b51012\n",
            "  Stored in directory: /root/.cache/pip/wheels/b1/d9/12/045a042fee3127dc40ba6f5df2798aa2df38c414bf533ca765\n",
            "  Building wheel for validators (setup.py) ... \u001b[?25l\u001b[?25hdone\n",
            "  Created wheel for validators: filename=validators-0.20.0-py3-none-any.whl size=19582 sha256=d17970d158dcb278ff8cec49aa265af27c3183085f4ca0c24490219552ad129f\n",
            "  Stored in directory: /root/.cache/pip/wheels/5f/55/ab/36a76989f7f88d9ca7b1f68da6d94252bb6a8d6ad4f18e04e9\n",
            "Successfully built pyngrok validators\n",
            "Installing collected packages: tornado, prompt-toolkit, jupyter-client, ipython, ipykernel, smmap, gitdb, commonmark, watchdog, validators, rich, pympler, pydeck, gitpython, blinker, transformers, streamlit, pyngrok\n",
            "  Attempting uninstall: tornado\n",
            "    Found existing installation: tornado 5.1.1\n",
            "    Uninstalling tornado-5.1.1:\n",
            "      Successfully uninstalled tornado-5.1.1\n",
            "  Attempting uninstall: prompt-toolkit\n",
            "    Found existing installation: prompt-toolkit 1.0.18\n",
            "    Uninstalling prompt-toolkit-1.0.18:\n",
            "      Successfully uninstalled prompt-toolkit-1.0.18\n",
            "  Attempting uninstall: jupyter-client\n",
            "    Found existing installation: jupyter-client 5.3.5\n",
            "    Uninstalling jupyter-client-5.3.5:\n",
            "      Successfully uninstalled jupyter-client-5.3.5\n",
            "  Attempting uninstall: ipython\n",
            "    Found existing installation: ipython 5.5.0\n",
            "    Uninstalling ipython-5.5.0:\n",
            "      Successfully uninstalled ipython-5.5.0\n",
            "  Attempting uninstall: ipykernel\n",
            "    Found existing installation: ipykernel 4.10.1\n",
            "    Uninstalling ipykernel-4.10.1:\n",
            "      Successfully uninstalled ipykernel-4.10.1\n",
            "  Attempting uninstall: transformers\n",
            "    Found existing installation: transformers 4.21.1\n",
            "    Uninstalling transformers-4.21.1:\n",
            "      Successfully uninstalled transformers-4.21.1\n",
            "\u001b[31mERROR: pip's dependency resolver does not currently take into account all the packages that are installed. This behaviour is the source of the following dependency conflicts.\n",
            "nbclient 0.6.6 requires traitlets>=5.2.2, but you have traitlets 5.1.1 which is incompatible.\n",
            "jupyter-console 5.2.0 requires prompt-toolkit<2.0.0,>=1.0.0, but you have prompt-toolkit 3.0.30 which is incompatible.\n",
            "google-colab 1.0.0 requires ipykernel~=4.10, but you have ipykernel 6.15.1 which is incompatible.\n",
            "google-colab 1.0.0 requires ipython~=5.5.0, but you have ipython 7.34.0 which is incompatible.\n",
            "google-colab 1.0.0 requires tornado~=5.1.0, but you have tornado 6.2 which is incompatible.\u001b[0m\n",
            "Successfully installed blinker-1.5 commonmark-0.9.1 gitdb-4.0.9 gitpython-3.1.27 ipykernel-6.15.1 ipython-7.34.0 jupyter-client-7.3.4 prompt-toolkit-3.0.30 pydeck-0.7.1 pympler-1.0.1 pyngrok-4.1.1 rich-12.5.1 smmap-5.0.0 streamlit-1.11.1 tornado-6.2 transformers-4.21.0 validators-0.20.0 watchdog-2.1.9\n"
          ]
        },
        {
          "output_type": "display_data",
          "data": {
            "application/vnd.colab-display-data+json": {
              "pip_warning": {
                "packages": [
                  "IPython",
                  "prompt_toolkit",
                  "tornado",
                  "transformers"
                ]
              }
            }
          },
          "metadata": {}
>>>>>>> 71b6dc6a43491d267ea60d4fa2e2daf492eed1d5
        }
      ],
      "source": [
        "# install dependencies\n",
        "!pip install -r requirements.txt"
      ]
    },
    {
      "cell_type": "code",
      "source": [
        "from google.colab import drive \n",
        "drive.mount('/content/drive')"
      ],
      "metadata": {
        "colab": {
          "base_uri": "https://localhost:8080/"
        },
<<<<<<< HEAD
        "id": "s6P3o7v1wASq",
        "outputId": "567ff355-2218-4377-ff0f-1648397304b6"
      },
      "execution_count": null,
      "outputs": [
        {
          "output_type": "stream",
          "name": "stdout",
          "text": [
            "2022-08-04 10:23:03.599 INFO    numexpr.utils: NumExpr defaulting to 2 threads.\n",
            "\u001b[0m\n",
            "\u001b[34m\u001b[1m  Welcome to Streamlit. Check out our demo in your browser.\u001b[0m\n",
            "\u001b[0m\n",
            "\u001b[34m  Network URL: \u001b[0m\u001b[1mhttp://172.28.0.2:8501\u001b[0m\n",
            "\u001b[34m  External URL: \u001b[0m\u001b[1mhttp://35.243.188.1:8501\u001b[0m\n",
            "\u001b[0m\n",
            "  Ready to create your own Python apps super quickly?\u001b[0m\n",
            "  Head over to \u001b[0m\u001b[1mhttps://docs.streamlit.io\u001b[0m\n",
            "\u001b[0m\n",
            "  May you create awesome apps!\u001b[0m\n",
            "\u001b[0m\n",
            "\u001b[0m\n"
          ]
        }
      ]
    },
    {
      "cell_type": "code",
      "source": [
        "# DO NOT USE ME\n",
        "# get train/test dataset\n",
        "!wget https://raw.githubusercontent.com/FakeNewsChallenge/fnc-1/master/train_stances.csv\n",
        "!wget https://raw.githubusercontent.com/FakeNewsChallenge/fnc-1/master/train_bodies.csv\n",
        "!wget https://raw.githubusercontent.com/FakeNewsChallenge/fnc-1/master/competition_test_bodies.csv\n",
        "!wget https://raw.githubusercontent.com/FakeNewsChallenge/fnc-1/master/competition_test_stances.csv\n",
        "\n",
        "# get pretrained BERT model\n",
        "!wget https://github.com/SzeChang/Fake_News_Challenge/blob/main/ModelWeight/fake_model_CNN_LSTM.pt"
      ],
      "metadata": {
        "id": "WP4usmNQDA7f",
        "colab": {
          "base_uri": "https://localhost:8080/"
        },
        "outputId": "0e105d95-2dc3-404a-eec6-623304fa699b"
      },
      "execution_count": null,
      "outputs": [
        {
          "output_type": "stream",
          "name": "stdout",
          "text": [
            "--2022-08-06 15:57:04--  https://raw.githubusercontent.com/FakeNewsChallenge/fnc-1/master/train_stances.csv\n",
            "Resolving raw.githubusercontent.com (raw.githubusercontent.com)... 185.199.110.133, 185.199.109.133, 185.199.108.133, ...\n",
            "Connecting to raw.githubusercontent.com (raw.githubusercontent.com)|185.199.110.133|:443... connected.\n",
            "HTTP request sent, awaiting response... 200 OK\n",
            "Length: 4255300 (4.1M) [text/plain]\n",
            "Saving to: ‘train_stances.csv’\n",
            "\n",
            "train_stances.csv   100%[===================>]   4.06M  --.-KB/s    in 0.08s   \n",
            "\n",
            "2022-08-06 15:57:05 (51.3 MB/s) - ‘train_stances.csv’ saved [4255300/4255300]\n",
            "\n",
            "--2022-08-06 15:57:05--  https://raw.githubusercontent.com/FakeNewsChallenge/fnc-1/master/train_bodies.csv\n",
            "Resolving raw.githubusercontent.com (raw.githubusercontent.com)... 185.199.111.133, 185.199.110.133, 185.199.109.133, ...\n",
            "Connecting to raw.githubusercontent.com (raw.githubusercontent.com)|185.199.111.133|:443... connected.\n",
            "HTTP request sent, awaiting response... 200 OK\n",
            "Length: 3752301 (3.6M) [text/plain]\n",
            "Saving to: ‘train_bodies.csv’\n",
            "\n",
            "train_bodies.csv    100%[===================>]   3.58M  --.-KB/s    in 0.07s   \n",
            "\n",
            "2022-08-06 15:57:06 (50.8 MB/s) - ‘train_bodies.csv’ saved [3752301/3752301]\n",
            "\n",
            "--2022-08-06 15:57:06--  https://raw.githubusercontent.com/FakeNewsChallenge/fnc-1/master/competition_test_bodies.csv\n",
            "Resolving raw.githubusercontent.com (raw.githubusercontent.com)... 185.199.109.133, 185.199.110.133, 185.199.108.133, ...\n",
            "Connecting to raw.githubusercontent.com (raw.githubusercontent.com)|185.199.109.133|:443... connected.\n",
            "HTTP request sent, awaiting response... 200 OK\n",
            "Length: 2045680 (2.0M) [text/plain]\n",
            "Saving to: ‘competition_test_bodies.csv’\n",
            "\n",
            "competition_test_bo 100%[===================>]   1.95M  --.-KB/s    in 0.06s   \n",
            "\n",
            "2022-08-06 15:57:06 (31.3 MB/s) - ‘competition_test_bodies.csv’ saved [2045680/2045680]\n",
            "\n",
            "--2022-08-06 15:57:06--  https://raw.githubusercontent.com/FakeNewsChallenge/fnc-1/master/competition_test_stances.csv\n",
            "Resolving raw.githubusercontent.com (raw.githubusercontent.com)... 185.199.108.133, 185.199.109.133, 185.199.110.133, ...\n",
            "Connecting to raw.githubusercontent.com (raw.githubusercontent.com)|185.199.108.133|:443... connected.\n",
            "HTTP request sent, awaiting response... 200 OK\n",
            "Length: 2177588 (2.1M) [text/plain]\n",
            "Saving to: ‘competition_test_stances.csv’\n",
            "\n",
            "competition_test_st 100%[===================>]   2.08M  --.-KB/s    in 0.07s   \n",
            "\n",
            "2022-08-06 15:57:06 (31.4 MB/s) - ‘competition_test_stances.csv’ saved [2177588/2177588]\n",
            "\n",
            "--2022-08-06 15:57:06--  https://github.com/SzeChang/Fake_News_Challenge/blob/main/ModelWeight/fake_model_CNN_LSTM.pt\n",
            "Resolving github.com (github.com)... 140.82.114.3\n",
            "Connecting to github.com (github.com)|140.82.114.3|:443... connected.\n",
            "HTTP request sent, awaiting response... 200 OK\n",
            "Length: unspecified [text/html]\n",
            "Saving to: ‘fake_model_CNN_LSTM.pt’\n",
            "\n",
            "fake_model_CNN_LSTM     [ <=>                ] 134.91K  --.-KB/s    in 0.08s   \n",
            "\n",
            "2022-08-06 15:57:07 (1.68 MB/s) - ‘fake_model_CNN_LSTM.pt’ saved [138151]\n",
            "\n"
          ]
        }
      ]
    },
    {
      "cell_type": "code",
      "source": [
        "# check all required files downloaded\n",
        "!ls"
      ],
      "metadata": {
        "colab": {
          "base_uri": "https://localhost:8080/"
        },
        "id": "OyxNT2f1D3oZ",
        "outputId": "4187a921-8724-43ed-a2e3-aa0588832a9b"
      },
      "execution_count": null,
      "outputs": [
        {
          "output_type": "stream",
          "name": "stdout",
          "text": [
            "competition_test_bodies.csv   fake_model_CNN_LSTM.pt  train_bodies.csv\n",
            "competition_test_stances.csv  sample_data\t      train_stances.csv\n"
          ]
        }
      ]
    },
    {
      "cell_type": "code",
      "source": [
        "!pip install transformers==3.1.0"
      ],
      "metadata": {
        "colab": {
          "base_uri": "https://localhost:8080/",
          "height": 832
        },
        "id": "Z8Hvcl_aq12p",
        "outputId": "74153bc5-f2a8-4f64-cc31-8f2d543771f4"
=======
        "id": "H4btNakh6m8x",
        "outputId": "fc443f9e-fa98-4a48-a354-6e99db1d77d7"
>>>>>>> 71b6dc6a43491d267ea60d4fa2e2daf492eed1d5
      },
      "execution_count": 25,
      "outputs": [
        {
          "output_type": "stream",
          "name": "stdout",
          "text": [
<<<<<<< HEAD
            "Looking in indexes: https://pypi.org/simple, https://us-python.pkg.dev/colab-wheels/public/simple/\n",
            "Collecting transformers==3.1.0\n",
            "  Downloading transformers-3.1.0-py3-none-any.whl (884 kB)\n",
            "\u001b[K     |████████████████████████████████| 884 kB 7.1 MB/s \n",
            "\u001b[?25hRequirement already satisfied: regex!=2019.12.17 in /usr/local/lib/python3.7/dist-packages (from transformers==3.1.0) (2022.6.2)\n",
            "Collecting tokenizers==0.8.1.rc2\n",
            "  Downloading tokenizers-0.8.1rc2-cp37-cp37m-manylinux1_x86_64.whl (3.0 MB)\n",
            "\u001b[K     |████████████████████████████████| 3.0 MB 55.1 MB/s \n",
            "\u001b[?25hCollecting sentencepiece!=0.1.92\n",
            "  Downloading sentencepiece-0.1.97-cp37-cp37m-manylinux_2_17_x86_64.manylinux2014_x86_64.whl (1.3 MB)\n",
            "\u001b[K     |████████████████████████████████| 1.3 MB 56.9 MB/s \n",
            "\u001b[?25hRequirement already satisfied: requests in /usr/local/lib/python3.7/dist-packages (from transformers==3.1.0) (2.23.0)\n",
            "Collecting sacremoses\n",
            "  Downloading sacremoses-0.0.53.tar.gz (880 kB)\n",
            "\u001b[K     |████████████████████████████████| 880 kB 65.1 MB/s \n",
            "\u001b[?25hRequirement already satisfied: filelock in /usr/local/lib/python3.7/dist-packages (from transformers==3.1.0) (3.7.1)\n",
            "Requirement already satisfied: numpy in /usr/local/lib/python3.7/dist-packages (from transformers==3.1.0) (1.21.6)\n",
            "Requirement already satisfied: packaging in /usr/local/lib/python3.7/dist-packages (from transformers==3.1.0) (21.3)\n",
            "Requirement already satisfied: tqdm>=4.27 in /usr/local/lib/python3.7/dist-packages (from transformers==3.1.0) (4.64.0)\n",
            "Requirement already satisfied: pyparsing!=3.0.5,>=2.0.2 in /usr/local/lib/python3.7/dist-packages (from packaging->transformers==3.1.0) (3.0.9)\n",
            "Requirement already satisfied: urllib3!=1.25.0,!=1.25.1,<1.26,>=1.21.1 in /usr/local/lib/python3.7/dist-packages (from requests->transformers==3.1.0) (1.24.3)\n",
            "Requirement already satisfied: idna<3,>=2.5 in /usr/local/lib/python3.7/dist-packages (from requests->transformers==3.1.0) (2.10)\n",
            "Requirement already satisfied: certifi>=2017.4.17 in /usr/local/lib/python3.7/dist-packages (from requests->transformers==3.1.0) (2022.6.15)\n",
            "Requirement already satisfied: chardet<4,>=3.0.2 in /usr/local/lib/python3.7/dist-packages (from requests->transformers==3.1.0) (3.0.4)\n",
            "Requirement already satisfied: six in /usr/local/lib/python3.7/dist-packages (from sacremoses->transformers==3.1.0) (1.15.0)\n",
            "Requirement already satisfied: click in /usr/local/lib/python3.7/dist-packages (from sacremoses->transformers==3.1.0) (7.1.2)\n",
            "Requirement already satisfied: joblib in /usr/local/lib/python3.7/dist-packages (from sacremoses->transformers==3.1.0) (1.1.0)\n",
            "Building wheels for collected packages: sacremoses\n",
            "  Building wheel for sacremoses (setup.py) ... \u001b[?25l\u001b[?25hdone\n",
            "  Created wheel for sacremoses: filename=sacremoses-0.0.53-py3-none-any.whl size=895260 sha256=819381463e7e77d1b6d249c446a8fa1da0bf6a5ac1acd01c5cbb05b62d260f55\n",
            "  Stored in directory: /root/.cache/pip/wheels/87/39/dd/a83eeef36d0bf98e7a4d1933a4ad2d660295a40613079bafc9\n",
            "Successfully built sacremoses\n",
            "Installing collected packages: tokenizers, sentencepiece, sacremoses, transformers\n",
            "  Attempting uninstall: tokenizers\n",
            "    Found existing installation: tokenizers 0.12.1\n",
            "    Uninstalling tokenizers-0.12.1:\n",
            "      Successfully uninstalled tokenizers-0.12.1\n",
            "  Attempting uninstall: transformers\n",
            "    Found existing installation: transformers 4.21.0\n",
            "    Uninstalling transformers-4.21.0:\n",
            "      Successfully uninstalled transformers-4.21.0\n",
            "Successfully installed sacremoses-0.0.53 sentencepiece-0.1.97 tokenizers-0.8.1rc2 transformers-3.1.0\n"
=======
            "Mounted at /content/drive\n"
>>>>>>> 71b6dc6a43491d267ea60d4fa2e2daf492eed1d5
          ]
        },
        {
          "output_type": "display_data",
          "data": {
            "application/vnd.colab-display-data+json": {
              "pip_warning": {
                "packages": [
                  "tokenizers",
                  "transformers"
                ]
              }
            }
          },
          "metadata": {}
        }
      ]
    },
    {
      "cell_type": "code",
      "source": [
        "import torch.nn as nn\n",
        "\n",
        "class BERT_Arch(nn.Module):\n",
        "    def __init__(self, bert_head, bert_body):\n",
        "      super(BERT_Arch, self).__init__()\n",
        "      self.bert_head = bert_head\n",
        "      self.bert_body = bert_body\n",
        "      # Max pooling layer \n",
        "      self.max_pooling = nn.MaxPool1d(4,stride=4)\n",
        "      # dropout layer\n",
        "      self.dropout = nn.Dropout(0.1)\n",
        "      # relu activation function\n",
        "      self.relu =  nn.ReLU()\n",
        "      # dense layer 1\n",
        "      self.fc = nn.Linear(384,768)\n",
        "      self.fc1 = nn.Linear(768,512)\n",
        "      # dense layer 2 (Output layer)\n",
        "      self.fc2 = nn.Linear(512,4)\n",
        "      #softmax activation function \n",
        "      self.softmax = nn.LogSoftmax(dim=1)\n",
        " \n",
        "    #define the forward pass\n",
        "    def forward(self, sent_id_head, sent_id_body, mask_head, mask_body):\n",
        "      # print(sent_id.size()) \n",
        "      # print(mask.size()) \n",
        "      #pass the inputs to the model   \n",
        "      _, cls_hs_h = self.bert_head(sent_id_head, attention_mask=mask_head) \n",
        "      _, cls_hs_b = self.bert_body(sent_id_body, attention_mask=mask_body) \n",
        "      cls_hs = torch.cat((cls_hs_h.to_tuple(),cls_hs_b.to_tuple()),dim=1) \n",
        "      max_pool_out =torch.squeeze(self.max_pooling(cls_hs.unsqueeze(0))) \n",
        "      fc_out = self.fc(max_pool_out)\n",
        "      fc_act_out = self.relu(fc_out)\n",
        "      x = self.fc1(fc_act_out)\n",
        "      x = self.relu(x)\n",
        "      x = self.dropout(x)\n",
        "      # output layer\n",
        "      x = self.fc2(x)\n",
        "      # apply softmax activation\n",
        "      x = self.softmax(x)\n",
        "      return x"
      ],
      "metadata": {
        "id": "5vgPCLrLp5HK"
      },
      "execution_count": 2,
      "outputs": []
    },
    {
      "cell_type": "code",
      "source": [
        "from google.colab import drive\n",
        "drive.mount('/content/drive')"
      ],
      "metadata": {
        "colab": {
          "base_uri": "https://localhost:8080/"
        },
        "id": "W4iY82ES5GL0",
        "outputId": "559ff0a2-f3e9-460c-b47f-38ab981adedc"
      },
      "execution_count": 3,
      "outputs": [
        {
          "output_type": "stream",
          "name": "stdout",
          "text": [
            "Mounted at /content/drive\n"
          ]
        }
      ]
    },
    {
      "cell_type": "code",
      "source": [
        "import torch\n",
        "from transformers import AutoModel, BertTokenizerFast\n",
<<<<<<< HEAD
        "\n"
=======
        "\n",
        "PATH = '/content/drive/MyDrive/saved_weights_bert_2.pt'\n",
        "\n",
        "bert_head = AutoModel.from_pretrained('bert-base-uncased')\n",
        "bert_body = AutoModel.from_pretrained('bert-base-uncased')\n",
        "tokenizer = BertTokenizerFast.from_pretrained('bert-base-uncased')\n",
        "\n",
        "device = torch.device(\"cuda\")\n",
        "model = BERT_Arch(bert_head, bert_body)\n",
        "model = model.to(device)\n",
        "model.load_state_dict(torch.load(PATH))"
>>>>>>> 71b6dc6a43491d267ea60d4fa2e2daf492eed1d5
      ],
      "metadata": {
        "colab": {
          "base_uri": "https://localhost:8080/",
          "height": 319,
          "referenced_widgets": [
<<<<<<< HEAD
            "297913d9aa9a4c53934368cb3cf9c518",
            "7c2861ea1b164b00ae45cc780372d3e9",
            "14a72458e0d14fcdb209b40584ca2e28",
            "7afcf9ea09cf4883b9dc125fdc3ca479",
            "8a30a534f8c2414e919385c3aa86f948",
            "08c800380a9f4d5dbee3c3068eb586a0",
            "685cfc814bd044e0bd378de132d5cde2",
            "eb8d4626b29242759065920e4b12f1ca",
            "9604d8f4a09f47c1888357b116bbccb5",
            "f76daa71ed5a46d79ceff760b24deef1",
            "df371c2d00fd4ca7bdb291457b900995",
            "76a46624b8e64fff9d5461217770dfc5",
            "93273e97973f4cf5847d4ff237448a17",
            "f04381d0b38e4bdfab3b08319b80affb",
            "1d2af5edeb7c412bad20e987b557ce76",
            "4e0f1663d0d6440e9b2e239fbff99261",
            "d49ab84e0c544dbf8ced182c9cfb1c0e",
            "318ebbdbc1c0483191674759b02f0fc2",
            "aa6f5c8be6534cbfa084cdfec7e958e4",
            "db2b4fe646ff4681a9f5ee57b587440c",
            "d7cd7f94b4eb40daac7b040054cead97",
            "23e652a1fdf74039a230bf7d8031ddbf",
            "0e3245b559a644da8950e161abf520fe",
            "8fa7c0467f4e4edd899dc966cf8e544f",
            "efc4b6facc4c4588acf6ed6ed266c2d9",
            "c832c14bba1d43eaa5076fb5fa9f3e3d",
            "ce3ca5e7ed354ffa8871812d0cec3e62",
            "42384a43838c49c280cd59b206be4dea",
            "62d2cf66ed8547feb8a25fd6a28fa75d",
            "ae5ab0cbdf9740fb9422f64b86341601",
            "50482f1be5cb46639f454c7f5ad1cd3a",
            "8b56457a62584a03a875c5f09be56344",
            "39cd3e4298564d208cbdf9f85d492996",
            "551ddf466a7b44c9beb297387c54edda",
            "b080c533ed334dedbbe1ec3b021ed47e",
            "1b6d34e2b7b449ec904a493b2233dc9c",
            "737600c2fb1f4687892f2c20683ed479",
            "8fe1a14733334c23927ca28748d2e3cf",
            "095ff58488c043a883a103d4910829c2",
            "c476fb6b1b28472d827d598fabced7aa",
            "c7ae92a44e7b4028a3ba774ad000b32c",
            "14eed7a8daf743c1bc140f711c8ddb07",
            "70275509b5474b5898294f99eecd0414",
            "0476a120a0f348afa7a29d7211aa5991",
            "beee442b048a42d19fd99d5b85599a00",
            "c1bec425cdee4255940b112266a72857",
            "b98e534211da4721be1d402d1a0ce7ff",
            "946e0822a94643908ecd910fb909816c",
            "469302f3fdb045cc8b809385e1d533b8",
            "391c2f515076497dadca60bd872f4a0b",
            "6920b7af230f4b96b7914bb3ffe76937",
            "9e7810ce50594b31bd9375e63ea4cb25",
            "82537de5d4a44d51b378130b29a5c7a8",
            "dc13b9699fd14d4a87fb96677b441514",
            "a204c75dcd8b4665b3dbfb0812d015b8"
          ]
        },
        "id": "FI8Qgsk8lrgL",
        "outputId": "123719b0-6483-4e81-e9e1-1d729049612b"
=======
            "49455c6fd07148eea282c0c8ad72f0a1",
            "c908a5275d224256b27772ec86a0ea62",
            "e03e4c2e59234587907381e5de827148",
            "8afe7ea8ec5448a0822df1332c685f83",
            "72a6323eac3c4521baeaa5644567149e",
            "974ee4eec73d4aeb845077d983179b14",
            "9353c551d5614f91a0c571ae173d36bf",
            "8e1630f2a2dd431eb3802da1d30c3d40",
            "69150d6187a8412db942359860512e3f",
            "b48f5499b599434d9c359e4c384fb8ee",
            "2a0f0140ff27427cb855d7d7f9a29c4d",
            "2198126599f14744b1e51944178edba3",
            "954ea149aa464dbd9c6d435e2f27336d",
            "e15dff3cd3b14640be9b3c8d9ec04ad6",
            "6427d52f9f144224ab8939293d9a1ae3",
            "1b15b3958feb44e283e8baa3de76dc16",
            "5df5497507d44684bb612c20626f5854",
            "e432384d75d348ae9f110b73b58a164a",
            "4cdeab42f48f4eb78ac1a21c71c7ffab",
            "9741dcfecafe4c10999c735fa27198e2",
            "b5e50ee5cc054e85a73e5ff8a18ccaf1",
            "8b0540ac2d3b4edda93473189aea3bb2",
            "ba5ff60f14df4d0e8d4e51b1b434e355",
            "25013a9621a848058a65939f8ae6316d",
            "14ee8c6910c14e8c9de99db2ea4c4502",
            "d71a4aeeded34751a6cc77afdb3193ba",
            "ccc7fccdd5f447269a69b7d162becf43",
            "b025a2250099446a8b49a2ceaa4d8023",
            "f69d6c87b29942a5987e95329d119311",
            "f3b03e0f82db4733ba535982fcc57685",
            "6c3370323a1f48f9b8cd7a17676e7d97",
            "16d2db5a254148c098ed6e7c44c8d2e1",
            "423421f1050b441db281f1d53fb293e2",
            "cf2b02c3098a4c4192915184c3cc07ad",
            "4341bdcc70e04769be35d7206ccdda18",
            "19fa532a62c34c709ac1c672e30ea263",
            "0d73776b5c93461ba6ed61bc192119b9",
            "98e5fd52a30c4dff999ab5c681267b91",
            "5818b96c8e6c4d9790c7cad624ed03d9",
            "7c2cd09c5eeb4c97b31427d66254aa3a",
            "17acf33c26934e218d91f9ef510c2b4e",
            "73be838fb11f49c68973dfc6e5b2fa20",
            "92ff05f8f69b4c3fa413aba92a6494b4",
            "8e2219237aa7442ca69da7887c0749b7",
            "70a26e6ef140496c8da857425d94e661",
            "248d384e419a4c79876e2765805eeb02",
            "ff1c267ce1244d93b3320fcff343811e",
            "c316b471fe6a4313a2318ffa296ecf59",
            "2ba16c22fa08402493ee567c10fd2696",
            "5b3a18906f774edd819e2cf3fbed3356",
            "eab7328ae4244e3b8edd739e7a988569",
            "f2a0c84641484e0c81258b7abef04a5b",
            "5b23c8dede81437b80f6b76c11df4890",
            "09bf79779a2140a59229de0830252ee2",
            "dfdffd12410f4e29be75651c98ff5522"
          ]
        },
        "id": "FI8Qgsk8lrgL",
        "outputId": "f7956129-efe6-4231-9c7c-46e34e122d0c"
>>>>>>> 71b6dc6a43491d267ea60d4fa2e2daf492eed1d5
      },
      "execution_count": 4,
      "outputs": [
        {
          "output_type": "display_data",
          "data": {
            "text/plain": [
              "Downloading config.json:   0%|          | 0.00/570 [00:00<?, ?B/s]"
            ],
            "application/vnd.jupyter.widget-view+json": {
              "version_major": 2,
              "version_minor": 0,
<<<<<<< HEAD
              "model_id": "297913d9aa9a4c53934368cb3cf9c518"
=======
              "model_id": "49455c6fd07148eea282c0c8ad72f0a1"
>>>>>>> 71b6dc6a43491d267ea60d4fa2e2daf492eed1d5
            }
          },
          "metadata": {}
        },
        {
          "output_type": "display_data",
          "data": {
            "text/plain": [
              "Downloading pytorch_model.bin:   0%|          | 0.00/420M [00:00<?, ?B/s]"
            ],
            "application/vnd.jupyter.widget-view+json": {
              "version_major": 2,
              "version_minor": 0,
<<<<<<< HEAD
              "model_id": "76a46624b8e64fff9d5461217770dfc5"
=======
              "model_id": "2198126599f14744b1e51944178edba3"
>>>>>>> 71b6dc6a43491d267ea60d4fa2e2daf492eed1d5
            }
          },
          "metadata": {}
        },
        {
          "output_type": "stream",
          "name": "stderr",
          "text": [
<<<<<<< HEAD
            "Some weights of the model checkpoint at bert-base-uncased were not used when initializing BertModel: ['cls.predictions.transform.dense.bias', 'cls.seq_relationship.weight', 'cls.predictions.decoder.weight', 'cls.predictions.transform.LayerNorm.weight', 'cls.predictions.transform.LayerNorm.bias', 'cls.predictions.bias', 'cls.predictions.transform.dense.weight', 'cls.seq_relationship.bias']\n",
            "- This IS expected if you are initializing BertModel from the checkpoint of a model trained on another task or with another architecture (e.g. initializing a BertForSequenceClassification model from a BertForPreTraining model).\n",
            "- This IS NOT expected if you are initializing BertModel from the checkpoint of a model that you expect to be exactly identical (initializing a BertForSequenceClassification model from a BertForSequenceClassification model).\n",
            "Some weights of the model checkpoint at bert-base-uncased were not used when initializing BertModel: ['cls.predictions.transform.dense.bias', 'cls.seq_relationship.weight', 'cls.predictions.decoder.weight', 'cls.predictions.transform.LayerNorm.weight', 'cls.predictions.transform.LayerNorm.bias', 'cls.predictions.bias', 'cls.predictions.transform.dense.weight', 'cls.seq_relationship.bias']\n",
=======
            "Some weights of the model checkpoint at bert-base-uncased were not used when initializing BertModel: ['cls.predictions.transform.LayerNorm.weight', 'cls.predictions.transform.dense.weight', 'cls.predictions.transform.LayerNorm.bias', 'cls.predictions.transform.dense.bias', 'cls.seq_relationship.bias', 'cls.seq_relationship.weight', 'cls.predictions.decoder.weight', 'cls.predictions.bias']\n",
            "- This IS expected if you are initializing BertModel from the checkpoint of a model trained on another task or with another architecture (e.g. initializing a BertForSequenceClassification model from a BertForPreTraining model).\n",
            "- This IS NOT expected if you are initializing BertModel from the checkpoint of a model that you expect to be exactly identical (initializing a BertForSequenceClassification model from a BertForSequenceClassification model).\n",
            "Some weights of the model checkpoint at bert-base-uncased were not used when initializing BertModel: ['cls.predictions.transform.LayerNorm.weight', 'cls.predictions.transform.dense.weight', 'cls.predictions.transform.LayerNorm.bias', 'cls.predictions.transform.dense.bias', 'cls.seq_relationship.bias', 'cls.seq_relationship.weight', 'cls.predictions.decoder.weight', 'cls.predictions.bias']\n",
>>>>>>> 71b6dc6a43491d267ea60d4fa2e2daf492eed1d5
            "- This IS expected if you are initializing BertModel from the checkpoint of a model trained on another task or with another architecture (e.g. initializing a BertForSequenceClassification model from a BertForPreTraining model).\n",
            "- This IS NOT expected if you are initializing BertModel from the checkpoint of a model that you expect to be exactly identical (initializing a BertForSequenceClassification model from a BertForSequenceClassification model).\n"
          ]
        },
        {
          "output_type": "display_data",
          "data": {
            "text/plain": [
              "Downloading tokenizer_config.json:   0%|          | 0.00/28.0 [00:00<?, ?B/s]"
            ],
            "application/vnd.jupyter.widget-view+json": {
              "version_major": 2,
              "version_minor": 0,
<<<<<<< HEAD
              "model_id": "0e3245b559a644da8950e161abf520fe"
=======
              "model_id": "ba5ff60f14df4d0e8d4e51b1b434e355"
>>>>>>> 71b6dc6a43491d267ea60d4fa2e2daf492eed1d5
            }
          },
          "metadata": {}
        },
        {
          "output_type": "display_data",
          "data": {
            "text/plain": [
              "Downloading vocab.txt:   0%|          | 0.00/226k [00:00<?, ?B/s]"
            ],
            "application/vnd.jupyter.widget-view+json": {
              "version_major": 2,
              "version_minor": 0,
<<<<<<< HEAD
              "model_id": "551ddf466a7b44c9beb297387c54edda"
=======
              "model_id": "cf2b02c3098a4c4192915184c3cc07ad"
>>>>>>> 71b6dc6a43491d267ea60d4fa2e2daf492eed1d5
            }
          },
          "metadata": {}
        },
        {
          "output_type": "display_data",
          "data": {
            "text/plain": [
              "Downloading tokenizer.json:   0%|          | 0.00/455k [00:00<?, ?B/s]"
            ],
            "application/vnd.jupyter.widget-view+json": {
              "version_major": 2,
              "version_minor": 0,
<<<<<<< HEAD
              "model_id": "beee442b048a42d19fd99d5b85599a00"
=======
              "model_id": "70a26e6ef140496c8da857425d94e661"
>>>>>>> 71b6dc6a43491d267ea60d4fa2e2daf492eed1d5
            }
          },
          "metadata": {}
        },
        {
          "output_type": "execute_result",
          "data": {
            "text/plain": [
              "<All keys matched successfully>"
            ]
          },
          "metadata": {},
          "execution_count": 4
        }
      ]
    },
    {
      "cell_type": "code",
      "source": [
        "# tokenisation and tensor\n",
        "\n",
        "\n"
      ],
      "metadata": {
        "id": "8SL7DpVS8MRt"
      },
      "execution_count": null,
      "outputs": []
    },
    {
      "cell_type": "code",
      "source": [
        "# test if can just writefile the model and import into app.py \n",
<<<<<<< HEAD
        "# YES it works!\n",
        "%%writefile model.py\n",
        "import torch.nn as nn\n",
=======
        "# YES it works! ignore this cell now\n",
        "%%writefile danson.py\n",
>>>>>>> 71b6dc6a43491d267ea60d4fa2e2daf492eed1d5
        "\n",
        "class BERT_Arch(nn.Module):\n",
        "    def __init__(self, bert_head, bert_body):\n",
        "      super(BERT_Arch, self).__init__()\n",
        "      self.bert_head = bert_head\n",
        "      self.bert_body = bert_body\n",
        "      # Max pooling layer \n",
        "      self.max_pooling = nn.MaxPool1d(4,stride=4)\n",
        "      # dropout layer\n",
        "      self.dropout = nn.Dropout(0.1)\n",
        "      # relu activation function\n",
        "      self.relu =  nn.ReLU()\n",
        "      # dense layer 1\n",
        "      self.fc = nn.Linear(384,768)\n",
        "      self.fc1 = nn.Linear(768,512)\n",
        "      # dense layer 2 (Output layer)\n",
        "      self.fc2 = nn.Linear(512,4)\n",
        "      #softmax activation function \n",
        "      self.softmax = nn.LogSoftmax(dim=-1)\n",
        " \n",
        "    #define the forward pass\n",
        "    def forward(self, sent_id_head, sent_id_body, mask_head, mask_body):\n",
        "      # print(sent_id.size()) \n",
        "      # print(mask.size()) \n",
        "      #pass the inputs to the model   \n",
        "      _, cls_hs_h = self.bert_head(sent_id_head, attention_mask=mask_head) \n",
        "      _, cls_hs_b = self.bert_body(sent_id_body, attention_mask=mask_body) \n",
        "      cls_hs = torch.cat((cls_hs_h,cls_hs_b),dim=1) \n",
        "      max_pool_out =torch.squeeze(self.max_pooling(cls_hs.unsqueeze(0))) \n",
        "      fc_out = self.fc(max_pool_out)\n",
        "      fc_act_out = self.relu(fc_out)\n",
        "      x = self.fc1(fc_act_out)\n",
        "      x = self.relu(x)\n",
        "      x = self.dropout(x)\n",
        "      # output layer\n",
        "      x = self.fc2(x)\n",
        "      # apply softmax activation\n",
        "      x = self.softmax(x)\n",
        "      return x\n",
        "\n",
        "import torch\n",
        "import transformers\n",
        "from transformers import AutoModel, BertTokenizerFast\n",
        "\n",
        "PATH = 'drive/MyDrive/AI bert/saved_weights_bert_2.pt'\n",
        "\n",
        "bert_head = AutoModel.from_pretrained('bert-base-uncased')\n",
        "bert_body = AutoModel.from_pretrained('bert-base-uncased')\n",
        "tokenizer = BertTokenizerFast.from_pretrained('bert-base-uncased')\n",
        "\n",
        "device = torch.device(\"cuda\")\n",
        "model = BERT_Arch(bert_head, bert_body)\n",
        "model = model.to(device)\n",
        "model.load_state_dict(torch.load(PATH))\n",
        "\n",
        "label_to_idx = {\"agree\":0,\"disagree\":1,\"discuss\":2  ,\"unrelated\" :3}\n",
        "idx_to_label = {0:\"agree\",1:\"disagree\",2:\"discuss\"  ,3:\"unrelated\"}\n",
        "\n",
        "max_seq_len_h = 20\n",
        "max_seq_len_b = 512\n",
        "\n",
        "def input_to_tensor(user_input_head,user_input_body):\n",
        "\n",
        "  tokens_head = tokenizer.batch_encode_plus(\n",
        "      [user_input_head],\n",
        "      max_length = max_seq_len_h,\n",
        "      padding='max_length',\n",
        "      pad_to_max_length=True,\n",
        "      truncation=True,\n",
        "      return_token_type_ids=False\n",
        "  )\n",
        "\n",
        "  tokens_body = tokenizer.batch_encode_plus(\n",
        "      [user_input_body],\n",
        "      max_length = max_seq_len_b,\n",
        "      padding='max_length',\n",
        "      pad_to_max_length=True,\n",
        "      truncation=True,\n",
        "      return_token_type_ids=False\n",
        "  )\n",
        "\n",
        "  seq_head = torch.tensor(tokens_head['input_ids'])\n",
        "  mask_head = torch.tensor(tokens_head['attention_mask'])\n",
        "\n",
        "\n",
        "\n",
        "  seq_body = torch.tensor(tokens_body['input_ids'])\n",
        "  mask_body = torch.tensor(tokens_body['attention_mask'])\n",
        "  return seq_head.to(device),seq_body.to(device),mask_head.to(device),mask_body.to(device)\n"
      ],
      "metadata": {
<<<<<<< HEAD
        "colab": {
          "base_uri": "https://localhost:8080/"
        },
        "id": "oKOzlfqYHhAR",
        "outputId": "1818d5ee-69ff-486e-d594-0891d2897c0d"
      },
      "execution_count": 9,
      "outputs": [
        {
          "output_type": "stream",
          "name": "stdout",
          "text": [
            "Overwriting model.py\n"
          ]
        }
      ]
=======
        "id": "oKOzlfqYHhAR"
      },
      "execution_count": null,
      "outputs": []
>>>>>>> 71b6dc6a43491d267ea60d4fa2e2daf492eed1d5
    },
    {
      "cell_type": "markdown",
      "source": [
        "## Working file"
      ],
      "metadata": {
        "id": "mbSwlWBJWJgA"
      }
    },
    {
      "cell_type": "code",
      "source": [
        "# streamlit base .py file\n",
        "\n",
        "%%writefile app.py\n",
        "\n",
        "import streamlit as st\n",
<<<<<<< HEAD
        "from model import *\n",
        "import numpy as np\n",
=======
        "import pandas as pd\n",
        "# from danson import *\n",
        "\n",
>>>>>>> 71b6dc6a43491d267ea60d4fa2e2daf492eed1d5
        "#---------------------------------#\n",
        "# Page layout\n",
        "\n",
        "PAGE_CONFIG = {\"page_title\":\"AI Project Group 18\",\n",
        "              \"page_icon\":\":newspaper:\",\n",
        "              \"layout\":\"wide\"}\n",
        "st.set_page_config(**PAGE_CONFIG)\n",
        "\n",
        "#---------------------------------#\n",
        "# Model building\n",
        "\n",
        "#TODO: load model and prediction functions here (or separate .py file?)\n",
        "# all the logic should go here\n",
        "\n",
        "\n",
        "\n",
        "\n",
        "\n",
        "\n",
        "def convert_input(user_input):\n",
        "\tprocessed_input = preprocess(user_input)\n",
        "\tprocessed_input = \" \".join(processed_input)\n",
        "\tx = []\n",
        "\tx.append(processed_input)\n",
        "\tprocessed_input = pd.Series(x)\n",
        "\tprocessed_sequences = tokenizer.texts_to_sequences(processed_input)\n",
        "\tprocessed_test = pad_sequences(processed_sequences, maxlen = 40, truncating = 'post')\n",
        "\treturn processed_test\n",
        "\n",
        "\n",
        "\n",
        "\n",
        "\n",
        "#---------------------------------#\n",
        "# Main panel\n",
        "\n",
        "st.write(\"\"\"\n",
        "# unReal\n",
        "\n",
        "#### *Fake News Classification and Prediction through AI*\n",
        "\n",
        "In this implementation, the *BERT* model is used to train for Fake News Stance Detection... *(TO UPDATE THIS)*\n",
        "\n",
        "Try adjusting the hyperparameters in the sidebar!\n",
        "\"\"\")\n",
        "\n",
<<<<<<< HEAD
        "if 'output' not in st.session_state:\n",
        "    st.session_state.output = \"\"\n",
        "\n",
        "\n",
        "\n",
        "\n",
        "def get_output(user_input_1,user_input_2):\n",
        "  head_tensor,body_tensor,head_mask,body_mask = input_to_tensor(user_input_1,user_input_2)\n",
=======
        "user_input_head = st.text_area(\"Enter your news header here:\")\n",
        "user_input_body = st.text_area(\"Enter your news body here:\")\n",
        "\n",
        "st.write(\"# Inputted News\")\n",
        "st.write(\"#### (only has output below when there are both header and body inputs)\")\n",
        "if (user_input_head != \"\") & (user_input_body != \"\"):\n",
        "  st.write(\"Header:\", user_input_head)\n",
        "  st.write(\"Body:\", user_input_body)\n",
        "\n",
        "# if user_input !=\"\":\n",
        "#   processed_input = convert_input(user_input)\n",
        "# \tprediction = model.predict(processed_input)\n",
        "# \tif prediction.item() > 0.5:\n",
        "# \t\tst.markdown(\"## Warning: Fake News Detected 👎\")\n",
        "# \t\tst.write(\"Your News: \")\n",
        "# \t\tst.write(user_input)\n",
        "# \telse:\n",
        "# \t\tst.markdown(\"## Hurrah: Real News Detected 👍\")\n",
        "# \t\tst.markdown(\"Your News: \")\n",
        "# \t\tst.write(user_input)\n",
        "\n",
        "#TODO: remember to remove this LOL\n",
        "# st.write(\"Below should output Danson.\")\n",
        "# st.write(moonlighter())\n",
>>>>>>> 71b6dc6a43491d267ea60d4fa2e2daf492eed1d5
        "\n",
        "  output_tensor = model(head_tensor,body_tensor,head_mask,body_mask)\n",
        "  output_idx = np.argmax(output_tensor.detach().cpu().numpy())\n",
        "  output = idx_to_label[output_idx]\n",
        " \n",
        "  st.session_state.output=output\n",
        "\n",
        "\n",
        "\n",
        "\n",
        "\n",
        "\n",
        "user_input_1 = st.text_area(\"Enter your news here:\")\n",
        "\n",
        "user_input_2 = st.text_area(\"Enter your news article here:\")\n",
        "\n",
        "st.button(label=\"submit\",on_click=get_output,args=(user_input_1,user_input_2))\n",
        "\n",
        "st.write(st.session_state.output)\n",
        "\n",
        "\n",
        "\n",
        "\n",
        "\n"
      ],
      "metadata": {
        "colab": {
          "base_uri": "https://localhost:8080/"
        },
        "id": "koCKLYPv9q-P",
        "outputId": "50ead9ee-5594-4796-86fa-3500d88fde33"
      },
      "execution_count": 26,
      "outputs": [
        {
          "output_type": "stream",
          "name": "stdout",
          "text": [
            "Overwriting app.py\n"
          ]
        }
      ]
    },
    {
      "cell_type": "markdown",
      "source": [
        "## ML app file (from online)"
      ],
      "metadata": {
        "id": "GwPpdz77WNl7"
      }
    },
    {
      "cell_type": "code",
      "source": [
        "#---------------------------------#\n",
        "# Sidebar - Collects user input features into dataframe\n",
        "\n",
        "st.sidebar.title(\"Model Customisation Tools\")\n",
        "\n",
        "stance_type = st.sidebar.radio(\"Stance Type\", (\"Agree\", \"Disagree\", \"Discusses\", \"Unrelated\"), index=3, key=3)\n",
        "st.markdown(\"# Selected Stance Type\")\n",
        "if stance_type == \"Agree\":\n",
        "  st.markdown(\"## Agree\")\n",
        "elif stance_type == \"Disagree\":\n",
        "  st.markdown(\"## Disagree\")\n",
        "elif stance_type == \"Discusses\":\n",
        "\tst.markdown(\"## Discusses\")\n",
        "elif stance_type == \"Unrelated\":\n",
        "  st.markdown(\"## Unrelated\")\n",
        "\n",
        "#TODO: remove everything below if not needed\n",
        "st.sidebar.header(\"*Everything below is for show only*\")\n",
        "with st.sidebar.header(\"1. Set Parameters\"):\n",
        "  split_size = st.sidebar.slider('Data split ratio (% for Training Set)', 10, 90, 80, 5)\n",
        "\n",
        "with st.sidebar.subheader(\"2. Learning Parameters\"):\n",
        "  parameter_n_estimators = st.sidebar.slider('Number of estimators (n_estimators)', 0, 1000, 100, 100)\n",
        "  parameter_max_features = st.sidebar.select_slider('Max features (max_features)', options=['auto', 'sqrt', 'log2'])\n",
        "  parameter_min_samples_split = st.sidebar.slider('Minimum number of samples required to split an internal node (min_samples_split)', 1, 10, 2, 1)\n",
        "  parameter_min_samples_leaf = st.sidebar.slider('Minimum number of samples required to be at a leaf node (min_samples_leaf)', 1, 10, 2, 1)\n",
        "\n",
        "with st.sidebar.subheader(\"3. General Parameters\"):\n",
<<<<<<< HEAD
        "    parameter_random_state = st.sidebar.slider('Seed number (random_state)', 0, 1000, 42, 1)\n",
        "    parameter_criterion = st.sidebar.select_slider('Performance measure (criterion)', options=['mse', 'mae'])\n",
        "    parameter_bootstrap = st.sidebar.select_slider('Bootstrap samples when building trees (bootstrap)', options=[True, False])\n",
        "    parameter_oob_score = st.sidebar.select_slider('Whether to use out-of-bag samples to estimate the R^2 on unseen data (oob_score)', options=[False, True])\n",
        "    parameter_n_jobs = st.sidebar.select_slider('Number of jobs to run in parallel (n_jobs)', options=[1, -1])\n"
      ],
      "metadata": {
        "id": "DmrWSsIYody3"
      },
      "execution_count": null,
      "outputs": []
=======
        "  parameter_random_state = st.sidebar.slider('Seed number (random_state)', 0, 1000, 42, 1)\n",
        "  parameter_criterion = st.sidebar.select_slider('Performance measure (criterion)', options=['mse', 'mae'])\n",
        "  parameter_bootstrap = st.sidebar.select_slider('Bootstrap samples when building trees (bootstrap)', options=[True, False])\n",
        "  parameter_oob_score = st.sidebar.select_slider('Whether to use out-of-bag samples to estimate the R^2 on unseen data (oob_score)', options=[False, True])\n",
        "  parameter_n_jobs = st.sidebar.select_slider('Number of jobs to run in parallel (n_jobs)', options=[1, -1])\n",
        "\n"
      ],
      "metadata": {
        "colab": {
          "base_uri": "https://localhost:8080/"
        },
        "id": "koCKLYPv9q-P",
        "outputId": "eb24bf21-ced3-44ea-f75f-523350b2bc15"
      },
      "execution_count": 22,
      "outputs": [
        {
          "output_type": "stream",
          "name": "stdout",
          "text": [
            "Overwriting app.py\n"
          ]
        }
      ]
    },
    {
      "cell_type": "markdown",
      "source": [
        "## ML app file (for ref)"
      ],
      "metadata": {
        "id": "GwPpdz77WNl7"
      }
>>>>>>> 71b6dc6a43491d267ea60d4fa2e2daf492eed1d5
    },
    {
      "cell_type": "code",
      "source": [
        "%%writefile ml-app.py\n",
        "\n",
        "import streamlit as st\n",
        "import pandas as pd\n",
        "from sklearn.model_selection import train_test_split\n",
        "from sklearn.ensemble import RandomForestRegressor\n",
        "from sklearn.metrics import mean_squared_error, r2_score\n",
        "from sklearn.datasets import load_diabetes, load_boston\n",
        "\n",
        "#---------------------------------#\n",
        "# Page layout\n",
        "## Page expands to full width\n",
        "st.set_page_config(page_title='The Machine Learning App',\n",
        "    layout='wide')\n",
        "\n",
        "#---------------------------------#\n",
        "# Model building\n",
        "def build_model(df):\n",
        "    X = df.iloc[:,:-1] # Using all column except for the last column as X\n",
        "    Y = df.iloc[:,-1] # Selecting the last column as Y\n",
        "\n",
        "    # Data splitting\n",
        "    X_train, X_test, Y_train, Y_test = train_test_split(X, Y, test_size=(100-split_size)/100)\n",
        "    \n",
        "    st.markdown('**1.2. Data splits**')\n",
        "    st.write('Training set')\n",
        "    st.info(X_train.shape)\n",
        "    st.write('Test set')\n",
        "    st.info(X_test.shape)\n",
        "\n",
        "    st.markdown('**1.3. Variable details**:')\n",
        "    st.write('X variable')\n",
        "    st.info(list(X.columns))\n",
        "    st.write('Y variable')\n",
        "    st.info(Y.name)\n",
        "\n",
        "    rf = RandomForestRegressor(n_estimators=parameter_n_estimators,\n",
        "        random_state=parameter_random_state,\n",
        "        max_features=parameter_max_features,\n",
        "        criterion=parameter_criterion,\n",
        "        min_samples_split=parameter_min_samples_split,\n",
        "        min_samples_leaf=parameter_min_samples_leaf,\n",
        "        bootstrap=parameter_bootstrap,\n",
        "        oob_score=parameter_oob_score,\n",
        "        n_jobs=parameter_n_jobs)\n",
        "    rf.fit(X_train, Y_train)\n",
        "\n",
        "    st.subheader('2. Model Performance')\n",
        "\n",
        "    st.markdown('**2.1. Training set**')\n",
        "    Y_pred_train = rf.predict(X_train)\n",
        "    st.write('Coefficient of determination ($R^2$):')\n",
        "    st.info( r2_score(Y_train, Y_pred_train) )\n",
        "\n",
        "    st.write('Error (MSE or MAE):')\n",
        "    st.info( mean_squared_error(Y_train, Y_pred_train) )\n",
        "\n",
        "    st.markdown('**2.2. Test set**')\n",
        "    Y_pred_test = rf.predict(X_test)\n",
        "    st.write('Coefficient of determination ($R^2$):')\n",
        "    st.info( r2_score(Y_test, Y_pred_test) )\n",
        "\n",
        "    st.write('Error (MSE or MAE):')\n",
        "    st.info( mean_squared_error(Y_test, Y_pred_test) )\n",
        "\n",
        "    st.subheader('3. Model Parameters')\n",
        "    st.write(rf.get_params())\n",
        "\n",
        "#---------------------------------#\n",
        "st.write(\"\"\"\n",
        "\n",
        "# The Machine Learning App\n",
        "\n",
        "In this implementation, the *RandomForestRegressor()* function is used in this app for build a regression model using the **Random Forest** algorithm.\n",
        "\n",
        "Try adjusting the hyperparameters!\n",
        "\n",
        "\"\"\")\n",
        "\n",
        "#---------------------------------#\n",
        "# Sidebar - Collects user input features into dataframe\n",
        "with st.sidebar.header('1. Upload your CSV data'):\n",
        "    uploaded_file = st.sidebar.file_uploader(\"Upload your input CSV file\", type=[\"csv\"])\n",
        "    st.sidebar.markdown(\"\"\"\n",
        "[Example CSV input file](https://raw.githubusercontent.com/dataprofessor/data/master/delaney_solubility_with_descriptors.csv)\n",
        "\"\"\")\n",
        "\n",
        "# Sidebar - Specify parameter settings\n",
        "with st.sidebar.header('2. Set Parameters'):\n",
        "    split_size = st.sidebar.slider('Data split ratio (% for Training Set)', 10, 90, 80, 5)\n",
        "\n",
        "with st.sidebar.subheader('2.1. Learning Parameters'):\n",
        "    parameter_n_estimators = st.sidebar.slider('Number of estimators (n_estimators)', 0, 1000, 100, 100)\n",
        "    parameter_max_features = st.sidebar.select_slider('Max features (max_features)', options=['auto', 'sqrt', 'log2'])\n",
        "    parameter_min_samples_split = st.sidebar.slider('Minimum number of samples required to split an internal node (min_samples_split)', 1, 10, 2, 1)\n",
        "    parameter_min_samples_leaf = st.sidebar.slider('Minimum number of samples required to be at a leaf node (min_samples_leaf)', 1, 10, 2, 1)\n",
        "\n",
        "with st.sidebar.subheader('2.2. General Parameters'):\n",
        "    parameter_random_state = st.sidebar.slider('Seed number (random_state)', 0, 1000, 42, 1)\n",
        "    parameter_criterion = st.sidebar.select_slider('Performance measure (criterion)', options=['mse', 'mae'])\n",
        "    parameter_bootstrap = st.sidebar.select_slider('Bootstrap samples when building trees (bootstrap)', options=[True, False])\n",
        "    parameter_oob_score = st.sidebar.select_slider('Whether to use out-of-bag samples to estimate the R^2 on unseen data (oob_score)', options=[False, True])\n",
        "    parameter_n_jobs = st.sidebar.select_slider('Number of jobs to run in parallel (n_jobs)', options=[1, -1])\n",
        "\n",
        "#---------------------------------#\n",
        "# Main panel\n",
        "\n",
        "# Displays the dataset\n",
        "st.subheader('1. Dataset')\n",
        "\n",
        "if uploaded_file is not None:\n",
        "    df = pd.read_csv(uploaded_file)\n",
        "    st.markdown('**1.1. Glimpse of dataset**')\n",
        "    st.write(df)\n",
        "    build_model(df)\n",
        "else:\n",
        "    st.info('Awaiting for CSV file to be uploaded.')\n",
        "    if st.button('Press to use Example Dataset'):\n",
        "        # Boston housing dataset\n",
        "        boston = load_boston()\n",
        "        X = pd.DataFrame(boston.data, columns=boston.feature_names)\n",
        "        Y = pd.Series(boston.target, name='response')\n",
        "        df = pd.concat( [X,Y], axis=1 )\n",
        "\n",
        "        st.markdown('The Boston housing dataset is used as the example.')\n",
        "        st.write(df.head(5))\n",
        "\n",
        "        build_model(df)\n"
      ],
      "metadata": {
        "colab": {
          "base_uri": "https://localhost:8080/"
        },
        "id": "7BIOGRaxS5x3",
        "outputId": "3e542e16-96d1-47ca-f2d8-ece1f679d147"
      },
      "execution_count": null,
      "outputs": [
        {
          "output_type": "stream",
          "name": "stdout",
          "text": [
            "Overwriting ml-app.py\n"
          ]
        }
      ]
    },
    {
      "cell_type": "markdown",
      "source": [
        "# Running streamlit instance"
      ],
      "metadata": {
        "id": "hdVnHcy0WYfI"
      }
    },
    {
      "cell_type": "code",
      "source": [
        "# check if app.py has been written to colab sandbox\n",
        "!ls"
      ],
      "metadata": {
        "colab": {
          "base_uri": "https://localhost:8080/"
        },
        "id": "BQgdn4me9umj",
        "outputId": "2ecf0d8b-f209-485e-d8f2-ce56d72bad79"
      },
<<<<<<< HEAD
      "execution_count": null,
=======
      "execution_count": 2,
>>>>>>> 71b6dc6a43491d267ea60d4fa2e2daf492eed1d5
      "outputs": [
        {
          "output_type": "stream",
          "name": "stdout",
          "text": [
            "app.py\tdrive  requirements.txt  sample_data\n"
          ]
        }
      ]
    },
    {
      "cell_type": "code",
      "source": [
        "# ngrok authentication, only needs to be done once at start of runtime\n",
        "!ngrok authtoken 2CQtJERhcUlxLR6cdKdzfP8J9jC_56J8CecbbnGjX8dp1tE4j"
      ],
      "metadata": {
        "colab": {
          "base_uri": "https://localhost:8080/"
        },
        "id": "r5hZtYwGCndT",
<<<<<<< HEAD
        "outputId": "5e238051-6123-41b1-a241-b2aa2173d6ef"
      },
      "execution_count": 5,
=======
        "outputId": "4a7ce189-e94c-4c61-c214-84f0e3dfef4c"
      },
      "execution_count": 3,
>>>>>>> 71b6dc6a43491d267ea60d4fa2e2daf492eed1d5
      "outputs": [
        {
          "output_type": "stream",
          "name": "stdout",
          "text": [
            "Authtoken saved to configuration file: /root/.ngrok2/ngrok.yml\n"
          ]
        }
      ]
    },
    {
      "cell_type": "code",
      "source": [
        "# start streamlit app instance\n",
        "!streamlit run app.py &>/dev/null& # change app.py to your streamlit app name\n",
        "!pgrep streamlit # outputs streamlit process number (required for killing)"
      ],
      "metadata": {
        "colab": {
          "base_uri": "https://localhost:8080/"
        },
        "id": "kAvCyxRoB0h2",
<<<<<<< HEAD
        "outputId": "5182908b-ba4c-4c60-908f-87e8918b1d2b"
      },
      "execution_count": 6,
=======
        "outputId": "7d0fc8c5-41e3-439b-d2d6-810ecbd75df4"
      },
      "execution_count": 24,
>>>>>>> 71b6dc6a43491d267ea60d4fa2e2daf492eed1d5
      "outputs": [
        {
          "output_type": "stream",
          "name": "stdout",
          "text": [
<<<<<<< HEAD
            "938\n"
=======
            "891\n"
>>>>>>> 71b6dc6a43491d267ea60d4fa2e2daf492eed1d5
          ]
        }
      ]
    },
    {
      "cell_type": "code",
      "source": [
        "from pyngrok import ngrok\n",
        "# setup tunnel to 8501 (streamlit port)\n",
        "pub_url = ngrok.connect(port='8501')\n",
        "print(pub_url) # generates url for app"
      ],
      "metadata": {
        "colab": {
          "base_uri": "https://localhost:8080/"
        },
        "id": "7s6SW8BZBUj9",
<<<<<<< HEAD
        "outputId": "b48eaecf-1206-476b-8358-570bd4e13561"
      },
      "execution_count": 7,
=======
        "outputId": "fe0fcd1f-b918-46bc-95cf-f898cf813f01"
      },
      "execution_count": 25,
>>>>>>> 71b6dc6a43491d267ea60d4fa2e2daf492eed1d5
      "outputs": [
        {
          "output_type": "stream",
          "name": "stdout",
          "text": [
<<<<<<< HEAD
            "http://fd2a-35-247-48-221.ngrok.io\n"
=======
            "http://2c9a-34-143-164-186.ngrok.io\n"
>>>>>>> 71b6dc6a43491d267ea60d4fa2e2daf492eed1d5
          ]
        }
      ]
    },
    {
      "cell_type": "code",
      "source": [
        "# shutdown\n",
        "!kill 891 # change the process number\n",
        "ngrok.kill()"
      ],
      "metadata": {
        "id": "X3CZo-rhDMzp"
      },
      "execution_count": 26,
      "outputs": []
    }
  ]
}