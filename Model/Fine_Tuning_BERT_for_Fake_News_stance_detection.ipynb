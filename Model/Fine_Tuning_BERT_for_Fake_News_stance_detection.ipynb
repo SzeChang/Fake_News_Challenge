{
 "cells": [
  {
   "cell_type": "markdown",
   "metadata": {
    "id": "view-in-github"
   },
   "source": [
    "<a href=\"https://colab.research.google.com/github/prateekjoshi565/Fine-Tuning-BERT/blob/master/Fine_Tuning_BERT_for_Spam_Classification.ipynb\" target=\"_parent\"><img src=\"https://colab.research.google.com/assets/colab-badge.svg\" alt=\"Open In Colab\"/></a>"
   ]
  },
  {
   "cell_type": "markdown",
   "metadata": {
    "id": "OFOTiqrtNvyy"
   },
   "source": [
    "# Install Transformers Library"
   ]
  },
  {
   "cell_type": "code",
   "execution_count": 30,
   "metadata": {
    "colab": {
     "base_uri": "https://localhost:8080/"
    },
    "id": "_4YPxBxuNrFT",
    "outputId": "5260f1d9-e785-430f-e445-e76701c04553"
   },
   "outputs": [
    {
     "name": "stdout",
     "output_type": "stream",
     "text": [
      "--2022-08-01 09:06:03--  https://raw.githubusercontent.com/FakeNewsChallenge/fnc-1/master/train_stances.csv\n",
      "Resolving raw.githubusercontent.com (raw.githubusercontent.com)... 185.199.109.133, 185.199.108.133, 185.199.111.133, ...\n",
      "Connecting to raw.githubusercontent.com (raw.githubusercontent.com)|185.199.109.133|:443... connected.\n",
      "HTTP request sent, awaiting response... 200 OK\n",
      "Length: 4255300 (4.1M) [text/plain]\n",
      "Saving to: ‘train_stances.csv.1’\n",
      "\n",
      "train_stances.csv.1 100%[===================>]   4.06M  --.-KB/s    in 0.05s   \n",
      "\n",
      "2022-08-01 09:06:03 (89.8 MB/s) - ‘train_stances.csv.1’ saved [4255300/4255300]\n",
      "\n",
      "--2022-08-01 09:06:04--  https://raw.githubusercontent.com/FakeNewsChallenge/fnc-1/master/train_bodies.csv\n",
      "Resolving raw.githubusercontent.com (raw.githubusercontent.com)... 185.199.108.133, 185.199.110.133, 185.199.111.133, ...\n",
      "Connecting to raw.githubusercontent.com (raw.githubusercontent.com)|185.199.108.133|:443... connected.\n",
      "HTTP request sent, awaiting response... 200 OK\n",
      "Length: 3752301 (3.6M) [text/plain]\n",
      "Saving to: ‘train_bodies.csv.1’\n",
      "\n",
      "train_bodies.csv.1  100%[===================>]   3.58M  --.-KB/s    in 0.04s   \n",
      "\n",
      "2022-08-01 09:06:05 (96.3 MB/s) - ‘train_bodies.csv.1’ saved [3752301/3752301]\n",
      "\n",
      "--2022-08-01 09:06:06--  https://raw.githubusercontent.com/FakeNewsChallenge/fnc-1/master/competition_test_bodies.csv\n",
      "Resolving raw.githubusercontent.com (raw.githubusercontent.com)... 185.199.111.133, 185.199.109.133, 185.199.110.133, ...\n",
      "Connecting to raw.githubusercontent.com (raw.githubusercontent.com)|185.199.111.133|:443... connected.\n",
      "HTTP request sent, awaiting response... 200 OK\n",
      "Length: 2045680 (2.0M) [text/plain]\n",
      "Saving to: ‘competition_test_bodies.csv.1’\n",
      "\n",
      "competition_test_bo 100%[===================>]   1.95M  --.-KB/s    in 0.02s   \n",
      "\n",
      "2022-08-01 09:06:07 (79.8 MB/s) - ‘competition_test_bodies.csv.1’ saved [2045680/2045680]\n",
      "\n",
      "--2022-08-01 09:06:08--  https://raw.githubusercontent.com/FakeNewsChallenge/fnc-1/master/competition_test_stances.csv\n",
      "Resolving raw.githubusercontent.com (raw.githubusercontent.com)... 185.199.109.133, 185.199.110.133, 185.199.111.133, ...\n",
      "Connecting to raw.githubusercontent.com (raw.githubusercontent.com)|185.199.109.133|:443... connected.\n",
      "HTTP request sent, awaiting response... 200 OK\n",
      "Length: 2177588 (2.1M) [text/plain]\n",
      "Saving to: ‘competition_test_stances.csv.1’\n",
      "\n",
      "competition_test_st 100%[===================>]   2.08M  --.-KB/s    in 0.03s   \n",
      "\n",
      "2022-08-01 09:06:13 (80.9 MB/s) - ‘competition_test_stances.csv.1’ saved [2177588/2177588]\n",
      "\n"
     ]
    }
   ],
   "source": [
    "!wget https://raw.githubusercontent.com/FakeNewsChallenge/fnc-1/master/train_stances.csv\n",
    "!wget https://raw.githubusercontent.com/FakeNewsChallenge/fnc-1/master/train_bodies.csv\n",
    "!wget https://raw.githubusercontent.com/FakeNewsChallenge/fnc-1/master/competition_test_bodies.csv\n",
    "!wget https://raw.githubusercontent.com/FakeNewsChallenge/fnc-1/master/competition_test_stances.csv"
   ]
  },
  {
   "cell_type": "code",
   "execution_count": 2,
   "metadata": {
    "colab": {
     "base_uri": "https://localhost:8080/"
    },
    "id": "1hkhc10wNrGt",
    "outputId": "28170525-4cfa-46b5-ed84-7b92b4e34445"
   },
   "outputs": [
    {
     "name": "stdout",
     "output_type": "stream",
     "text": [
      "Requirement already satisfied: transformers in /opt/conda/lib/python3.6/site-packages (2.8.0)\n",
      "Requirement already satisfied: tqdm>=4.27 in /opt/conda/lib/python3.6/site-packages (from transformers) (4.45.0)\n",
      "Requirement already satisfied: filelock in /opt/conda/lib/python3.6/site-packages (from transformers) (3.0.10)\n",
      "Requirement already satisfied: sentencepiece in /opt/conda/lib/python3.6/site-packages (from transformers) (0.1.85)\n",
      "Requirement already satisfied: requests in /opt/conda/lib/python3.6/site-packages (from transformers) (2.23.0)\n",
      "Requirement already satisfied: sacremoses in /opt/conda/lib/python3.6/site-packages (from transformers) (0.0.38)\n",
      "Requirement already satisfied: regex!=2019.12.17 in /opt/conda/lib/python3.6/site-packages (from transformers) (2020.4.4)\n",
      "Requirement already satisfied: dataclasses; python_version < \"3.7\" in /opt/conda/lib/python3.6/site-packages (from transformers) (0.7)\n",
      "Requirement already satisfied: boto3 in /opt/conda/lib/python3.6/site-packages (from transformers) (1.12.37)\n",
      "Requirement already satisfied: numpy in /opt/conda/lib/python3.6/site-packages (from transformers) (1.18.2)\n",
      "Requirement already satisfied: tokenizers==0.5.2 in /opt/conda/lib/python3.6/site-packages (from transformers) (0.5.2)\n",
      "Requirement already satisfied: chardet<4,>=3.0.2 in /opt/conda/lib/python3.6/site-packages (from requests->transformers) (3.0.4)\n",
      "Requirement already satisfied: idna<3,>=2.5 in /opt/conda/lib/python3.6/site-packages (from requests->transformers) (2.9)\n",
      "Requirement already satisfied: urllib3!=1.25.0,!=1.25.1,<1.26,>=1.21.1 in /opt/conda/lib/python3.6/site-packages (from requests->transformers) (1.25.8)\n",
      "Requirement already satisfied: certifi>=2017.4.17 in /opt/conda/lib/python3.6/site-packages (from requests->transformers) (2020.4.5.1)\n",
      "Requirement already satisfied: joblib in /opt/conda/lib/python3.6/site-packages (from sacremoses->transformers) (0.14.1)\n",
      "Requirement already satisfied: click in /opt/conda/lib/python3.6/site-packages (from sacremoses->transformers) (7.1.1)\n",
      "Requirement already satisfied: six in /opt/conda/lib/python3.6/site-packages (from sacremoses->transformers) (1.14.0)\n",
      "Requirement already satisfied: jmespath<1.0.0,>=0.7.1 in /opt/conda/lib/python3.6/site-packages (from boto3->transformers) (0.9.5)\n",
      "Requirement already satisfied: s3transfer<0.4.0,>=0.3.0 in /opt/conda/lib/python3.6/site-packages (from boto3->transformers) (0.3.3)\n",
      "Requirement already satisfied: botocore<1.16.0,>=1.15.37 in /opt/conda/lib/python3.6/site-packages (from boto3->transformers) (1.15.37)\n",
      "Requirement already satisfied: python-dateutil<3.0.0,>=2.1 in /opt/conda/lib/python3.6/site-packages (from botocore<1.16.0,>=1.15.37->boto3->transformers) (2.8.1)\n",
      "Requirement already satisfied: docutils<0.16,>=0.10 in /opt/conda/lib/python3.6/site-packages (from botocore<1.16.0,>=1.15.37->boto3->transformers) (0.15.2)\n"
     ]
    }
   ],
   "source": [
    "!pip install transformers"
   ]
  },
  {
   "cell_type": "code",
   "execution_count": 1,
   "metadata": {
    "id": "x4giRzM7NtHJ"
   },
   "outputs": [],
   "source": [
    "import numpy as np\n",
    "import pandas as pd\n",
    "import torch\n",
    "import torch.nn as nn\n",
    "from sklearn.model_selection import train_test_split\n",
    "from sklearn.metrics import classification_report\n",
    "import transformers\n",
    "from transformers import AutoModel, BertTokenizerFast\n",
    "\n",
    "# specify GPU\n"
   ]
  },
  {
   "cell_type": "markdown",
   "metadata": {
    "id": "kKd-Tj3hOMsZ"
   },
   "source": [
    "# Load Dataset"
   ]
  },
  {
   "cell_type": "code",
   "execution_count": 2,
   "metadata": {
    "id": "cwJrQFQgN_BE"
   },
   "outputs": [],
   "source": [
    "data_bodies = pd.read_csv(\"competition_test_bodies.csv\")\n",
    "data_stances = pd.read_csv(\"competition_test_stances.csv\")\n",
    "\n"
   ]
  },
  {
   "cell_type": "code",
   "execution_count": 3,
   "metadata": {
    "id": "FQi7k2QdOJ1F"
   },
   "outputs": [],
   "source": [
    "\n",
    "data = data_stances.join(data_bodies.set_index(\"Body ID\"), on=\"Body ID\")\n",
    "# test_data = test_stances.join(test_bodies.set_index(\"Body ID\"), on=\"Body ID\")\n"
   ]
  },
  {
   "cell_type": "code",
   "execution_count": 4,
   "metadata": {
    "id": "VFgxdh9YTKRI"
   },
   "outputs": [],
   "source": [
    "cols = ['Headline', 'articleBody']\n",
    "stance_dict = {\"agree\":0,\"disagree\":1,\"discuss\":2  ,\"unrelated\" :3}\n",
    "data['text'] = data[cols].apply(lambda row: ' '.join(row.values.astype(str)), axis=1)\n",
    "data['label'] = data['Stance'].apply(lambda val:stance_dict[val] )"
   ]
  },
  {
   "cell_type": "code",
   "execution_count": 5,
   "metadata": {
    "id": "GCVJbhR8ThXU"
   },
   "outputs": [],
   "source": [
    "selected_features = ['text','label']\n",
    "df = data.loc[:, data.columns.isin(selected_features)]"
   ]
  },
  {
   "cell_type": "code",
   "execution_count": 6,
   "metadata": {
    "colab": {
     "base_uri": "https://localhost:8080/"
    },
    "id": "ePWy3krkOm9h",
    "outputId": "b238ace7-0c61-4a02-90b1-6fe88b38ec29"
   },
   "outputs": [
    {
     "data": {
      "text/plain": [
       "(49972, 2)"
      ]
     },
     "execution_count": 6,
     "metadata": {},
     "output_type": "execute_result"
    }
   ],
   "source": [
    "df.shape\n"
   ]
  },
  {
   "cell_type": "code",
   "execution_count": 7,
   "metadata": {
    "colab": {
     "base_uri": "https://localhost:8080/",
     "height": 206
    },
    "id": "fzPPOrVQWiW5",
    "outputId": "299ebf2d-941b-446c-f6d2-a872c14f314f"
   },
   "outputs": [
    {
     "data": {
      "text/html": [
       "<div>\n",
       "<style scoped>\n",
       "    .dataframe tbody tr th:only-of-type {\n",
       "        vertical-align: middle;\n",
       "    }\n",
       "\n",
       "    .dataframe tbody tr th {\n",
       "        vertical-align: top;\n",
       "    }\n",
       "\n",
       "    .dataframe thead th {\n",
       "        text-align: right;\n",
       "    }\n",
       "</style>\n",
       "<table border=\"1\" class=\"dataframe\">\n",
       "  <thead>\n",
       "    <tr style=\"text-align: right;\">\n",
       "      <th></th>\n",
       "      <th>text</th>\n",
       "      <th>label</th>\n",
       "    </tr>\n",
       "  </thead>\n",
       "  <tbody>\n",
       "    <tr>\n",
       "      <th>0</th>\n",
       "      <td>Police find mass graves with at least '15 bodi...</td>\n",
       "      <td>3</td>\n",
       "    </tr>\n",
       "    <tr>\n",
       "      <th>1</th>\n",
       "      <td>Hundreds of Palestinians flee floods in Gaza a...</td>\n",
       "      <td>0</td>\n",
       "    </tr>\n",
       "    <tr>\n",
       "      <th>2</th>\n",
       "      <td>Christian Bale passes on role of Steve Jobs, a...</td>\n",
       "      <td>3</td>\n",
       "    </tr>\n",
       "    <tr>\n",
       "      <th>3</th>\n",
       "      <td>HBO and Apple in Talks for $15/Month Apple TV ...</td>\n",
       "      <td>3</td>\n",
       "    </tr>\n",
       "    <tr>\n",
       "      <th>4</th>\n",
       "      <td>Spider burrowed through tourist's stomach and ...</td>\n",
       "      <td>1</td>\n",
       "    </tr>\n",
       "  </tbody>\n",
       "</table>\n",
       "</div>"
      ],
      "text/plain": [
       "                                                text  label\n",
       "0  Police find mass graves with at least '15 bodi...      3\n",
       "1  Hundreds of Palestinians flee floods in Gaza a...      0\n",
       "2  Christian Bale passes on role of Steve Jobs, a...      3\n",
       "3  HBO and Apple in Talks for $15/Month Apple TV ...      3\n",
       "4  Spider burrowed through tourist's stomach and ...      1"
      ]
     },
     "execution_count": 7,
     "metadata": {},
     "output_type": "execute_result"
    }
   ],
   "source": [
    "df.head()\n"
   ]
  },
  {
   "cell_type": "code",
   "execution_count": 8,
   "metadata": {
    "colab": {
     "base_uri": "https://localhost:8080/"
    },
    "id": "676DPU1BOPdp",
    "outputId": "de482feb-0d3a-4d2f-a4d8-357ffea059f7"
   },
   "outputs": [
    {
     "data": {
      "text/plain": [
       "3    0.731310\n",
       "2    0.178280\n",
       "0    0.073601\n",
       "1    0.016809\n",
       "Name: label, dtype: float64"
      ]
     },
     "execution_count": 8,
     "metadata": {},
     "output_type": "execute_result"
    }
   ],
   "source": [
    "# check class distribution\n",
    "df['label'].value_counts(normalize = True)"
   ]
  },
  {
   "cell_type": "markdown",
   "metadata": {
    "id": "MKfWnApvOoE7"
   },
   "source": [
    "# Split train dataset into train, validation and test sets"
   ]
  },
  {
   "cell_type": "code",
   "execution_count": 18,
   "metadata": {
    "id": "EKHNUUcBT7De"
   },
   "outputs": [],
   "source": [
    "train_text, temp_text, train_labels, temp_labels = train_test_split(df['text'], df['label'], \n",
    "                                                                    random_state=2018, \n",
    "                                                                    test_size=0.3, \n",
    "                                                                    stratify=df['label'])\n",
    "\n",
    "# we will use temp_text and temp_labels to create validation and test set\n",
    "val_text, test_text, val_labels, test_labels = train_test_split(temp_text, temp_labels, \n",
    "                                                                random_state=2018, \n",
    "                                                                test_size=0.5, \n",
    "                                                                stratify=temp_labels)"
   ]
  },
  {
   "cell_type": "code",
   "execution_count": null,
   "metadata": {
    "id": "mfhSPF5jOWb7"
   },
   "outputs": [],
   "source": [
    "# train_headline, temp_headline, train_body, temp_body, train_labels, temp_labels = train_test_split(df['Headline'], df['articleBody'],\n",
    "#                                                                     df['Stance'], \n",
    "#                                                                     random_state=2018, \n",
    "#                                                                     test_size=0.3, \n",
    "#                                                                     stratify=df['Stance'])\n",
    "\n",
    "# # we will use temp_text and temp_labels to create validation and test set\n",
    "# val_headline, test_headline, val_body, test_body, val_labels, test_labels = train_test_split(temp_headline, temp_body, temp_labels, \n",
    "#                                                                 random_state=2018, \n",
    "#                                                                 test_size=0.5, \n",
    "#                                                                 stratify=temp_labels)"
   ]
  },
  {
   "cell_type": "markdown",
   "metadata": {
    "id": "n7hsdLoCO7uB"
   },
   "source": [
    "# Import BERT Model and BERT Tokenizer"
   ]
  },
  {
   "cell_type": "code",
   "execution_count": 7,
   "metadata": {
    "colab": {
     "base_uri": "https://localhost:8080/"
    },
    "id": "S1kY3gZjO2RE",
    "outputId": "ad7add99-5c02-49d8-daa8-deefc1881cfa"
   },
   "outputs": [],
   "source": [
    "# import BERT-base pretrained model\n",
    "bert = AutoModel.from_pretrained('bert-base-uncased')\n",
    "\n",
    "# Load the BERT tokenizer\n",
    "tokenizer = BertTokenizerFast.from_pretrained('bert-base-uncased')"
   ]
  },
  {
   "cell_type": "code",
   "execution_count": null,
   "metadata": {
    "id": "_zOKeOMeO-DT"
   },
   "outputs": [],
   "source": [
    "# # sample data\n",
    "# text = [\"this is a bert model tutorial\", \"we will fine-tune a bert model\"]\n",
    "\n",
    "# # encode text\n",
    "# sent_id = tokenizer.batch_encode_plus(text, padding=True, return_token_type_ids=False)"
   ]
  },
  {
   "cell_type": "code",
   "execution_count": null,
   "metadata": {
    "id": "oAH73n39PHLw"
   },
   "outputs": [],
   "source": [
    "# output\n",
    "# print(sent_id)"
   ]
  },
  {
   "cell_type": "markdown",
   "metadata": {
    "id": "8wIYaWI_Prg8"
   },
   "source": [
    "# Tokenization"
   ]
  },
  {
   "cell_type": "code",
   "execution_count": 7,
   "metadata": {
    "colab": {
     "base_uri": "https://localhost:8080/",
     "height": 282
    },
    "id": "yKwbpeN_PMiu",
    "outputId": "1bebdb88-97b6-46de-e091-9c9d699c6303"
   },
   "outputs": [
    {
     "data": {
      "text/plain": [
       "<matplotlib.axes._subplots.AxesSubplot at 0x7f6a2d28b4a8>"
      ]
     },
     "execution_count": 7,
     "metadata": {},
     "output_type": "execute_result"
    },
    {
     "data": {
      "image/png": "[encoded data removed]",
      "text/plain": [
       "<Figure size 432x288 with 1 Axes>"
      ]
     },
     "metadata": {
      "needs_background": "light"
     },
     "output_type": "display_data"
    }
   ],
   "source": [
    "# get length of all the messages in the train set\n",
    "seq_len = [len(i.split()) for i in train_text]\n",
    "# seq_len_b = [len(i.split()) for i in train_body]\n",
    "\n",
    "pd.Series(seq_len).hist(bins = 30)"
   ]
  },
  {
   "cell_type": "code",
   "execution_count": 8,
   "metadata": {
    "id": "OXcswEIRPvGe"
   },
   "outputs": [],
   "source": [
    "max_seq_len = 512"
   ]
  },
  {
   "cell_type": "code",
   "execution_count": 14,
   "metadata": {
    "id": "tk5S7DWaP2t6"
   },
   "outputs": [],
   "source": [
    "# tokenize and encode sequences in the training set\n",
    "tokens_train = tokenizer.batch_encode_plus(\n",
    "    train_text.tolist(),\n",
    "    max_length = max_seq_len,\n",
    "    padding='max_length',\n",
    "    pad_to_max_length=True,\n",
    "    truncation=True,\n",
    "    return_token_type_ids=False\n",
    ")\n",
    "\n",
    "# tokenize and encode sequences in the validation set\n",
    "tokens_val = tokenizer.batch_encode_plus(\n",
    "    val_text.tolist(),\n",
    "    max_length = max_seq_len,\n",
    "    padding='max_length',  \n",
    "    pad_to_max_length=True,\n",
    "    truncation=True,\n",
    "    return_token_type_ids=False\n",
    ")\n",
    "\n"
   ]
  },
  {
   "cell_type": "code",
   "execution_count": 19,
   "metadata": {},
   "outputs": [],
   "source": [
    "# tokenize and encode sequences in the test set\n",
    "tokens_test = tokenizer.batch_encode_plus(\n",
    "    test_text.tolist(),\n",
    "    max_length = max_seq_len,\n",
    "    padding='max_length',\n",
    "    pad_to_max_length=True,\n",
    "    truncation=True,\n",
    "    return_token_type_ids=False\n",
    ")"
   ]
  },
  {
   "cell_type": "markdown",
   "metadata": {
    "id": "Wsm8bkRZQTw9"
   },
   "source": [
    "# Convert Integer Sequences to Tensors"
   ]
  },
  {
   "cell_type": "code",
   "execution_count": 15,
   "metadata": {
    "id": "QR-lXwmzQPd6"
   },
   "outputs": [],
   "source": [
    "# for train set\n",
    "\n",
    "train_seq = torch.tensor(tokens_train['input_ids'])\n",
    "train_mask = torch.tensor(tokens_train['attention_mask'])\n",
    "\n",
    "train_y = torch.tensor(train_labels.tolist())\n",
    "\n",
    "# for validation set\n",
    "val_seq = torch.tensor(tokens_val['input_ids'])\n",
    "val_mask = torch.tensor(tokens_val['attention_mask'])\n",
    "val_y = torch.tensor(val_labels.tolist())\n",
    "\n"
   ]
  },
  {
   "cell_type": "code",
   "execution_count": 20,
   "metadata": {},
   "outputs": [],
   "source": [
    "# for test set\n",
    "test_seq = torch.tensor(tokens_test['input_ids'])\n",
    "test_mask = torch.tensor(tokens_test['attention_mask'])\n",
    "test_y = torch.tensor(test_labels.tolist())"
   ]
  },
  {
   "cell_type": "markdown",
   "metadata": {
    "id": "Ov1cOBlcRLuk"
   },
   "source": [
    "# Create DataLoaders"
   ]
  },
  {
   "cell_type": "code",
   "execution_count": 16,
   "metadata": {
    "id": "qUy9JKFYQYLp"
   },
   "outputs": [],
   "source": [
    "from torch.utils.data import TensorDataset, DataLoader, RandomSampler, SequentialSampler\n",
    "\n",
    "#define a batch size\n",
    "batch_size = 32\n",
    "\n",
    "# wrap tensors\n",
    "train_data = TensorDataset(train_seq, train_mask, train_y)\n",
    "\n",
    "# sampler for sampling the data during training\n",
    "train_sampler = RandomSampler(train_data)\n",
    "\n",
    "# dataLoader for train set\n",
    "train_dataloader = DataLoader(train_data, sampler=train_sampler, batch_size=batch_size)\n",
    "\n",
    "# wrap tensors\n",
    "val_data = TensorDataset(val_seq, val_mask, val_y)\n",
    "\n",
    "# sampler for sampling the data during training\n",
    "val_sampler = SequentialSampler(val_data)\n",
    "\n",
    "# dataLoader for validation set\n",
    "val_dataloader = DataLoader(val_data, sampler = val_sampler, batch_size=batch_size)"
   ]
  },
  {
   "cell_type": "code",
   "execution_count": 22,
   "metadata": {},
   "outputs": [],
   "source": [
    "from torch.utils.data import TensorDataset, DataLoader, RandomSampler, SequentialSampler\n",
    "\n",
    "#define a batch size\n",
    "batch_size = 32\n",
    "\n",
    "# wrap tensors\n",
    "test_data = TensorDataset(test_seq, test_mask, test_y)\n",
    "\n",
    "# sampler for sampling the data during training\n",
    "test_sampler = RandomSampler(test_data)\n",
    "\n",
    "# dataLoader for train set\n",
    "test_dataloader = DataLoader(test_data, sampler=test_sampler, batch_size=batch_size)\n"
   ]
  },
  {
   "cell_type": "markdown",
   "metadata": {
    "id": "K2HZc5ZYRV28"
   },
   "source": [
    "# Freeze BERT Parameters"
   ]
  },
  {
   "cell_type": "code",
   "execution_count": 11,
   "metadata": {
    "id": "wHZ0MC00RQA_"
   },
   "outputs": [],
   "source": [
    "# freeze all the parameters\n",
    "for param in bert.parameters():\n",
    "    param.requires_grad = False"
   ]
  },
  {
   "cell_type": "markdown",
   "metadata": {
    "id": "s7ahGBUWRi3X"
   },
   "source": [
    "# Define Model Architecture"
   ]
  },
  {
   "cell_type": "code",
   "execution_count": 11,
   "metadata": {
    "id": "b3iEtGyYRd0A"
   },
   "outputs": [],
   "source": [
    "class BERT_Arch(nn.Module):\n",
    "\n",
    "    def __init__(self, bert):\n",
    "      \n",
    "      super(BERT_Arch, self).__init__()\n",
    "\n",
    "      self.bert = bert \n",
    "      \n",
    "      # dropout layer\n",
    "\n",
    "      self.dropout = nn.Dropout(0.1)\n",
    "      \n",
    "      # relu activation function\n",
    "      self.relu =  nn.ReLU()\n",
    "\n",
    "      # dense layer 1\n",
    "      self.fc1 = nn.Linear(768,512)\n",
    "      \n",
    "      # dense layer 2 (Output layer)\n",
    "      self.fc2 = nn.Linear(512,4)\n",
    "\n",
    "      #softmax activation function\n",
    "      self.softmax = nn.LogSoftmax(dim=1)\n",
    "\n",
    "    #define the forward pass\n",
    "    def forward(self, sent_id, mask):\n",
    "      # print(sent_id.size())\n",
    "      # print(mask.size())\n",
    "      #pass the inputs to the model  \n",
    "      _, cls_hs = self.bert(sent_id, attention_mask=mask)\n",
    "      x = self.fc1(cls_hs)\n",
    "\n",
    "      x = self.relu(x)\n",
    "\n",
    "      x = self.dropout(x)\n",
    "\n",
    "      # output layer\n",
    "      x = self.fc2(x)\n",
    "      \n",
    "      # apply softmax activation\n",
    "      x = self.softmax(x)\n",
    "\n",
    "      return x"
   ]
  },
  {
   "cell_type": "code",
   "execution_count": 12,
   "metadata": {
    "id": "cBAJJVuJRliv"
   },
   "outputs": [],
   "source": [
    "# pass the pre-trained BERT to our define architecture\n",
    "device = torch.device(\"cuda\")\n",
    "model = BERT_Arch(bert)\n",
    "\n",
    "# push the model to GPU\n",
    "model = model.to(device)"
   ]
  },
  {
   "cell_type": "code",
   "execution_count": 77,
   "metadata": {
    "colab": {
     "base_uri": "https://localhost:8080/"
    },
    "id": "taXS0IilRn9J",
    "outputId": "8d68f30c-de66-4c98-bb4c-4147ec59a096"
   },
   "outputs": [],
   "source": [
    "# optimizer from hugging face transformers\n",
    "from transformers import AdamW\n",
    "\n",
    "# define the optimizer\n",
    "optimizer = AdamW(model.parameters(), lr = 1e-3)"
   ]
  },
  {
   "cell_type": "markdown",
   "metadata": {
    "id": "j9CDpoMQR_rK"
   },
   "source": [
    "# Find Class Weights"
   ]
  },
  {
   "cell_type": "code",
   "execution_count": 25,
   "metadata": {
    "colab": {
     "base_uri": "https://localhost:8080/"
    },
    "id": "izY5xH5eR7Ur",
    "outputId": "ce6a0db4-8d85-4d0b-b2f2-f974d369a3e4"
   },
   "outputs": [
    {
     "name": "stdout",
     "output_type": "stream",
     "text": [
      "[3.33877628 9.11321721 1.42312    0.34625117]\n"
     ]
    }
   ],
   "source": [
    "from sklearn.utils.class_weight import compute_class_weight\n",
    "\n",
    "#compute the class weights\n",
    "class_wts = compute_class_weight('balanced', classes = np.unique(train_labels), y =train_labels)\n",
    "\n",
    "print(class_wts)"
   ]
  },
  {
   "cell_type": "code",
   "execution_count": 26,
   "metadata": {
    "id": "r1WvfY2vSGKi"
   },
   "outputs": [],
   "source": [
    "# convert class weights to tensor\n",
    "weights= torch.tensor(class_wts,dtype=torch.float)\n",
    "weights = weights.to(device)\n",
    "\n",
    "# loss function\n",
    "cross_entropy  = nn.NLLLoss(weight=weights) \n",
    "\n",
    "# number of training epochs\n",
    "epochs = 10"
   ]
  },
  {
   "cell_type": "markdown",
   "metadata": {
    "id": "My4CA0qaShLq"
   },
   "source": [
    "# Fine-Tune BERT"
   ]
  },
  {
   "cell_type": "code",
   "execution_count": 82,
   "metadata": {
    "id": "rskLk8R_SahS"
   },
   "outputs": [],
   "source": [
    "# function to train the model\n",
    "def train():\n",
    "  \n",
    "  model.train()\n",
    "\n",
    "  total_loss, total_accuracy = 0, 0\n",
    "  \n",
    "  # empty list to save model predictions\n",
    "  total_preds=[]\n",
    "  \n",
    "  # iterate over batches\n",
    "  for step,batch in enumerate(train_dataloader):\n",
    "    \n",
    "    # progress update after every 50 batches.\n",
    "    if step % 50 == 0 and not step == 0:\n",
    "      print('  Batch {:>5,}  of  {:>5,}.'.format(step, len(train_dataloader)))\n",
    "\n",
    "    # push the batch to gpu\n",
    "    batch = [r.to(device) for r in batch]\n",
    " \n",
    "    sent_id, mask, labels = batch\n",
    "    # print(sent_id)\n",
    "\n",
    "    # clear previously calculated gradients \n",
    "    model.zero_grad()        \n",
    "\n",
    "    # get model predictions for the current batch\n",
    "    preds = model(sent_id, mask)\n",
    "    #print(\"Predicted val: {}\".format(preds))\n",
    "   \n",
    "\n",
    "    # compute the loss between actual and predicted values\n",
    "    loss = cross_entropy(preds, labels)\n",
    "\n",
    "    # add on to the total loss\n",
    "    total_loss = total_loss + loss.item()\n",
    "\n",
    "    # backward pass to calculate the gradients\n",
    "    loss.backward()\n",
    "\n",
    "    # clip the the gradients to 1.0. It helps in preventing the exploding gradient problem\n",
    "    torch.nn.utils.clip_grad_norm_(model.parameters(), 1.0)\n",
    "\n",
    "    # update parameters\n",
    "    optimizer.step()\n",
    "\n",
    "    # model predictions are stored on GPU. So, push it to CPU\n",
    "    preds=preds.detach().cpu().numpy()\n",
    "\n",
    "    # append the model predictions\n",
    "    total_preds.append(preds)\n",
    "\n",
    "  # compute the training loss of the epoch\n",
    "  avg_loss = total_loss / len(train_dataloader)\n",
    "  \n",
    "  # predictions are in the form of (no. of batches, size of batch, no. of classes).\n",
    "  # reshape the predictions in form of (number of samples, no. of classes)\n",
    "  total_preds  = np.concatenate(total_preds, axis=0)\n",
    "\n",
    "  #returns the loss and predictions\n",
    "  return avg_loss, total_preds"
   ]
  },
  {
   "cell_type": "code",
   "execution_count": 83,
   "metadata": {
    "id": "yGXovFDlSxB5"
   },
   "outputs": [],
   "source": [
    "# function for evaluating the model\n",
    "def evaluate():\n",
    "  \n",
    "  print(\"\\nEvaluating...\")\n",
    "  \n",
    "  # deactivate dropout layers\n",
    "  model.eval()\n",
    "\n",
    "  total_loss, total_accuracy = 0, 0\n",
    "  \n",
    "  # empty list to save the model predictions\n",
    "  total_preds = []\n",
    "\n",
    "  # iterate over batches\n",
    "  for step,batch in enumerate(val_dataloader):\n",
    "    \n",
    "    # Progress update every 50 batches.\n",
    "    if step % 50 == 0 and not step == 0:\n",
    "      \n",
    "      # Calculate elapsed time in minutes.\n",
    "      # elapsed = format_time(time.time() - t0)\n",
    "            \n",
    "      # Report progress.\n",
    "      print('  Batch {:>5,}  of  {:>5,}.'.format(step, len(val_dataloader)))\n",
    "\n",
    "    # push the batch to gpu\n",
    "    batch = [t.to(device) for t in batch]\n",
    "\n",
    "    sent_id, mask, labels = batch\n",
    "\n",
    "    # deactivate autograd\n",
    "    with torch.no_grad():\n",
    "      \n",
    "      # model predictions\n",
    "      preds = model(sent_id, mask)\n",
    "\n",
    "      # compute the validation loss between actual and predicted values\n",
    "      \n",
    "      loss = cross_entropy(preds,labels)\n",
    "\n",
    "      total_loss = total_loss + loss.item()\n",
    "\n",
    "      preds = preds.detach().cpu().numpy()\n",
    "\n",
    "      total_preds.append(preds)\n",
    "\n",
    "  # compute the validation loss of the epoch\n",
    "  avg_loss = total_loss / len(val_dataloader) \n",
    "\n",
    "  # reshape the predictions in form of (number of samples, no. of classes)\n",
    "  total_preds  = np.concatenate(total_preds, axis=0)\n",
    "\n",
    "  return avg_loss, total_preds"
   ]
  },
  {
   "cell_type": "markdown",
   "metadata": {
    "id": "9KZEgxRRTLXG"
   },
   "source": [
    "# Start Model Training"
   ]
  },
  {
   "cell_type": "code",
   "execution_count": 84,
   "metadata": {
    "colab": {
     "base_uri": "https://localhost:8080/",
     "height": 1000
    },
    "id": "k1USGTntS3TS",
    "outputId": "2904907b-14fb-44bb-f3b5-68890d808546"
   },
   "outputs": [
    {
     "name": "stdout",
     "output_type": "stream",
     "text": [
      "\n",
      " Epoch 1 / 10\n",
      "  Batch    50  of  1,094.\n",
      "  Batch   100  of  1,094.\n",
      "  Batch   150  of  1,094.\n",
      "  Batch   200  of  1,094.\n",
      "  Batch   250  of  1,094.\n",
      "  Batch   300  of  1,094.\n",
      "  Batch   350  of  1,094.\n",
      "  Batch   400  of  1,094.\n",
      "  Batch   450  of  1,094.\n",
      "  Batch   500  of  1,094.\n",
      "  Batch   550  of  1,094.\n",
      "  Batch   600  of  1,094.\n",
      "  Batch   650  of  1,094.\n",
      "  Batch   700  of  1,094.\n",
      "  Batch   750  of  1,094.\n",
      "  Batch   800  of  1,094.\n",
      "  Batch   850  of  1,094.\n",
      "  Batch   900  of  1,094.\n",
      "  Batch   950  of  1,094.\n",
      "  Batch 1,000  of  1,094.\n",
      "  Batch 1,050  of  1,094.\n",
      "\n",
      "Evaluating...\n",
      "  Batch    50  of    235.\n",
      "  Batch   100  of    235.\n",
      "  Batch   150  of    235.\n",
      "  Batch   200  of    235.\n",
      "\n",
      "Training Loss: 1.380\n",
      "Validation Loss: 1.317\n",
      "\n",
      " Epoch 2 / 10\n",
      "  Batch    50  of  1,094.\n",
      "  Batch   100  of  1,094.\n",
      "  Batch   150  of  1,094.\n",
      "  Batch   200  of  1,094.\n",
      "  Batch   250  of  1,094.\n",
      "  Batch   300  of  1,094.\n",
      "  Batch   350  of  1,094.\n",
      "  Batch   400  of  1,094.\n",
      "  Batch   450  of  1,094.\n",
      "  Batch   500  of  1,094.\n",
      "  Batch   550  of  1,094.\n",
      "  Batch   600  of  1,094.\n",
      "  Batch   650  of  1,094.\n",
      "  Batch   700  of  1,094.\n",
      "  Batch   750  of  1,094.\n",
      "  Batch   800  of  1,094.\n",
      "  Batch   850  of  1,094.\n",
      "  Batch   900  of  1,094.\n",
      "  Batch   950  of  1,094.\n",
      "  Batch 1,000  of  1,094.\n",
      "  Batch 1,050  of  1,094.\n",
      "\n",
      "Evaluating...\n",
      "  Batch    50  of    235.\n",
      "  Batch   100  of    235.\n",
      "  Batch   150  of    235.\n",
      "  Batch   200  of    235.\n",
      "\n",
      "Training Loss: 1.361\n",
      "Validation Loss: 1.362\n",
      "\n",
      " Epoch 3 / 10\n",
      "  Batch    50  of  1,094.\n",
      "  Batch   100  of  1,094.\n",
      "  Batch   150  of  1,094.\n",
      "  Batch   200  of  1,094.\n",
      "  Batch   250  of  1,094.\n",
      "  Batch   300  of  1,094.\n",
      "  Batch   350  of  1,094.\n",
      "  Batch   400  of  1,094.\n",
      "  Batch   450  of  1,094.\n",
      "  Batch   500  of  1,094.\n",
      "  Batch   550  of  1,094.\n",
      "  Batch   600  of  1,094.\n",
      "  Batch   650  of  1,094.\n",
      "  Batch   700  of  1,094.\n",
      "  Batch   750  of  1,094.\n",
      "  Batch   800  of  1,094.\n",
      "  Batch   850  of  1,094.\n",
      "  Batch   900  of  1,094.\n",
      "  Batch   950  of  1,094.\n",
      "  Batch 1,000  of  1,094.\n",
      "  Batch 1,050  of  1,094.\n",
      "\n",
      "Evaluating...\n",
      "  Batch    50  of    235.\n",
      "  Batch   100  of    235.\n",
      "  Batch   150  of    235.\n",
      "  Batch   200  of    235.\n",
      "\n",
      "Training Loss: 1.357\n",
      "Validation Loss: 1.352\n",
      "\n",
      " Epoch 4 / 10\n",
      "  Batch    50  of  1,094.\n",
      "  Batch   100  of  1,094.\n",
      "  Batch   150  of  1,094.\n",
      "  Batch   200  of  1,094.\n",
      "  Batch   250  of  1,094.\n",
      "  Batch   300  of  1,094.\n",
      "  Batch   350  of  1,094.\n",
      "  Batch   400  of  1,094.\n",
      "  Batch   450  of  1,094.\n",
      "  Batch   500  of  1,094.\n",
      "  Batch   550  of  1,094.\n",
      "  Batch   600  of  1,094.\n",
      "  Batch   650  of  1,094.\n",
      "  Batch   700  of  1,094.\n",
      "  Batch   750  of  1,094.\n",
      "  Batch   800  of  1,094.\n",
      "  Batch   850  of  1,094.\n",
      "  Batch   900  of  1,094.\n",
      "  Batch   950  of  1,094.\n",
      "  Batch 1,000  of  1,094.\n",
      "  Batch 1,050  of  1,094.\n",
      "\n",
      "Evaluating...\n",
      "  Batch    50  of    235.\n",
      "  Batch   100  of    235.\n",
      "  Batch   150  of    235.\n",
      "  Batch   200  of    235.\n",
      "\n",
      "Training Loss: 1.340\n",
      "Validation Loss: 1.337\n",
      "\n",
      " Epoch 5 / 10\n",
      "  Batch    50  of  1,094.\n",
      "  Batch   100  of  1,094.\n",
      "  Batch   150  of  1,094.\n",
      "  Batch   200  of  1,094.\n",
      "  Batch   250  of  1,094.\n",
      "  Batch   300  of  1,094.\n",
      "  Batch   350  of  1,094.\n",
      "  Batch   400  of  1,094.\n",
      "  Batch   450  of  1,094.\n",
      "  Batch   500  of  1,094.\n",
      "  Batch   550  of  1,094.\n",
      "  Batch   600  of  1,094.\n",
      "  Batch   650  of  1,094.\n",
      "  Batch   700  of  1,094.\n",
      "  Batch   750  of  1,094.\n",
      "  Batch   800  of  1,094.\n",
      "  Batch   850  of  1,094.\n",
      "  Batch   900  of  1,094.\n",
      "  Batch   950  of  1,094.\n",
      "  Batch 1,000  of  1,094.\n",
      "  Batch 1,050  of  1,094.\n",
      "\n",
      "Evaluating...\n",
      "  Batch    50  of    235.\n",
      "  Batch   100  of    235.\n",
      "  Batch   150  of    235.\n",
      "  Batch   200  of    235.\n",
      "\n",
      "Training Loss: 1.340\n",
      "Validation Loss: 1.289\n",
      "\n",
      " Epoch 6 / 10\n",
      "  Batch    50  of  1,094.\n",
      "  Batch   100  of  1,094.\n",
      "  Batch   150  of  1,094.\n",
      "  Batch   200  of  1,094.\n",
      "  Batch   250  of  1,094.\n",
      "  Batch   300  of  1,094.\n",
      "  Batch   350  of  1,094.\n",
      "  Batch   400  of  1,094.\n",
      "  Batch   450  of  1,094.\n",
      "  Batch   500  of  1,094.\n",
      "  Batch   550  of  1,094.\n",
      "  Batch   600  of  1,094.\n",
      "  Batch   650  of  1,094.\n",
      "  Batch   700  of  1,094.\n",
      "  Batch   750  of  1,094.\n",
      "  Batch   800  of  1,094.\n",
      "  Batch   850  of  1,094.\n",
      "  Batch   900  of  1,094.\n",
      "  Batch   950  of  1,094.\n",
      "  Batch 1,000  of  1,094.\n",
      "  Batch 1,050  of  1,094.\n",
      "\n",
      "Evaluating...\n",
      "  Batch    50  of    235.\n",
      "  Batch   100  of    235.\n",
      "  Batch   150  of    235.\n",
      "  Batch   200  of    235.\n",
      "\n",
      "Training Loss: 1.335\n",
      "Validation Loss: 1.375\n",
      "\n",
      " Epoch 7 / 10\n",
      "  Batch    50  of  1,094.\n",
      "  Batch   100  of  1,094.\n",
      "  Batch   150  of  1,094.\n",
      "  Batch   200  of  1,094.\n",
      "  Batch   250  of  1,094.\n",
      "  Batch   300  of  1,094.\n",
      "  Batch   350  of  1,094.\n",
      "  Batch   400  of  1,094.\n",
      "  Batch   450  of  1,094.\n",
      "  Batch   500  of  1,094.\n",
      "  Batch   550  of  1,094.\n",
      "  Batch   600  of  1,094.\n",
      "  Batch   650  of  1,094.\n",
      "  Batch   700  of  1,094.\n",
      "  Batch   750  of  1,094.\n",
      "  Batch   800  of  1,094.\n",
      "  Batch   850  of  1,094.\n",
      "  Batch   900  of  1,094.\n",
      "  Batch   950  of  1,094.\n",
      "  Batch 1,000  of  1,094.\n",
      "  Batch 1,050  of  1,094.\n",
      "\n",
      "Evaluating...\n",
      "  Batch    50  of    235.\n",
      "  Batch   100  of    235.\n",
      "  Batch   150  of    235.\n",
      "  Batch   200  of    235.\n",
      "\n",
      "Training Loss: 1.324\n",
      "Validation Loss: 1.351\n",
      "\n",
      " Epoch 8 / 10\n",
      "  Batch    50  of  1,094.\n",
      "  Batch   100  of  1,094.\n",
      "  Batch   150  of  1,094.\n",
      "  Batch   200  of  1,094.\n",
      "  Batch   250  of  1,094.\n",
      "  Batch   300  of  1,094.\n",
      "  Batch   350  of  1,094.\n",
      "  Batch   400  of  1,094.\n",
      "  Batch   450  of  1,094.\n",
      "  Batch   500  of  1,094.\n",
      "  Batch   550  of  1,094.\n",
      "  Batch   600  of  1,094.\n",
      "  Batch   650  of  1,094.\n",
      "  Batch   700  of  1,094.\n",
      "  Batch   750  of  1,094.\n",
      "  Batch   800  of  1,094.\n",
      "  Batch   850  of  1,094.\n",
      "  Batch   900  of  1,094.\n",
      "  Batch   950  of  1,094.\n",
      "  Batch 1,000  of  1,094.\n",
      "  Batch 1,050  of  1,094.\n",
      "\n",
      "Evaluating...\n",
      "  Batch    50  of    235.\n",
      "  Batch   100  of    235.\n",
      "  Batch   150  of    235.\n",
      "  Batch   200  of    235.\n",
      "\n",
      "Training Loss: 1.321\n",
      "Validation Loss: 1.402\n",
      "\n",
      " Epoch 9 / 10\n",
      "  Batch    50  of  1,094.\n",
      "  Batch   100  of  1,094.\n",
      "  Batch   150  of  1,094.\n",
      "  Batch   200  of  1,094.\n",
      "  Batch   250  of  1,094.\n",
      "  Batch   300  of  1,094.\n",
      "  Batch   350  of  1,094.\n",
      "  Batch   400  of  1,094.\n",
      "  Batch   450  of  1,094.\n",
      "  Batch   500  of  1,094.\n",
      "  Batch   550  of  1,094.\n",
      "  Batch   600  of  1,094.\n",
      "  Batch   650  of  1,094.\n",
      "  Batch   700  of  1,094.\n",
      "  Batch   750  of  1,094.\n",
      "  Batch   800  of  1,094.\n",
      "  Batch   850  of  1,094.\n",
      "  Batch   900  of  1,094.\n",
      "  Batch   950  of  1,094.\n",
      "  Batch 1,000  of  1,094.\n",
      "  Batch 1,050  of  1,094.\n",
      "\n",
      "Evaluating...\n",
      "  Batch    50  of    235.\n",
      "  Batch   100  of    235.\n",
      "  Batch   150  of    235.\n",
      "  Batch   200  of    235.\n",
      "\n",
      "Training Loss: 1.321\n",
      "Validation Loss: 1.308\n",
      "\n",
      " Epoch 10 / 10\n",
      "  Batch    50  of  1,094.\n",
      "  Batch   100  of  1,094.\n",
      "  Batch   150  of  1,094.\n",
      "  Batch   200  of  1,094.\n",
      "  Batch   250  of  1,094.\n",
      "  Batch   300  of  1,094.\n",
      "  Batch   350  of  1,094.\n",
      "  Batch   400  of  1,094.\n",
      "  Batch   450  of  1,094.\n",
      "  Batch   500  of  1,094.\n",
      "  Batch   550  of  1,094.\n",
      "  Batch   600  of  1,094.\n",
      "  Batch   650  of  1,094.\n",
      "  Batch   700  of  1,094.\n",
      "  Batch   750  of  1,094.\n",
      "  Batch   800  of  1,094.\n",
      "  Batch   850  of  1,094.\n",
      "  Batch   900  of  1,094.\n",
      "  Batch   950  of  1,094.\n",
      "  Batch 1,000  of  1,094.\n",
      "  Batch 1,050  of  1,094.\n",
      "\n",
      "Evaluating...\n",
      "  Batch    50  of    235.\n",
      "  Batch   100  of    235.\n",
      "  Batch   150  of    235.\n",
      "  Batch   200  of    235.\n",
      "\n",
      "Training Loss: 1.319\n",
      "Validation Loss: 1.288\n"
     ]
    }
   ],
   "source": [
    "# set initial loss to infinite\n",
    "best_valid_loss = float('inf')\n",
    "\n",
    "# empty lists to store training and validation loss of each epoch\n",
    "train_losses=[]\n",
    "valid_losses=[]\n",
    "\n",
    "#for each epoch\n",
    "for epoch in range(epochs):\n",
    "     \n",
    "    print('\\n Epoch {:} / {:}'.format(epoch + 1, epochs))\n",
    "    \n",
    "    #train model\n",
    "    train_loss, _ = train()\n",
    "    \n",
    "    #evaluate model\n",
    "    valid_loss, _ = evaluate()\n",
    "    \n",
    "    #save the best model\n",
    "    if valid_loss < best_valid_loss:\n",
    "        best_valid_loss = valid_loss\n",
    "        torch.save(model.state_dict(), 'saved_weights.pt')\n",
    "    \n",
    "    # append training and validation loss\n",
    "    train_losses.append(train_loss)\n",
    "    valid_losses.append(valid_loss)\n",
    "    \n",
    "    print(f'\\nTraining Loss: {train_loss:.3f}')\n",
    "    print(f'Validation Loss: {valid_loss:.3f}')"
   ]
  },
  {
   "cell_type": "markdown",
   "metadata": {
    "id": "_yrhUc9kTI5a"
   },
   "source": [
    "# Load Saved Model"
   ]
  },
  {
   "cell_type": "code",
   "execution_count": 13,
   "metadata": {
    "colab": {
     "base_uri": "https://localhost:8080/",
     "height": 34
    },
    "id": "OacxUyizS8d1",
    "outputId": "c8b951c2-1f74-4a13-db65-8acd077995e5"
   },
   "outputs": [
    {
     "data": {
      "text/plain": [
       "<All keys matched successfully>"
      ]
     },
     "execution_count": 13,
     "metadata": {},
     "output_type": "execute_result"
    }
   ],
   "source": [
    "#load weights of best model\n",
    "path = 'saved_weights.pt'\n",
    "model.load_state_dict(torch.load(path))"
   ]
  },
  {
   "cell_type": "markdown",
   "metadata": {
    "id": "x4SVftkkTZXA"
   },
   "source": [
    "# Get Predictions for Test Data"
   ]
  },
  {
   "cell_type": "code",
   "execution_count": 28,
   "metadata": {},
   "outputs": [],
   "source": [
    "# function for evaluating the model\n",
    "def evaluate_test():\n",
    "  \n",
    "  print(\"\\nEvaluating...\")\n",
    "  \n",
    "  # deactivate dropout layers\n",
    "  model.eval()\n",
    "\n",
    "  total_loss, total_accuracy = 0, 0\n",
    "  \n",
    "  # empty list to save the model predictions\n",
    "  total_preds = []\n",
    "\n",
    "  # iterate over batches\n",
    "  for step,batch in enumerate(test_dataloader):\n",
    "    \n",
    "    # Progress update every 50 batches.\n",
    "    if step % 50 == 0 and not step == 0:\n",
    "      \n",
    "      # Calculate elapsed time in minutes.\n",
    "      # elapsed = format_time(time.time() - t0)\n",
    "            \n",
    "      # Report progress.\n",
    "      print('  Batch {:>5,}  of  {:>5,}.'.format(step, len(test_dataloader)))\n",
    "\n",
    "    # push the batch to gpu\n",
    "    batch = [t.to(device) for t in batch]\n",
    "\n",
    "    sent_id, mask, labels = batch\n",
    "\n",
    "    # deactivate autograd\n",
    "    with torch.no_grad():\n",
    "      \n",
    "      # model predictions\n",
    "      preds = model(sent_id, mask)\n",
    "\n",
    "      # compute the validation loss between actual and predicted values\n",
    "      \n",
    "      loss = cross_entropy(preds,labels)\n",
    "\n",
    "      total_loss = total_loss + loss.item()\n",
    "\n",
    "      preds = preds.detach().cpu().numpy()\n",
    "\n",
    "      total_preds.append(preds)\n",
    "\n",
    "  # compute the validation loss of the epoch\n",
    "  avg_loss = total_loss / len(test_dataloader) \n",
    "\n",
    "  # reshape the predictions in form of (number of samples, no. of classes)\n",
    "  total_preds  = np.concatenate(total_preds, axis=0)\n",
    "\n",
    "  return avg_loss, total_preds"
   ]
  },
  {
   "cell_type": "code",
   "execution_count": 29,
   "metadata": {},
   "outputs": [
    {
     "name": "stdout",
     "output_type": "stream",
     "text": [
      "\n",
      "Evaluating...\n",
      "  Batch    50  of    120.\n",
      "  Batch   100  of    120.\n"
     ]
    }
   ],
   "source": [
    "_,total_pred = evaluate_test()"
   ]
  },
  {
   "cell_type": "code",
   "execution_count": 38,
   "metadata": {},
   "outputs": [
    {
     "name": "stdout",
     "output_type": "stream",
     "text": [
      "(3812, 4)\n"
     ]
    }
   ],
   "source": [
    "print(total_pred.shape)"
   ]
  },
  {
   "cell_type": "code",
   "execution_count": 45,
   "metadata": {},
   "outputs": [
    {
     "name": "stdout",
     "output_type": "stream",
     "text": [
      "              precision    recall  f1-score   support\n",
      "\n",
      "           0       0.08      0.15      0.10       285\n",
      "           1       0.02      0.02      0.02       104\n",
      "           2       0.19      0.41      0.26       670\n",
      "           3       0.72      0.45      0.55      2753\n",
      "\n",
      "    accuracy                           0.41      3812\n",
      "   macro avg       0.25      0.26      0.23      3812\n",
      "weighted avg       0.56      0.41      0.45      3812\n",
      "\n"
     ]
    },
    {
     "data": {
      "text/html": [
       "<div>\n",
       "<style scoped>\n",
       "    .dataframe tbody tr th:only-of-type {\n",
       "        vertical-align: middle;\n",
       "    }\n",
       "\n",
       "    .dataframe tbody tr th {\n",
       "        vertical-align: top;\n",
       "    }\n",
       "\n",
       "    .dataframe thead th {\n",
       "        text-align: right;\n",
       "    }\n",
       "</style>\n",
       "<table border=\"1\" class=\"dataframe\">\n",
       "  <thead>\n",
       "    <tr style=\"text-align: right;\">\n",
       "      <th>col_0</th>\n",
       "      <th>0</th>\n",
       "      <th>1</th>\n",
       "      <th>2</th>\n",
       "      <th>3</th>\n",
       "    </tr>\n",
       "    <tr>\n",
       "      <th>row_0</th>\n",
       "      <th></th>\n",
       "      <th></th>\n",
       "      <th></th>\n",
       "      <th></th>\n",
       "    </tr>\n",
       "  </thead>\n",
       "  <tbody>\n",
       "    <tr>\n",
       "      <th>0</th>\n",
       "      <td>43</td>\n",
       "      <td>7</td>\n",
       "      <td>95</td>\n",
       "      <td>140</td>\n",
       "    </tr>\n",
       "    <tr>\n",
       "      <th>1</th>\n",
       "      <td>12</td>\n",
       "      <td>2</td>\n",
       "      <td>38</td>\n",
       "      <td>52</td>\n",
       "    </tr>\n",
       "    <tr>\n",
       "      <th>2</th>\n",
       "      <td>89</td>\n",
       "      <td>15</td>\n",
       "      <td>274</td>\n",
       "      <td>292</td>\n",
       "    </tr>\n",
       "    <tr>\n",
       "      <th>3</th>\n",
       "      <td>425</td>\n",
       "      <td>66</td>\n",
       "      <td>1024</td>\n",
       "      <td>1238</td>\n",
       "    </tr>\n",
       "  </tbody>\n",
       "</table>\n",
       "</div>"
      ],
      "text/plain": [
       "col_0    0   1     2     3\n",
       "row_0                     \n",
       "0       43   7    95   140\n",
       "1       12   2    38    52\n",
       "2       89  15   274   292\n",
       "3      425  66  1024  1238"
      ]
     },
     "execution_count": 45,
     "metadata": {},
     "output_type": "execute_result"
    }
   ],
   "source": [
    "# model's performance\n",
    "preds = np.argmax(total_pred, axis = 1)\n",
    "test_y_array = test_y.detach().cpu().numpy()\n",
    "print(classification_report(test_y_array, preds))\n",
    "# confusion matrix\n",
    "pd.crosstab(test_y_array, preds)"
   ]
  },
  {
   "cell_type": "code",
   "execution_count": null,
   "metadata": {
    "id": "NZl0SZmFTRQA"
   },
   "outputs": [],
   "source": [
    "# get predictions for test data\n",
    "\n",
    "with torch.no_grad():\n",
    "  preds = model(test_seq.to(device), test_mask.to(device))\n",
    "  preds = preds.detach().cpu().numpy()"
   ]
  },
  {
   "cell_type": "code",
   "execution_count": null,
   "metadata": {
    "colab": {
     "base_uri": "https://localhost:8080/",
     "height": 170
    },
    "id": "Ms1ObHZxTYSI",
    "outputId": "47d01595-e519-4a58-8f2e-75596ea1512d"
   },
   "outputs": [],
   "source": [
    "# model's performance\n",
    "preds = np.argmax(preds, axis = 1)\n",
    "print(classification_report(test_y, preds))"
   ]
  },
  {
   "cell_type": "code",
   "execution_count": null,
   "metadata": {
    "colab": {
     "base_uri": "https://localhost:8080/",
     "height": 142
    },
    "id": "YqzLS7rHTp4T",
    "outputId": "d3abc432-5ad0-41e5-cfc2-d1d1192f5672"
   },
   "outputs": [],
   "source": [
    "# confusion matrix\n",
    "pd.crosstab(test_y, preds)"
   ]
  },
  {
   "cell_type": "code",
   "execution_count": null,
   "metadata": {
    "id": "jpX1uTwjUPY6"
   },
   "outputs": [],
   "source": []
  }
 ],
 "metadata": {
  "accelerator": "GPU",
  "colab": {
   "collapsed_sections": [],
   "name": "Fine_Tuning_BERT_for_Fake News_stance_detection",
   "provenance": []
  },
  "kernelspec": {
   "display_name": "Python 3",
   "language": "python",
   "name": "python3"
  },
  "language_info": {
   "codemirror_mode": {
    "name": "ipython",
    "version": 3
   },
   "file_extension": ".py",
   "mimetype": "text/x-python",
   "name": "python",
   "nbconvert_exporter": "python",
   "pygments_lexer": "ipython3",
   "version": "3.6.10"
  }
 },
 "nbformat": 4,
 "nbformat_minor": 1
}
