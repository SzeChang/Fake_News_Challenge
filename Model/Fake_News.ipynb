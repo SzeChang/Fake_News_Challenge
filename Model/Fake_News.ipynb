{
  "nbformat": 4,
  "nbformat_minor": 0,
  "metadata": {
    "colab": {
      "name": "Fake News.ipynb",
      "provenance": [],
      "collapsed_sections": []
    },
    "kernelspec": {
      "name": "python3",
      "display_name": "Python 3"
    },
    "language_info": {
      "name": "python"
    },
    "accelerator": "GPU",
    "gpuClass": "standard"
  },
  "cells": [
    {
      "cell_type": "code",
      "execution_count": 121,
      "metadata": {
        "colab": {
          "base_uri": "https://localhost:8080/"
        },
        "id": "bi1msJHVHjN2",
        "outputId": "2a09def2-24b3-4d85-9442-0645ef0bcdd1"
      },
      "outputs": [
        {
          "output_type": "stream",
          "name": "stdout",
          "text": [
            "--2022-07-30 09:55:33--  https://raw.githubusercontent.com/FakeNewsChallenge/fnc-1/master/train_stances.csv\n",
            "Resolving raw.githubusercontent.com (raw.githubusercontent.com)... 185.199.108.133, 185.199.109.133, 185.199.110.133, ...\n",
            "Connecting to raw.githubusercontent.com (raw.githubusercontent.com)|185.199.108.133|:443... connected.\n",
            "HTTP request sent, awaiting response... 200 OK\n",
            "Length: 4255300 (4.1M) [text/plain]\n",
            "Saving to: ‘train_stances.csv.1’\n",
            "\n",
            "train_stances.csv.1 100%[===================>]   4.06M  --.-KB/s    in 0.07s   \n",
            "\n",
            "2022-07-30 09:55:34 (57.4 MB/s) - ‘train_stances.csv.1’ saved [4255300/4255300]\n",
            "\n",
            "--2022-07-30 09:55:34--  https://raw.githubusercontent.com/FakeNewsChallenge/fnc-1/master/train_bodies.csv\n",
            "Resolving raw.githubusercontent.com (raw.githubusercontent.com)... 185.199.110.133, 185.199.111.133, 185.199.108.133, ...\n",
            "Connecting to raw.githubusercontent.com (raw.githubusercontent.com)|185.199.110.133|:443... connected.\n",
            "HTTP request sent, awaiting response... 200 OK\n",
            "Length: 3752301 (3.6M) [text/plain]\n",
            "Saving to: ‘train_bodies.csv.1’\n",
            "\n",
            "train_bodies.csv.1  100%[===================>]   3.58M  --.-KB/s    in 0.07s   \n",
            "\n",
            "2022-07-30 09:55:34 (49.1 MB/s) - ‘train_bodies.csv.1’ saved [3752301/3752301]\n",
            "\n",
            "--2022-07-30 09:55:35--  https://raw.githubusercontent.com/FakeNewsChallenge/fnc-1/master/competition_test_bodies.csv\n",
            "Resolving raw.githubusercontent.com (raw.githubusercontent.com)... 185.199.108.133, 185.199.109.133, 185.199.110.133, ...\n",
            "Connecting to raw.githubusercontent.com (raw.githubusercontent.com)|185.199.108.133|:443... connected.\n",
            "HTTP request sent, awaiting response... 200 OK\n",
            "Length: 2045680 (2.0M) [text/plain]\n",
            "Saving to: ‘competition_test_bodies.csv’\n",
            "\n",
            "competition_test_bo 100%[===================>]   1.95M  --.-KB/s    in 0.06s   \n",
            "\n",
            "2022-07-30 09:55:35 (31.2 MB/s) - ‘competition_test_bodies.csv’ saved [2045680/2045680]\n",
            "\n",
            "--2022-07-30 09:55:35--  https://raw.githubusercontent.com/FakeNewsChallenge/fnc-1/master/competition_test_stances.csv\n",
            "Resolving raw.githubusercontent.com (raw.githubusercontent.com)... 185.199.108.133, 185.199.110.133, 185.199.111.133, ...\n",
            "Connecting to raw.githubusercontent.com (raw.githubusercontent.com)|185.199.108.133|:443... connected.\n",
            "HTTP request sent, awaiting response... 200 OK\n",
            "Length: 2177588 (2.1M) [text/plain]\n",
            "Saving to: ‘competition_test_stances.csv’\n",
            "\n",
            "competition_test_st 100%[===================>]   2.08M  --.-KB/s    in 0.06s   \n",
            "\n",
            "2022-07-30 09:55:35 (33.5 MB/s) - ‘competition_test_stances.csv’ saved [2177588/2177588]\n",
            "\n"
          ]
        }
      ],
      "source": [
        "!wget https://raw.githubusercontent.com/FakeNewsChallenge/fnc-1/master/train_stances.csv\n",
        "!wget https://raw.githubusercontent.com/FakeNewsChallenge/fnc-1/master/train_bodies.csv\n",
        "!wget https://raw.githubusercontent.com/FakeNewsChallenge/fnc-1/master/competition_test_bodies.csv\n",
        "!wget https://raw.githubusercontent.com/FakeNewsChallenge/fnc-1/master/competition_test_stances.csv"
      ]
    },
    {
      "cell_type": "code",
      "source": [
        "#Install neattext for datacleaning\n",
        "!pip install neattext\n",
        "\n"
      ],
      "metadata": {
        "colab": {
          "base_uri": "https://localhost:8080/"
        },
        "id": "xqDj15AL54i4",
        "outputId": "be662341-24fc-4584-91c0-fdc14a73469d"
      },
      "execution_count": 2,
      "outputs": [
        {
          "output_type": "stream",
          "name": "stdout",
          "text": [
            "Looking in indexes: https://pypi.org/simple, https://us-python.pkg.dev/colab-wheels/public/simple/\n",
            "Collecting neattext\n",
            "  Downloading neattext-0.1.3-py3-none-any.whl (114 kB)\n",
            "\u001b[K     |████████████████████████████████| 114 kB 5.2 MB/s \n",
            "\u001b[?25hInstalling collected packages: neattext\n",
            "Successfully installed neattext-0.1.3\n"
          ]
        }
      ]
    },
    {
      "cell_type": "code",
      "source": [
        "#Dependencies\n",
        "import pandas as pd\n",
        "import os\n",
        "from nltk import word_tokenize\n",
        "import numpy as np\n",
        "from pandas.core.frame import DataFrame\n",
        "import torch\n",
        "from collections import namedtuple\n",
        "from torch.utils.data import Dataset, DataLoader\n",
        "import neattext.functions as nfx\n",
        "import torch.nn as nn\n",
        "import torch.nn.functional as F\n",
        "import torch.optim as optim\n",
        "import matplotlib.pyplot as plt\n",
        "import seaborn as sns"
      ],
      "metadata": {
        "id": "ZCFQkagNHxB-"
      },
      "execution_count": 3,
      "outputs": []
    },
    {
      "cell_type": "code",
      "source": [
        "print(torch.cuda.is_available())"
      ],
      "metadata": {
        "colab": {
          "base_uri": "https://localhost:8080/"
        },
        "id": "wjWQajZEky9D",
        "outputId": "ee770dc7-da12-491d-cb7e-0964a23c4bb4"
      },
      "execution_count": 4,
      "outputs": [
        {
          "output_type": "stream",
          "name": "stdout",
          "text": [
            "True\n"
          ]
        }
      ]
    },
    {
      "cell_type": "code",
      "source": [
        "train_stances_path = os.path.join(\"train_stances.csv\")\n",
        "train_bodies_path = os.path.join(\"train_bodies.csv\")\n",
        "train_stances = pd.read_csv(train_stances_path)\n",
        "train_bodies = pd.read_csv(train_bodies_path)\n",
        "train_stances['Stance']\n",
        "\n",
        "test_stances_path = os.path.join(\"competition_test_stances.csv\")\n",
        "test_bodies_path = os.path.join(\"competition_test_bodies.csv\")\n",
        "test_stances = pd.read_csv(test_stances_path)\n",
        "test_bodies = pd.read_csv(test_bodies_path)\n",
        "test_stances['Stance']"
      ],
      "metadata": {
        "id": "P1RaQYwdH2tk",
        "colab": {
          "base_uri": "https://localhost:8080/"
        },
        "outputId": "7c2c57b2-6a44-41c2-92fa-1db39c373d61"
      },
      "execution_count": 123,
      "outputs": [
        {
          "output_type": "execute_result",
          "data": {
            "text/plain": [
              "0        unrelated\n",
              "1        unrelated\n",
              "2        unrelated\n",
              "3        unrelated\n",
              "4        unrelated\n",
              "           ...    \n",
              "25408        agree\n",
              "25409      discuss\n",
              "25410     disagree\n",
              "25411     disagree\n",
              "25412        agree\n",
              "Name: Stance, Length: 25413, dtype: object"
            ]
          },
          "metadata": {},
          "execution_count": 123
        }
      ]
    },
    {
      "cell_type": "code",
      "source": [
        "def plot_stance_value_counts(data, column='Stance'):\n",
        "    plt.figure(figsize=(10, 5))\n",
        "    ax = sns.countplot(x=column, data=data)\n",
        "    # ax.bar_label(ax.containers[0])\n",
        "    plt.title(\"Value counts for Stances\")\n",
        "    plt.show()"
      ],
      "metadata": {
        "id": "nXnkjMAx_UOC"
      },
      "execution_count": 127,
      "outputs": []
    },
    {
      "cell_type": "code",
      "source": [
        "plot_stance_value_counts(test_stances)"
      ],
      "metadata": {
        "colab": {
          "base_uri": "https://localhost:8080/",
          "height": 350
        },
        "id": "FfKC23a62Ud-",
        "outputId": "648c0272-cbe6-42d2-9cd7-a33125256c1f"
      },
      "execution_count": 128,
      "outputs": [
        {
          "output_type": "display_data",
          "data": {
            "text/plain": [
              "<Figure size 720x360 with 1 Axes>"
            ],
            "image/png": "[encoded data removed]"
          },
          "metadata": {
            "needs_background": "light"
          }
        }
      ]
    },
    {
      "cell_type": "code",
      "source": [
        "# test_bodies.head()"
      ],
      "metadata": {
        "colab": {
          "base_uri": "https://localhost:8080/",
          "height": 206
        },
        "id": "QFRfRGty2WNQ",
        "outputId": "0a4f6210-b020-4c4e-e1be-6e662b97664f"
      },
      "execution_count": null,
      "outputs": [
        {
          "output_type": "execute_result",
          "data": {
            "text/plain": [
              "   Body ID                                        articleBody\n",
              "0        1  Al-Sisi has denied Israeli reports stating tha...\n",
              "1        2  A bereaved Afghan mother took revenge on the T...\n",
              "2        3  CNBC is reporting Tesla has chosen Nevada as t...\n",
              "3       12  A 4-inch version of the iPhone 6 is said to be...\n",
              "4       19  GR editor’s Note\\n\\nThere are no reports in th..."
            ],
            "text/html": [
              "\n",
              "  <div id=\"df-c701663a-9ccc-474f-bfb7-78494592bb1b\">\n",
              "    <div class=\"colab-df-container\">\n",
              "      <div>\n",
              "<style scoped>\n",
              "    .dataframe tbody tr th:only-of-type {\n",
              "        vertical-align: middle;\n",
              "    }\n",
              "\n",
              "    .dataframe tbody tr th {\n",
              "        vertical-align: top;\n",
              "    }\n",
              "\n",
              "    .dataframe thead th {\n",
              "        text-align: right;\n",
              "    }\n",
              "</style>\n",
              "<table border=\"1\" class=\"dataframe\">\n",
              "  <thead>\n",
              "    <tr style=\"text-align: right;\">\n",
              "      <th></th>\n",
              "      <th>Body ID</th>\n",
              "      <th>articleBody</th>\n",
              "    </tr>\n",
              "  </thead>\n",
              "  <tbody>\n",
              "    <tr>\n",
              "      <th>0</th>\n",
              "      <td>1</td>\n",
              "      <td>Al-Sisi has denied Israeli reports stating tha...</td>\n",
              "    </tr>\n",
              "    <tr>\n",
              "      <th>1</th>\n",
              "      <td>2</td>\n",
              "      <td>A bereaved Afghan mother took revenge on the T...</td>\n",
              "    </tr>\n",
              "    <tr>\n",
              "      <th>2</th>\n",
              "      <td>3</td>\n",
              "      <td>CNBC is reporting Tesla has chosen Nevada as t...</td>\n",
              "    </tr>\n",
              "    <tr>\n",
              "      <th>3</th>\n",
              "      <td>12</td>\n",
              "      <td>A 4-inch version of the iPhone 6 is said to be...</td>\n",
              "    </tr>\n",
              "    <tr>\n",
              "      <th>4</th>\n",
              "      <td>19</td>\n",
              "      <td>GR editor’s Note\\n\\nThere are no reports in th...</td>\n",
              "    </tr>\n",
              "  </tbody>\n",
              "</table>\n",
              "</div>\n",
              "      <button class=\"colab-df-convert\" onclick=\"convertToInteractive('df-c701663a-9ccc-474f-bfb7-78494592bb1b')\"\n",
              "              title=\"Convert this dataframe to an interactive table.\"\n",
              "              style=\"display:none;\">\n",
              "        \n",
              "  <svg xmlns=\"http://www.w3.org/2000/svg\" height=\"24px\"viewBox=\"0 0 24 24\"\n",
              "       width=\"24px\">\n",
              "    <path d=\"M0 0h24v24H0V0z\" fill=\"none\"/>\n",
              "    <path d=\"M18.56 5.44l.94 2.06.94-2.06 2.06-.94-2.06-.94-.94-2.06-.94 2.06-2.06.94zm-11 1L8.5 8.5l.94-2.06 2.06-.94-2.06-.94L8.5 2.5l-.94 2.06-2.06.94zm10 10l.94 2.06.94-2.06 2.06-.94-2.06-.94-.94-2.06-.94 2.06-2.06.94z\"/><path d=\"M17.41 7.96l-1.37-1.37c-.4-.4-.92-.59-1.43-.59-.52 0-1.04.2-1.43.59L10.3 9.45l-7.72 7.72c-.78.78-.78 2.05 0 2.83L4 21.41c.39.39.9.59 1.41.59.51 0 1.02-.2 1.41-.59l7.78-7.78 2.81-2.81c.8-.78.8-2.07 0-2.86zM5.41 20L4 18.59l7.72-7.72 1.47 1.35L5.41 20z\"/>\n",
              "  </svg>\n",
              "      </button>\n",
              "      \n",
              "  <style>\n",
              "    .colab-df-container {\n",
              "      display:flex;\n",
              "      flex-wrap:wrap;\n",
              "      gap: 12px;\n",
              "    }\n",
              "\n",
              "    .colab-df-convert {\n",
              "      background-color: #E8F0FE;\n",
              "      border: none;\n",
              "      border-radius: 50%;\n",
              "      cursor: pointer;\n",
              "      display: none;\n",
              "      fill: #1967D2;\n",
              "      height: 32px;\n",
              "      padding: 0 0 0 0;\n",
              "      width: 32px;\n",
              "    }\n",
              "\n",
              "    .colab-df-convert:hover {\n",
              "      background-color: #E2EBFA;\n",
              "      box-shadow: 0px 1px 2px rgba(60, 64, 67, 0.3), 0px 1px 3px 1px rgba(60, 64, 67, 0.15);\n",
              "      fill: #174EA6;\n",
              "    }\n",
              "\n",
              "    [theme=dark] .colab-df-convert {\n",
              "      background-color: #3B4455;\n",
              "      fill: #D2E3FC;\n",
              "    }\n",
              "\n",
              "    [theme=dark] .colab-df-convert:hover {\n",
              "      background-color: #434B5C;\n",
              "      box-shadow: 0px 1px 3px 1px rgba(0, 0, 0, 0.15);\n",
              "      filter: drop-shadow(0px 1px 2px rgba(0, 0, 0, 0.3));\n",
              "      fill: #FFFFFF;\n",
              "    }\n",
              "  </style>\n",
              "\n",
              "      <script>\n",
              "        const buttonEl =\n",
              "          document.querySelector('#df-c701663a-9ccc-474f-bfb7-78494592bb1b button.colab-df-convert');\n",
              "        buttonEl.style.display =\n",
              "          google.colab.kernel.accessAllowed ? 'block' : 'none';\n",
              "\n",
              "        async function convertToInteractive(key) {\n",
              "          const element = document.querySelector('#df-c701663a-9ccc-474f-bfb7-78494592bb1b');\n",
              "          const dataTable =\n",
              "            await google.colab.kernel.invokeFunction('convertToInteractive',\n",
              "                                                     [key], {});\n",
              "          if (!dataTable) return;\n",
              "\n",
              "          const docLinkHtml = 'Like what you see? Visit the ' +\n",
              "            '<a target=\"_blank\" href=https://colab.research.google.com/notebooks/data_table.ipynb>data table notebook</a>'\n",
              "            + ' to learn more about interactive tables.';\n",
              "          element.innerHTML = '';\n",
              "          dataTable['output_type'] = 'display_data';\n",
              "          await google.colab.output.renderOutput(dataTable, element);\n",
              "          const docLink = document.createElement('div');\n",
              "          docLink.innerHTML = docLinkHtml;\n",
              "          element.appendChild(docLink);\n",
              "        }\n",
              "      </script>\n",
              "    </div>\n",
              "  </div>\n",
              "  "
            ]
          },
          "metadata": {},
          "execution_count": 10
        }
      ]
    },
    {
      "cell_type": "code",
      "source": [
        "# selected_features = ['Headline','articleBody','Stance']\n",
        "# train_data = train_stances.join(train_bodies.set_index(\"Body ID\"), on=\"Body ID\")\n",
        "# test_data = test_stances.join(test_bodies.set_index(\"Body ID\"), on=\"Body ID\")\n",
        "# train = train_data.loc[:, train_data.columns.isin(selected_features)]\n"
      ],
      "metadata": {
        "id": "v5PUqbP42kun"
      },
      "execution_count": null,
      "outputs": []
    },
    {
      "cell_type": "code",
      "source": [
        "# train.head()"
      ],
      "metadata": {
        "colab": {
          "base_uri": "https://localhost:8080/",
          "height": 206
        },
        "id": "cuemHJa54rD1",
        "outputId": "64ce28f3-54bc-47b8-ef16-1fa22c07fe50"
      },
      "execution_count": null,
      "outputs": [
        {
          "output_type": "execute_result",
          "data": {
            "text/plain": [
              "                                            Headline     Stance  \\\n",
              "0  Police find mass graves with at least '15 bodi...  unrelated   \n",
              "1  Hundreds of Palestinians flee floods in Gaza a...      agree   \n",
              "2  Christian Bale passes on role of Steve Jobs, a...  unrelated   \n",
              "3  HBO and Apple in Talks for $15/Month Apple TV ...  unrelated   \n",
              "4  Spider burrowed through tourist's stomach and ...   disagree   \n",
              "\n",
              "                                         articleBody  \n",
              "0  Danny Boyle is directing the untitled film\\n\\n...  \n",
              "1  Hundreds of Palestinians were evacuated from t...  \n",
              "2  30-year-old Moscow resident was hospitalized w...  \n",
              "3  (Reuters) - A Canadian soldier was shot at the...  \n",
              "4  Fear not arachnophobes, the story of Bunbury's...  "
            ],
            "text/html": [
              "\n",
              "  <div id=\"df-bf0539ed-231c-486b-baba-e92e492169d1\">\n",
              "    <div class=\"colab-df-container\">\n",
              "      <div>\n",
              "<style scoped>\n",
              "    .dataframe tbody tr th:only-of-type {\n",
              "        vertical-align: middle;\n",
              "    }\n",
              "\n",
              "    .dataframe tbody tr th {\n",
              "        vertical-align: top;\n",
              "    }\n",
              "\n",
              "    .dataframe thead th {\n",
              "        text-align: right;\n",
              "    }\n",
              "</style>\n",
              "<table border=\"1\" class=\"dataframe\">\n",
              "  <thead>\n",
              "    <tr style=\"text-align: right;\">\n",
              "      <th></th>\n",
              "      <th>Headline</th>\n",
              "      <th>Stance</th>\n",
              "      <th>articleBody</th>\n",
              "    </tr>\n",
              "  </thead>\n",
              "  <tbody>\n",
              "    <tr>\n",
              "      <th>0</th>\n",
              "      <td>Police find mass graves with at least '15 bodi...</td>\n",
              "      <td>unrelated</td>\n",
              "      <td>Danny Boyle is directing the untitled film\\n\\n...</td>\n",
              "    </tr>\n",
              "    <tr>\n",
              "      <th>1</th>\n",
              "      <td>Hundreds of Palestinians flee floods in Gaza a...</td>\n",
              "      <td>agree</td>\n",
              "      <td>Hundreds of Palestinians were evacuated from t...</td>\n",
              "    </tr>\n",
              "    <tr>\n",
              "      <th>2</th>\n",
              "      <td>Christian Bale passes on role of Steve Jobs, a...</td>\n",
              "      <td>unrelated</td>\n",
              "      <td>30-year-old Moscow resident was hospitalized w...</td>\n",
              "    </tr>\n",
              "    <tr>\n",
              "      <th>3</th>\n",
              "      <td>HBO and Apple in Talks for $15/Month Apple TV ...</td>\n",
              "      <td>unrelated</td>\n",
              "      <td>(Reuters) - A Canadian soldier was shot at the...</td>\n",
              "    </tr>\n",
              "    <tr>\n",
              "      <th>4</th>\n",
              "      <td>Spider burrowed through tourist's stomach and ...</td>\n",
              "      <td>disagree</td>\n",
              "      <td>Fear not arachnophobes, the story of Bunbury's...</td>\n",
              "    </tr>\n",
              "  </tbody>\n",
              "</table>\n",
              "</div>\n",
              "      <button class=\"colab-df-convert\" onclick=\"convertToInteractive('df-bf0539ed-231c-486b-baba-e92e492169d1')\"\n",
              "              title=\"Convert this dataframe to an interactive table.\"\n",
              "              style=\"display:none;\">\n",
              "        \n",
              "  <svg xmlns=\"http://www.w3.org/2000/svg\" height=\"24px\"viewBox=\"0 0 24 24\"\n",
              "       width=\"24px\">\n",
              "    <path d=\"M0 0h24v24H0V0z\" fill=\"none\"/>\n",
              "    <path d=\"M18.56 5.44l.94 2.06.94-2.06 2.06-.94-2.06-.94-.94-2.06-.94 2.06-2.06.94zm-11 1L8.5 8.5l.94-2.06 2.06-.94-2.06-.94L8.5 2.5l-.94 2.06-2.06.94zm10 10l.94 2.06.94-2.06 2.06-.94-2.06-.94-.94-2.06-.94 2.06-2.06.94z\"/><path d=\"M17.41 7.96l-1.37-1.37c-.4-.4-.92-.59-1.43-.59-.52 0-1.04.2-1.43.59L10.3 9.45l-7.72 7.72c-.78.78-.78 2.05 0 2.83L4 21.41c.39.39.9.59 1.41.59.51 0 1.02-.2 1.41-.59l7.78-7.78 2.81-2.81c.8-.78.8-2.07 0-2.86zM5.41 20L4 18.59l7.72-7.72 1.47 1.35L5.41 20z\"/>\n",
              "  </svg>\n",
              "      </button>\n",
              "      \n",
              "  <style>\n",
              "    .colab-df-container {\n",
              "      display:flex;\n",
              "      flex-wrap:wrap;\n",
              "      gap: 12px;\n",
              "    }\n",
              "\n",
              "    .colab-df-convert {\n",
              "      background-color: #E8F0FE;\n",
              "      border: none;\n",
              "      border-radius: 50%;\n",
              "      cursor: pointer;\n",
              "      display: none;\n",
              "      fill: #1967D2;\n",
              "      height: 32px;\n",
              "      padding: 0 0 0 0;\n",
              "      width: 32px;\n",
              "    }\n",
              "\n",
              "    .colab-df-convert:hover {\n",
              "      background-color: #E2EBFA;\n",
              "      box-shadow: 0px 1px 2px rgba(60, 64, 67, 0.3), 0px 1px 3px 1px rgba(60, 64, 67, 0.15);\n",
              "      fill: #174EA6;\n",
              "    }\n",
              "\n",
              "    [theme=dark] .colab-df-convert {\n",
              "      background-color: #3B4455;\n",
              "      fill: #D2E3FC;\n",
              "    }\n",
              "\n",
              "    [theme=dark] .colab-df-convert:hover {\n",
              "      background-color: #434B5C;\n",
              "      box-shadow: 0px 1px 3px 1px rgba(0, 0, 0, 0.15);\n",
              "      filter: drop-shadow(0px 1px 2px rgba(0, 0, 0, 0.3));\n",
              "      fill: #FFFFFF;\n",
              "    }\n",
              "  </style>\n",
              "\n",
              "      <script>\n",
              "        const buttonEl =\n",
              "          document.querySelector('#df-bf0539ed-231c-486b-baba-e92e492169d1 button.colab-df-convert');\n",
              "        buttonEl.style.display =\n",
              "          google.colab.kernel.accessAllowed ? 'block' : 'none';\n",
              "\n",
              "        async function convertToInteractive(key) {\n",
              "          const element = document.querySelector('#df-bf0539ed-231c-486b-baba-e92e492169d1');\n",
              "          const dataTable =\n",
              "            await google.colab.kernel.invokeFunction('convertToInteractive',\n",
              "                                                     [key], {});\n",
              "          if (!dataTable) return;\n",
              "\n",
              "          const docLinkHtml = 'Like what you see? Visit the ' +\n",
              "            '<a target=\"_blank\" href=https://colab.research.google.com/notebooks/data_table.ipynb>data table notebook</a>'\n",
              "            + ' to learn more about interactive tables.';\n",
              "          element.innerHTML = '';\n",
              "          dataTable['output_type'] = 'display_data';\n",
              "          await google.colab.output.renderOutput(dataTable, element);\n",
              "          const docLink = document.createElement('div');\n",
              "          docLink.innerHTML = docLinkHtml;\n",
              "          element.appendChild(docLink);\n",
              "        }\n",
              "      </script>\n",
              "    </div>\n",
              "  </div>\n",
              "  "
            ]
          },
          "metadata": {},
          "execution_count": 6
        }
      ]
    },
    {
      "cell_type": "code",
      "source": [
        "#Dataset\n",
        "STOP_TOKEN = '</s>'\n",
        "START_TOKEN = '<s>'\n",
        "UNK_TOKEN = '<unk>'\n",
        "PAD_TOKEN = '<pad>'\n",
        "\n",
        "class FakeDataset(Dataset):\n",
        "    def __init__(self, data, word2idx, tokenizer,headline_max_length,body_max_length):\n",
        "        self.articles = data\n",
        "        self.w2i = word2idx\n",
        "        self.tokenizer = tokenizer\n",
        "        self.max_len_h = headline_max_length\n",
        "        self.max_len_b = body_max_length\n",
        "\n",
        "    def __len__(self):\n",
        "        return len(self.articles)\n",
        "    \n",
        "    def __getitem__(self, idx):\n",
        "        headline_ids = []\n",
        "        body_ids = []\n",
        "        stances_ids = []\n",
        "        stances_list = ['agree','disagree','discuss','unrelated']\n",
        "          \n",
        "\n",
        "        headline = self.articles[idx].Headline\n",
        "        body = self.articles[idx].articleBody\n",
        "        stance = self.articles[idx].Stance\n",
        "\n",
        "        headline_words = self.tokenizer(headline)\n",
        "        body_words = self.tokenizer(body)\n",
        "        for i in headline_words:\n",
        "            try:\n",
        "                idx = self.w2i[i]\n",
        "            except KeyError:\n",
        "                idx = self.w2i[UNK_TOKEN]\n",
        "            headline_ids.append(idx)\n",
        "        for j in body_words:\n",
        "            try:\n",
        "                idx = self.w2i[j]\n",
        "            except KeyError:\n",
        "                idx = self.w2i[UNK_TOKEN]\n",
        "            body_ids.append(idx)\n",
        "\n",
        "        # stance_list_int = [stances_list.index(stance_i) if stance_i == stance else 0 for stance_i in stances_list]\n",
        "        # stances_ids.append(stance_list_int)\n",
        "\n",
        "        stance_list_int = [1 if stance_i == stance else 0 for stance_i in stances_list]\n",
        "        stances_ids.append(stance_list_int)\n",
        "  \n",
        "        headline_length = len(headline_ids)\n",
        "        body_length = len(body_ids)\n",
        "        if headline_length < self.max_len_h:\n",
        "            headline_ids = headline_ids + [self.w2i[STOP_TOKEN]] + [self.w2i[PAD_TOKEN]] * (self.max_len_h - headline_length - 1)\n",
        "            assert len(headline_ids) == self.max_len_h\n",
        "            headline_length += 1\n",
        "        else:\n",
        "            headline_ids = headline_ids[:self.max_len_h-1] + [self.w2i[STOP_TOKEN]]\n",
        "            headline_length = self.max_len_h\n",
        "            \n",
        "        if body_length < self.max_len_b-1:\n",
        "            body_ids = [self.w2i[START_TOKEN]] + body_ids + [self.w2i[STOP_TOKEN]] +\\\n",
        "            [self.w2i[PAD_TOKEN]] * (self.max_len_b - body_length - 2)\n",
        "            assert len(body_ids) == self.max_len_b\n",
        "            body_length += 2\n",
        "        else:\n",
        "            body_ids = [self.w2i[START_TOKEN]] + body_ids[:self.max_len_b-2] + [self.w2i[STOP_TOKEN]]\n",
        "            body_length = self.max_len_b\n",
        "            \n",
        "        headline_mask = np.zeros(self.max_len_h)\n",
        "        body_mask = np.zeros(self.max_len_b)\n",
        "        headline_mask[:headline_length] = 1\n",
        "        body_mask[:body_length] = 1\n",
        "\n",
        "        return torch.LongTensor(headline_ids), torch.LongTensor(body_ids), torch.LongTensor([headline_length]), \\\n",
        "        torch.LongTensor([body_length]),  torch.BoolTensor(headline_mask), torch.BoolTensor(body_mask), torch.LongTensor(stances_ids)"
      ],
      "metadata": {
        "id": "1w3ScHRJXfQ2"
      },
      "execution_count": 129,
      "outputs": []
    },
    {
      "cell_type": "code",
      "source": [
        "\n",
        "#Utils\n",
        "selected_features = ['Headline','articleBody','Stance']\n",
        "Article = namedtuple('Article', selected_features)\n",
        "\n",
        "def data_cleaning(df,columns):\n",
        "  for column in columns:\n",
        "\n",
        "    df[column] = df[column].apply(nfx.remove_stopwords)\n",
        "    df[column] = df[column].apply(nfx.remove_userhandles)\n",
        "    df[column] = df[column].apply(nfx.remove_punctuations)\n",
        "    df[column] = df[column].apply(nfx.remove_emojis)\n",
        "    df[column] = df[column].apply(nfx.remove_emails)\n",
        "    df[column] = df[column].apply(nfx.remove_urls)\n",
        "  return df\n",
        "\n",
        "def build_vocabulary(body,headline):\n",
        "  body_list = body.split()\n",
        "  headline_list = headline.split()\n",
        "  combined_list = body_list+headline_list\n",
        "  return set(combined_list)\n",
        "\n",
        "def read_corpus(data_path_stance,data_path_body):\n",
        "    '''\n",
        "    param: \n",
        "    data_path_stance: str --- path to the data file containing stance and headline\n",
        "    data_path_body: str --- path to the data file containing body\n",
        "\n",
        "    return: \n",
        "    headline: list[str] --- contains the text in headline; \n",
        "    articleBody: list[str] --- contains the text in articleBody; \n",
        "    vocab: set(str) --- contains all the words appearing in the data file;\n",
        "    stance: list[str] --- contains list of stance;\n",
        "\n",
        "    '''\n",
        "   \n",
        "    stancesDf = pd.read_csv(data_path_stance)\n",
        "    bodiesDf = pd.read_csv(data_path_body)    \n",
        "    headline, articleBody, stance = [], [], []\n",
        "    vocab = set()\n",
        "\n",
        "    \n",
        "    dataframe = stancesDf.join(bodiesDf.set_index(\"Body ID\"), on=\"Body ID\")\n",
        "   \n",
        "    dataframe = dataframe.loc[:, dataframe.columns.isin(selected_features)]\n",
        "    dataframe = data_cleaning(dataframe,selected_features)\n",
        "  \n",
        "    headline = [x for x in dataframe['Headline']]\n",
        "    articleBody = [x for x in dataframe['articleBody']]\n",
        "    stance = [x for x in dataframe['Stance']]\n",
        "    for x,y in zip(dataframe['Headline'],dataframe['articleBody']):\n",
        "      temp_set =  build_vocabulary(x,y)\n",
        "      vocab = vocab | temp_set\n",
        "\n",
        "  \n",
        "\n",
        "\n",
        "\n",
        "\n",
        "\n",
        "\n",
        "    return headline, articleBody, stance, vocab\n",
        "\n",
        "def data_matching(headlines, articleBodies,stances):\n",
        "    data = []\n",
        "    for h,b,s in zip(headlines, articleBodies,stances):\n",
        "        data.append(Article(Headline=h, articleBody=b,Stance=s))\n",
        "    return data\n",
        "\n",
        "def build_w2i(vocab):\n",
        "\n",
        "    w2i = {}\n",
        "    for i, w in enumerate(vocab):\n",
        "        w2i[w] = i\n",
        "    w2i[START_TOKEN] = len(w2i)\n",
        "    w2i[STOP_TOKEN] = len(w2i)\n",
        "    w2i[UNK_TOKEN] = len(w2i)\n",
        "    w2i[PAD_TOKEN] = len(w2i)\n",
        "\n",
        "    return w2i \n",
        "\n",
        "def build_i2w(w2i):\n",
        "    i2w = {}\n",
        "    for k,v in w2i.items():\n",
        "        i2w[v] = k    \n",
        "    return i2w"
      ],
      "metadata": {
        "id": "BAifvxs7YOvW"
      },
      "execution_count": 130,
      "outputs": []
    },
    {
      "cell_type": "code",
      "source": [
        "headline, articleBody, stance, vocab = read_corpus(r'train_bodies.csv',r'train_stances.csv')\n",
        "test_headline, test_articleBody, test_stance, test_vocab = read_corpus(r'competition_test_bodies.csv',r'competition_test_stances.csv')\n",
        "# test_src, test_tgt, _, _ = read_corpus(r'data/part2/test')\n",
        "\n",
        "train_data = data_matching(headline,articleBody,stance)\n",
        "# test_sent_pairs = lang_pairs(test_src,test_tgt)\n",
        "test_data = data_matching(test_headline, test_articleBody, test_stance)\n",
        "\n",
        "w2i = build_w2i(vocab)\n",
        "i2w = build_i2w(w2i)"
      ],
      "metadata": {
        "id": "_nchQ5oBgKo3"
      },
      "execution_count": 131,
      "outputs": []
    },
    {
      "cell_type": "code",
      "source": [
        "print(len(vocab), len(headline), len(articleBody))\n",
        "print(len(w2i), len(i2w))"
      ],
      "metadata": {
        "colab": {
          "base_uri": "https://localhost:8080/"
        },
        "id": "g-_lUm-iiKFR",
        "outputId": "b1b82b8a-f28d-418a-9d27-d83d5e9165c4"
      },
      "execution_count": 11,
      "outputs": [
        {
          "output_type": "stream",
          "name": "stdout",
          "text": [
            "37044 49972 49972\n",
            "37048 37048\n"
          ]
        }
      ]
    },
    {
      "cell_type": "code",
      "source": [
        "tokenizer = lambda x: x.split()\n",
        "max_length_headline = 40\n",
        "max_length_body = 110\n",
        "batchsize = 32\n",
        "train_dataset = FakeDataset(train_data,w2i,tokenizer,max_length_headline,max_length_body)\n",
        "test_dataset = FakeDataset(test_data,w2i,tokenizer,max_length_headline,max_length_body)\n",
        "\n",
        "\n",
        "\n",
        "train_loader = DataLoader(train_dataset,batch_size=batchsize,shuffle=True)\n",
        "test_loader = DataLoader(test_dataset,batch_size=batchsize,shuffle=False)\n",
        "\n",
        "device = 'cuda:0' if torch.cuda.is_available else 'cpu'"
      ],
      "metadata": {
        "id": "XTA_AQU_-POp"
      },
      "execution_count": 132,
      "outputs": []
    },
    {
      "cell_type": "code",
      "source": [
        "print(torch.cuda.is_available())"
      ],
      "metadata": {
        "colab": {
          "base_uri": "https://localhost:8080/"
        },
        "id": "Q2fxfbWAj5_U",
        "outputId": "c3f38131-cae2-418e-e5e9-45f8871bca66"
      },
      "execution_count": 133,
      "outputs": [
        {
          "output_type": "stream",
          "name": "stdout",
          "text": [
            "True\n"
          ]
        }
      ]
    },
    {
      "cell_type": "code",
      "source": [
        "class FakeModel(nn.Module):\n",
        "  def __init__(self,embedding_size,vocab_size):\n",
        "    super().__init__()\n",
        "    self.vocab_size = vocab_size\n",
        "    self.embed_size = embedding_size\n",
        "\n",
        "\n",
        "    self.embed = nn.Embedding(self.vocab_size,self.embed_size)\n",
        "    self.dropout = nn.Dropout(0.2)\n",
        "    self.conv1D = nn.Conv1d(150,64,5)\n",
        "    self.pooling = nn.MaxPool1d(4,4)\n",
        "    self.conv1D_2 = nn.Conv1d(64,4,5)\n",
        "    self.pooling_2 = nn.MaxPool1d(4,4)\n",
        "    self.lstm = nn.LSTM(batch_first = True,input_size=11,hidden_size = 100,num_layers = 1, bidirectional = True)\n",
        "    self.fc = nn.Linear(200,32)\n",
        "    self.fc2 = nn.Linear(32,1)\n",
        "\n",
        "\n",
        "  def forward(self,x,headline_length,body_length):\n",
        "    embed = self.embed(x)\n",
        "    x = self.conv1D(embed)\n",
        "    \n",
        "    x = F.relu(x)\n",
        "    x = self.pooling(x)\n",
        "    x = self.dropout(x)\n",
        "\n",
        "    x = self.conv1D_2(x)\n",
        "    x = F.relu(x)\n",
        "    x = self.pooling_2(x)\n",
        "    x = self.dropout(x)\n",
        "\n",
        "    # packed_embedded = nn.utils.rnn.pack_padded_sequence(embedded, text_lengths.cpu()) \n",
        "    output, (hidden,cell)  = self.lstm(x)\n",
        "\n",
        "\n",
        "    x = self.fc(output)\n",
        "    x = self.fc2(x)\n",
        "    return F.log_softmax(x,dim=1)\n",
        "\n",
        "\n",
        "\n",
        "\n",
        "   \n"
      ],
      "metadata": {
        "id": "8MyUV6r3ACUg"
      },
      "execution_count": 134,
      "outputs": []
    },
    {
      "cell_type": "code",
      "source": [
        "embedding_size = 200\n",
        "vocab_size = len(w2i)\n",
        "criterion = nn.NLLLoss(reduction='mean')\n",
        "model = FakeModel(embedding_size,vocab_size)\n",
        "model = model.to(device)\n",
        "optimizer = optim.SGD(model.parameters(),lr = 1e-5)\n",
        "# optimizer = optim.Adam(model.parameters(),lr = 3e-3)\n",
        "epoch_num = 100"
      ],
      "metadata": {
        "id": "DyLv1oRnTa8P"
      },
      "execution_count": 135,
      "outputs": []
    },
    {
      "cell_type": "code",
      "source": [
        "def accuracy(pred,target):\n",
        "  idx_pred = torch.argmax(pred, dim=1).squeeze(dim=1)\n",
        "  idx_target = torch.argmax(target,dim=1)\n",
        "  correct = idx_pred==idx_target\n",
        "  score = correct.sum()/len(correct)\n",
        "  \n",
        "  return score\n"
      ],
      "metadata": {
        "id": "tE4DuF7po6Rj"
      },
      "execution_count": 136,
      "outputs": []
    },
    {
      "cell_type": "code",
      "source": [
        "def train(model, data_loader, optimizer, criterion,epoch_num):\n",
        "    epoch_loss_list=[]\n",
        "    acc_total_list=[]\n",
        "    for epoch in range(epoch_num):\n",
        "      \n",
        "      epoch_loss = 0\n",
        "      acc_total = 0\n",
        "      model.train()\n",
        "      for batch_data in data_loader:\n",
        "          optimizer.zero_grad()\n",
        "          batch_data = tuple(t.to(device) for t in batch_data[:])\n",
        "          headline_ids, body_ids, headline_length, body_length,  headline_mask, body_mask, stance_ids = batch_data\n",
        "          \n",
        "          input = torch.cat((headline_ids,body_ids),dim=1)\n",
        "          \n",
        "          predictions = model(input,headline_length,body_length)\n",
        "          # predictions = predictions.type(torch.FloatTensor).cuda().squeeze(2)\n",
        "          # loss = criterion(predictions, stance_ids.squeeze(1))\n",
        "          stance_ids = stance_ids.squeeze(1)\n",
        "          stance_idx = torch.argmax(stance_ids,dim=1)\n",
        "          loss = criterion(predictions.squeeze(2), stance_idx)\n",
        "          \n",
        "          \n",
        "          acc = accuracy(predictions,stance_ids)\n",
        "          # print(acc)\n",
        "          # print(acc/stance_ids.size()[0])\n",
        "          loss.backward()\n",
        "          optimizer.step()\n",
        "          epoch_loss += loss.item()\n",
        "          acc_total+=acc.item()\n",
        "      epoch_loss_list.append(epoch_loss)\n",
        "      acc_total_list.append(acc_total)\n",
        "      \n",
        "      if (epoch%10==0):\n",
        "        print('Epoch: {}, loss is {}'.format(epoch+1,epoch_loss))\n",
        "        print('Epoch: {}, acc is {}'.format(epoch+1,acc_total/len(data_loader)))\n",
        "      \n",
        "    return epoch_loss_list, acc_total_list"
      ],
      "metadata": {
        "id": "Msp95s7VTRnU"
      },
      "execution_count": 138,
      "outputs": []
    },
    {
      "cell_type": "code",
      "source": [
        "loss_list, acc_list = train(model,train_loader,optimizer,criterion,epoch_num)"
      ],
      "metadata": {
        "id": "GPls9TDLY6Cr",
        "colab": {
          "base_uri": "https://localhost:8080/"
        },
        "outputId": "f4c3aeb6-185f-4cbd-fa63-e5aedde8e16f"
      },
      "execution_count": 139,
      "outputs": [
        {
          "output_type": "stream",
          "name": "stdout",
          "text": [
            "Epoch: 1, loss is 2172.6313573122025\n",
            "Epoch: 1, acc is 0.08785211267701032\n",
            "Epoch: 11, loss is 2169.061653614044\n",
            "Epoch: 11, acc is 0.12799295774695588\n",
            "Epoch: 21, loss is 2163.711428642273\n",
            "Epoch: 21, acc is 0.29508242638788823\n",
            "Epoch: 31, loss is 2153.837511897087\n",
            "Epoch: 31, acc is 0.6328945262560314\n",
            "Epoch: 41, loss is 2133.5735663175583\n",
            "Epoch: 41, acc is 0.7269246158847125\n",
            "Epoch: 51, loss is 2094.0321576595306\n",
            "Epoch: 51, acc is 0.7311499680126522\n",
            "Epoch: 61, loss is 2025.7410929203033\n",
            "Epoch: 61, acc is 0.731282010235646\n",
            "Epoch: 71, loss is 1922.060644865036\n",
            "Epoch: 71, acc is 0.7313140204865557\n",
            "Epoch: 81, loss is 1782.3662123680115\n",
            "Epoch: 81, acc is 0.7313140204865557\n",
            "Epoch: 91, loss is 1621.6284714341164\n",
            "Epoch: 91, acc is 0.7312900128269928\n"
          ]
        }
      ]
    },
    {
      "cell_type": "code",
      "source": [
        "def evaluate(model, data_loader, optimizer, criterion):\n",
        "\n",
        "    epoch_loss = 0\n",
        "    acc_total = 0\n",
        "    model.eval()\n",
        "    for batch_data in data_loader:\n",
        "        optimizer.zero_grad()\n",
        "        batch_data = tuple(t.to(device) for t in batch_data[:])\n",
        "        headline_ids, body_ids, headline_length, body_length,  headline_mask, body_mask, stance_ids = batch_data\n",
        "        \n",
        "        input = torch.cat((headline_ids,body_ids),dim=1)\n",
        "        \n",
        "        predictions = model(input,headline_length,body_length)\n",
        "        # predictions = predictions.type(torch.FloatTensor).cuda().squeeze(2)\n",
        "        # loss = criterion(predictions, stance_ids.squeeze(1))\n",
        "        stance_ids = stance_ids.squeeze(1)\n",
        "        stance_idx = torch.argmax(stance_ids,dim=1)\n",
        "        loss = criterion(predictions.squeeze(2), stance_idx)\n",
        "        \n",
        "        \n",
        "        acc = accuracy(predictions,stance_ids)\n",
        "        # print(acc)\n",
        "        # print(acc/stance_ids.size()[0])\n",
        "        epoch_loss += loss.item()\n",
        "        acc_total+=acc.item()\n",
        "    \n",
        "    \n",
        "    print('Test loss is {}'.format(epoch_loss))\n",
        "    print('Test acc is {}'.format(acc_total/len(data_loader)))\n",
        "    \n",
        "    return epoch_loss, acc_total"
      ],
      "metadata": {
        "id": "sRnnAhUjhfTG"
      },
      "execution_count": 142,
      "outputs": []
    },
    {
      "cell_type": "code",
      "source": [
        "test_loss, test_acc = evaluate(model,test_loader,optimizer,criterion)"
      ],
      "metadata": {
        "colab": {
          "base_uri": "https://localhost:8080/"
        },
        "id": "Dpo6ld1xhrub",
        "outputId": "e7cd3713-5d37-48f3-c9d1-6e08648d6a00"
      },
      "execution_count": 143,
      "outputs": [
        {
          "output_type": "stream",
          "name": "stdout",
          "text": [
            "Test loss is 752.4014182090759\n",
            "Test acc is 0.7212657232704403\n"
          ]
        }
      ]
    },
    {
      "cell_type": "code",
      "source": [
        "torch.save(model.state_dict(), \"fake_model.pt\")"
      ],
      "metadata": {
        "id": "8ACJnyXdrY8n"
      },
      "execution_count": 144,
      "outputs": []
    },
    {
      "cell_type": "code",
      "source": [
        "epoch_array = np.arange(epoch_num)\n",
        "loss_array=np.array(loss_list)\n",
        "\n",
        "plt.plot(epoch_array, loss_array, label='loss')\n",
        "\n",
        "plt.title(\"Train Loss\")\n",
        "plt.xlabel = 'Number of epoch'\n",
        "plt.ylable = 'Loss'\n",
        "plt.show()"
      ],
      "metadata": {
        "id": "z_2m3ZAHiWqy",
        "colab": {
          "base_uri": "https://localhost:8080/",
          "height": 281
        },
        "outputId": "00751536-4155-4957-b473-3dfca5ff2bf2"
      },
      "execution_count": 145,
      "outputs": [
        {
          "output_type": "display_data",
          "data": {
            "text/plain": [
              "<Figure size 432x288 with 1 Axes>"
            ],
            "image/png": "[encoded data removed]"
          },
          "metadata": {
            "needs_background": "light"
          }
        }
      ]
    },
    {
      "cell_type": "code",
      "source": [
        "epoch_array = np.arange(epoch_num)\n",
        "\n",
        "acc_array = np.array(acc_list)/len(train_loader)*100\n",
        "plt.plot(epoch_array, acc_array, label='accuracy')\n",
        "plt.title(\"Train Accuracy\")\n",
        "plt.xlabel = 'Number of epoch'\n",
        "plt.ylable = 'Accuracy'\n",
        "plt.show()"
      ],
      "metadata": {
        "colab": {
          "base_uri": "https://localhost:8080/",
          "height": 281
        },
        "id": "78q07h41gmB_",
        "outputId": "f6e0eb98-328a-44d2-ac9b-2d6e669adf55"
      },
      "execution_count": 146,
      "outputs": [
        {
          "output_type": "display_data",
          "data": {
            "text/plain": [
              "<Figure size 432x288 with 1 Axes>"
            ],
            "image/png": "[encoded data removed]"
          },
          "metadata": {
            "needs_background": "light"
          }
        }
      ]
    }
  ]
}