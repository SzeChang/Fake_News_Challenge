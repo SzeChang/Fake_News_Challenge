{
  "nbformat": 4,
  "nbformat_minor": 0,
  "metadata": {
    "colab": {
      "name": "unReal.ipynb",
      "provenance": [],
      "collapsed_sections": []
    },
    "kernelspec": {
      "name": "python3",
      "display_name": "Python 3"
    },
    "language_info": {
      "name": "python"
    },
    "accelerator": "GPU",
    "gpuClass": "standard"
  },
  "cells": [
    {
      "cell_type": "markdown",
      "source": [
        "# How to use this notebook\n",
        "\n",
        "This notebook creates 2 files, `model.py` and `app.py`, which are the model loading/logic and streamlit GUI files respectively.\n",
        "\n",
        "Run all the cells in sequential order to start *unReal*; there are comments in each cell detailing what to do in each step."
      ],
      "metadata": {
        "id": "zywRdRNwxT21"
      }
    },
    {
      "cell_type": "markdown",
      "source": [
        "# Install requirements\n",
        "\n"
      ],
      "metadata": {
        "id": "ytwFqFLy9kiA"
      }
    },
    {
      "cell_type": "code",
      "source": [
        "%%writefile requirements.txt\n",
        "\n",
        "transformers==3.1.0 # for BERT model, pytorch already inbuilt to colab\n",
        "streamlit==1.11.1\n",
        "pyngrok==4.1.1 # newer versions don't work"
      ],
      "metadata": {
        "colab": {
          "base_uri": "https://localhost:8080/"
        },
        "id": "v_IzUBMyW-oR",
        "outputId": "eb7137a3-25ae-4e83-b399-7dfabff099ff"
      },
      "execution_count": 1,
      "outputs": [
        {
          "output_type": "stream",
          "name": "stdout",
          "text": [
            "Writing requirements.txt\n"
          ]
        }
      ]
    },
    {
      "cell_type": "code",
      "execution_count": 2,
      "metadata": {
        "colab": {
          "base_uri": "https://localhost:8080/",
          "height": 1000
        },
        "id": "yZ4RHOCRvujl",
        "outputId": "b9de63c1-8fb2-4c83-845b-7a5633530ab9"
      },
      "outputs": [
        {
          "output_type": "stream",
          "name": "stdout",
          "text": [
            "Looking in indexes: https://pypi.org/simple, https://us-python.pkg.dev/colab-wheels/public/simple/\n",
            "Collecting transformers==3.1.0\n",
            "  Downloading transformers-3.1.0-py3-none-any.whl (884 kB)\n",
            "\u001b[K     |████████████████████████████████| 884 kB 28.0 MB/s \n",
            "\u001b[?25hCollecting streamlit==1.11.1\n",
            "  Downloading streamlit-1.11.1-py2.py3-none-any.whl (9.1 MB)\n",
            "\u001b[K     |████████████████████████████████| 9.1 MB 55.7 MB/s \n",
            "\u001b[?25hCollecting pyngrok==4.1.1\n",
            "  Downloading pyngrok-4.1.1.tar.gz (18 kB)\n",
            "Requirement already satisfied: requests in /usr/local/lib/python3.7/dist-packages (from transformers==3.1.0->-r requirements.txt (line 2)) (2.23.0)\n",
            "Requirement already satisfied: tqdm>=4.27 in /usr/local/lib/python3.7/dist-packages (from transformers==3.1.0->-r requirements.txt (line 2)) (4.64.0)\n",
            "Collecting tokenizers==0.8.1.rc2\n",
            "  Downloading tokenizers-0.8.1rc2-cp37-cp37m-manylinux1_x86_64.whl (3.0 MB)\n",
            "\u001b[K     |████████████████████████████████| 3.0 MB 49.6 MB/s \n",
            "\u001b[?25hRequirement already satisfied: numpy in /usr/local/lib/python3.7/dist-packages (from transformers==3.1.0->-r requirements.txt (line 2)) (1.21.6)\n",
            "Requirement already satisfied: packaging in /usr/local/lib/python3.7/dist-packages (from transformers==3.1.0->-r requirements.txt (line 2)) (21.3)\n",
            "Collecting sentencepiece!=0.1.92\n",
            "  Downloading sentencepiece-0.1.97-cp37-cp37m-manylinux_2_17_x86_64.manylinux2014_x86_64.whl (1.3 MB)\n",
            "\u001b[K     |████████████████████████████████| 1.3 MB 64.1 MB/s \n",
            "\u001b[?25hCollecting sacremoses\n",
            "  Downloading sacremoses-0.0.53.tar.gz (880 kB)\n",
            "\u001b[K     |████████████████████████████████| 880 kB 55.0 MB/s \n",
            "\u001b[?25hRequirement already satisfied: regex!=2019.12.17 in /usr/local/lib/python3.7/dist-packages (from transformers==3.1.0->-r requirements.txt (line 2)) (2022.6.2)\n",
            "Requirement already satisfied: filelock in /usr/local/lib/python3.7/dist-packages (from transformers==3.1.0->-r requirements.txt (line 2)) (3.7.1)\n",
            "Requirement already satisfied: tornado>=5.0 in /usr/local/lib/python3.7/dist-packages (from streamlit==1.11.1->-r requirements.txt (line 3)) (5.1.1)\n",
            "Collecting rich>=10.11.0\n",
            "  Downloading rich-12.5.1-py3-none-any.whl (235 kB)\n",
            "\u001b[K     |████████████████████████████████| 235 kB 61.7 MB/s \n",
            "\u001b[?25hCollecting gitpython!=3.1.19\n",
            "  Downloading GitPython-3.1.27-py3-none-any.whl (181 kB)\n",
            "\u001b[K     |████████████████████████████████| 181 kB 68.9 MB/s \n",
            "\u001b[?25hRequirement already satisfied: click>=7.0 in /usr/local/lib/python3.7/dist-packages (from streamlit==1.11.1->-r requirements.txt (line 3)) (7.1.2)\n",
            "Requirement already satisfied: pyarrow>=4.0 in /usr/local/lib/python3.7/dist-packages (from streamlit==1.11.1->-r requirements.txt (line 3)) (6.0.1)\n",
            "Collecting watchdog\n",
            "  Downloading watchdog-2.1.9-py3-none-manylinux2014_x86_64.whl (78 kB)\n",
            "\u001b[K     |████████████████████████████████| 78 kB 8.2 MB/s \n",
            "\u001b[?25hRequirement already satisfied: altair>=3.2.0 in /usr/local/lib/python3.7/dist-packages (from streamlit==1.11.1->-r requirements.txt (line 3)) (4.2.0)\n",
            "Requirement already satisfied: pandas>=0.21.0 in /usr/local/lib/python3.7/dist-packages (from streamlit==1.11.1->-r requirements.txt (line 3)) (1.3.5)\n",
            "Collecting pydeck>=0.1.dev5\n",
            "  Downloading pydeck-0.7.1-py2.py3-none-any.whl (4.3 MB)\n",
            "\u001b[K     |████████████████████████████████| 4.3 MB 49.2 MB/s \n",
            "\u001b[?25hRequirement already satisfied: cachetools>=4.0 in /usr/local/lib/python3.7/dist-packages (from streamlit==1.11.1->-r requirements.txt (line 3)) (4.2.4)\n",
            "Requirement already satisfied: attrs>=16.0.0 in /usr/local/lib/python3.7/dist-packages (from streamlit==1.11.1->-r requirements.txt (line 3)) (22.1.0)\n",
            "Collecting validators>=0.2\n",
            "  Downloading validators-0.20.0.tar.gz (30 kB)\n",
            "Requirement already satisfied: tzlocal>=1.1 in /usr/local/lib/python3.7/dist-packages (from streamlit==1.11.1->-r requirements.txt (line 3)) (1.5.1)\n",
            "Requirement already satisfied: semver in /usr/local/lib/python3.7/dist-packages (from streamlit==1.11.1->-r requirements.txt (line 3)) (2.13.0)\n",
            "Requirement already satisfied: python-dateutil in /usr/local/lib/python3.7/dist-packages (from streamlit==1.11.1->-r requirements.txt (line 3)) (2.8.2)\n",
            "Requirement already satisfied: toml in /usr/local/lib/python3.7/dist-packages (from streamlit==1.11.1->-r requirements.txt (line 3)) (0.10.2)\n",
            "Requirement already satisfied: pillow>=6.2.0 in /usr/local/lib/python3.7/dist-packages (from streamlit==1.11.1->-r requirements.txt (line 3)) (7.1.2)\n",
            "Requirement already satisfied: typing-extensions>=3.10.0.0 in /usr/local/lib/python3.7/dist-packages (from streamlit==1.11.1->-r requirements.txt (line 3)) (4.1.1)\n",
            "Collecting blinker>=1.0.0\n",
            "  Downloading blinker-1.5-py2.py3-none-any.whl (12 kB)\n",
            "Requirement already satisfied: protobuf<4,>=3.12 in /usr/local/lib/python3.7/dist-packages (from streamlit==1.11.1->-r requirements.txt (line 3)) (3.17.3)\n",
            "Requirement already satisfied: importlib-metadata>=1.4 in /usr/local/lib/python3.7/dist-packages (from streamlit==1.11.1->-r requirements.txt (line 3)) (4.12.0)\n",
            "Collecting pympler>=0.9\n",
            "  Downloading Pympler-1.0.1-py3-none-any.whl (164 kB)\n",
            "\u001b[K     |████████████████████████████████| 164 kB 26.5 MB/s \n",
            "\u001b[?25hRequirement already satisfied: future in /usr/local/lib/python3.7/dist-packages (from pyngrok==4.1.1->-r requirements.txt (line 4)) (0.16.0)\n",
            "Requirement already satisfied: PyYAML in /usr/local/lib/python3.7/dist-packages (from pyngrok==4.1.1->-r requirements.txt (line 4)) (3.13)\n",
            "Requirement already satisfied: toolz in /usr/local/lib/python3.7/dist-packages (from altair>=3.2.0->streamlit==1.11.1->-r requirements.txt (line 3)) (0.12.0)\n",
            "Requirement already satisfied: jinja2 in /usr/local/lib/python3.7/dist-packages (from altair>=3.2.0->streamlit==1.11.1->-r requirements.txt (line 3)) (2.11.3)\n",
            "Requirement already satisfied: entrypoints in /usr/local/lib/python3.7/dist-packages (from altair>=3.2.0->streamlit==1.11.1->-r requirements.txt (line 3)) (0.4)\n",
            "Requirement already satisfied: jsonschema>=3.0 in /usr/local/lib/python3.7/dist-packages (from altair>=3.2.0->streamlit==1.11.1->-r requirements.txt (line 3)) (4.3.3)\n",
            "Collecting gitdb<5,>=4.0.1\n",
            "  Downloading gitdb-4.0.9-py3-none-any.whl (63 kB)\n",
            "\u001b[K     |████████████████████████████████| 63 kB 806 kB/s \n",
            "\u001b[?25hCollecting smmap<6,>=3.0.1\n",
            "  Downloading smmap-5.0.0-py3-none-any.whl (24 kB)\n",
            "Requirement already satisfied: zipp>=0.5 in /usr/local/lib/python3.7/dist-packages (from importlib-metadata>=1.4->streamlit==1.11.1->-r requirements.txt (line 3)) (3.8.1)\n",
            "Requirement already satisfied: pyrsistent!=0.17.0,!=0.17.1,!=0.17.2,>=0.14.0 in /usr/local/lib/python3.7/dist-packages (from jsonschema>=3.0->altair>=3.2.0->streamlit==1.11.1->-r requirements.txt (line 3)) (0.18.1)\n",
            "Requirement already satisfied: importlib-resources>=1.4.0 in /usr/local/lib/python3.7/dist-packages (from jsonschema>=3.0->altair>=3.2.0->streamlit==1.11.1->-r requirements.txt (line 3)) (5.9.0)\n",
            "Requirement already satisfied: pyparsing!=3.0.5,>=2.0.2 in /usr/local/lib/python3.7/dist-packages (from packaging->transformers==3.1.0->-r requirements.txt (line 2)) (3.0.9)\n",
            "Requirement already satisfied: pytz>=2017.3 in /usr/local/lib/python3.7/dist-packages (from pandas>=0.21.0->streamlit==1.11.1->-r requirements.txt (line 3)) (2022.1)\n",
            "Requirement already satisfied: six>=1.9 in /usr/local/lib/python3.7/dist-packages (from protobuf<4,>=3.12->streamlit==1.11.1->-r requirements.txt (line 3)) (1.15.0)\n",
            "Requirement already satisfied: traitlets>=4.3.2 in /usr/local/lib/python3.7/dist-packages (from pydeck>=0.1.dev5->streamlit==1.11.1->-r requirements.txt (line 3)) (5.1.1)\n",
            "Requirement already satisfied: ipywidgets>=7.0.0 in /usr/local/lib/python3.7/dist-packages (from pydeck>=0.1.dev5->streamlit==1.11.1->-r requirements.txt (line 3)) (7.7.1)\n",
            "Collecting ipykernel>=5.1.2\n",
            "  Downloading ipykernel-6.15.1-py3-none-any.whl (132 kB)\n",
            "\u001b[K     |████████████████████████████████| 132 kB 34.5 MB/s \n",
            "\u001b[?25hRequirement already satisfied: debugpy>=1.0 in /usr/local/lib/python3.7/dist-packages (from ipykernel>=5.1.2->pydeck>=0.1.dev5->streamlit==1.11.1->-r requirements.txt (line 3)) (1.0.0)\n",
            "Requirement already satisfied: pyzmq>=17 in /usr/local/lib/python3.7/dist-packages (from ipykernel>=5.1.2->pydeck>=0.1.dev5->streamlit==1.11.1->-r requirements.txt (line 3)) (23.2.0)\n",
            "Collecting tornado>=5.0\n",
            "  Downloading tornado-6.2-cp37-abi3-manylinux_2_5_x86_64.manylinux1_x86_64.manylinux_2_17_x86_64.manylinux2014_x86_64.whl (423 kB)\n",
            "\u001b[K     |████████████████████████████████| 423 kB 54.3 MB/s \n",
            "\u001b[?25hCollecting jupyter-client>=6.1.12\n",
            "  Downloading jupyter_client-7.3.4-py3-none-any.whl (132 kB)\n",
            "\u001b[K     |████████████████████████████████| 132 kB 48.6 MB/s \n",
            "\u001b[?25hRequirement already satisfied: nest-asyncio in /usr/local/lib/python3.7/dist-packages (from ipykernel>=5.1.2->pydeck>=0.1.dev5->streamlit==1.11.1->-r requirements.txt (line 3)) (1.5.5)\n",
            "Requirement already satisfied: psutil in /usr/local/lib/python3.7/dist-packages (from ipykernel>=5.1.2->pydeck>=0.1.dev5->streamlit==1.11.1->-r requirements.txt (line 3)) (5.4.8)\n",
            "Collecting ipython>=7.23.1\n",
            "  Downloading ipython-7.34.0-py3-none-any.whl (793 kB)\n",
            "\u001b[K     |████████████████████████████████| 793 kB 57.4 MB/s \n",
            "\u001b[?25hRequirement already satisfied: matplotlib-inline>=0.1 in /usr/local/lib/python3.7/dist-packages (from ipykernel>=5.1.2->pydeck>=0.1.dev5->streamlit==1.11.1->-r requirements.txt (line 3)) (0.1.3)\n",
            "Requirement already satisfied: setuptools>=18.5 in /usr/local/lib/python3.7/dist-packages (from ipython>=7.23.1->ipykernel>=5.1.2->pydeck>=0.1.dev5->streamlit==1.11.1->-r requirements.txt (line 3)) (57.4.0)\n",
            "Requirement already satisfied: decorator in /usr/local/lib/python3.7/dist-packages (from ipython>=7.23.1->ipykernel>=5.1.2->pydeck>=0.1.dev5->streamlit==1.11.1->-r requirements.txt (line 3)) (4.4.2)\n",
            "Requirement already satisfied: jedi>=0.16 in /usr/local/lib/python3.7/dist-packages (from ipython>=7.23.1->ipykernel>=5.1.2->pydeck>=0.1.dev5->streamlit==1.11.1->-r requirements.txt (line 3)) (0.18.1)\n",
            "Requirement already satisfied: pexpect>4.3 in /usr/local/lib/python3.7/dist-packages (from ipython>=7.23.1->ipykernel>=5.1.2->pydeck>=0.1.dev5->streamlit==1.11.1->-r requirements.txt (line 3)) (4.8.0)\n",
            "Requirement already satisfied: pygments in /usr/local/lib/python3.7/dist-packages (from ipython>=7.23.1->ipykernel>=5.1.2->pydeck>=0.1.dev5->streamlit==1.11.1->-r requirements.txt (line 3)) (2.6.1)\n",
            "Requirement already satisfied: backcall in /usr/local/lib/python3.7/dist-packages (from ipython>=7.23.1->ipykernel>=5.1.2->pydeck>=0.1.dev5->streamlit==1.11.1->-r requirements.txt (line 3)) (0.2.0)\n",
            "Collecting prompt-toolkit!=3.0.0,!=3.0.1,<3.1.0,>=2.0.0\n",
            "  Downloading prompt_toolkit-3.0.30-py3-none-any.whl (381 kB)\n",
            "\u001b[K     |████████████████████████████████| 381 kB 70.6 MB/s \n",
            "\u001b[?25hRequirement already satisfied: pickleshare in /usr/local/lib/python3.7/dist-packages (from ipython>=7.23.1->ipykernel>=5.1.2->pydeck>=0.1.dev5->streamlit==1.11.1->-r requirements.txt (line 3)) (0.7.5)\n",
            "Requirement already satisfied: ipython-genutils~=0.2.0 in /usr/local/lib/python3.7/dist-packages (from ipywidgets>=7.0.0->pydeck>=0.1.dev5->streamlit==1.11.1->-r requirements.txt (line 3)) (0.2.0)\n",
            "Requirement already satisfied: jupyterlab-widgets>=1.0.0 in /usr/local/lib/python3.7/dist-packages (from ipywidgets>=7.0.0->pydeck>=0.1.dev5->streamlit==1.11.1->-r requirements.txt (line 3)) (1.1.1)\n",
            "Requirement already satisfied: widgetsnbextension~=3.6.0 in /usr/local/lib/python3.7/dist-packages (from ipywidgets>=7.0.0->pydeck>=0.1.dev5->streamlit==1.11.1->-r requirements.txt (line 3)) (3.6.1)\n",
            "Requirement already satisfied: parso<0.9.0,>=0.8.0 in /usr/local/lib/python3.7/dist-packages (from jedi>=0.16->ipython>=7.23.1->ipykernel>=5.1.2->pydeck>=0.1.dev5->streamlit==1.11.1->-r requirements.txt (line 3)) (0.8.3)\n",
            "Requirement already satisfied: MarkupSafe>=0.23 in /usr/local/lib/python3.7/dist-packages (from jinja2->altair>=3.2.0->streamlit==1.11.1->-r requirements.txt (line 3)) (2.0.1)\n",
            "Requirement already satisfied: jupyter-core>=4.9.2 in /usr/local/lib/python3.7/dist-packages (from jupyter-client>=6.1.12->ipykernel>=5.1.2->pydeck>=0.1.dev5->streamlit==1.11.1->-r requirements.txt (line 3)) (4.11.1)\n",
            "Requirement already satisfied: ptyprocess>=0.5 in /usr/local/lib/python3.7/dist-packages (from pexpect>4.3->ipython>=7.23.1->ipykernel>=5.1.2->pydeck>=0.1.dev5->streamlit==1.11.1->-r requirements.txt (line 3)) (0.7.0)\n",
            "Requirement already satisfied: wcwidth in /usr/local/lib/python3.7/dist-packages (from prompt-toolkit!=3.0.0,!=3.0.1,<3.1.0,>=2.0.0->ipython>=7.23.1->ipykernel>=5.1.2->pydeck>=0.1.dev5->streamlit==1.11.1->-r requirements.txt (line 3)) (0.2.5)\n",
            "Requirement already satisfied: chardet<4,>=3.0.2 in /usr/local/lib/python3.7/dist-packages (from requests->transformers==3.1.0->-r requirements.txt (line 2)) (3.0.4)\n",
            "Requirement already satisfied: urllib3!=1.25.0,!=1.25.1,<1.26,>=1.21.1 in /usr/local/lib/python3.7/dist-packages (from requests->transformers==3.1.0->-r requirements.txt (line 2)) (1.24.3)\n",
            "Requirement already satisfied: certifi>=2017.4.17 in /usr/local/lib/python3.7/dist-packages (from requests->transformers==3.1.0->-r requirements.txt (line 2)) (2022.6.15)\n",
            "Requirement already satisfied: idna<3,>=2.5 in /usr/local/lib/python3.7/dist-packages (from requests->transformers==3.1.0->-r requirements.txt (line 2)) (2.10)\n",
            "Collecting commonmark<0.10.0,>=0.9.0\n",
            "  Downloading commonmark-0.9.1-py2.py3-none-any.whl (51 kB)\n",
            "\u001b[K     |████████████████████████████████| 51 kB 8.3 MB/s \n",
            "\u001b[?25hRequirement already satisfied: notebook>=4.4.1 in /usr/local/lib/python3.7/dist-packages (from widgetsnbextension~=3.6.0->ipywidgets>=7.0.0->pydeck>=0.1.dev5->streamlit==1.11.1->-r requirements.txt (line 3)) (5.3.1)\n",
            "Requirement already satisfied: nbconvert in /usr/local/lib/python3.7/dist-packages (from notebook>=4.4.1->widgetsnbextension~=3.6.0->ipywidgets>=7.0.0->pydeck>=0.1.dev5->streamlit==1.11.1->-r requirements.txt (line 3)) (5.6.1)\n",
            "Requirement already satisfied: terminado>=0.8.1 in /usr/local/lib/python3.7/dist-packages (from notebook>=4.4.1->widgetsnbextension~=3.6.0->ipywidgets>=7.0.0->pydeck>=0.1.dev5->streamlit==1.11.1->-r requirements.txt (line 3)) (0.13.3)\n",
            "Requirement already satisfied: Send2Trash in /usr/local/lib/python3.7/dist-packages (from notebook>=4.4.1->widgetsnbextension~=3.6.0->ipywidgets>=7.0.0->pydeck>=0.1.dev5->streamlit==1.11.1->-r requirements.txt (line 3)) (1.8.0)\n",
            "Requirement already satisfied: nbformat in /usr/local/lib/python3.7/dist-packages (from notebook>=4.4.1->widgetsnbextension~=3.6.0->ipywidgets>=7.0.0->pydeck>=0.1.dev5->streamlit==1.11.1->-r requirements.txt (line 3)) (5.4.0)\n",
            "Requirement already satisfied: bleach in /usr/local/lib/python3.7/dist-packages (from nbconvert->notebook>=4.4.1->widgetsnbextension~=3.6.0->ipywidgets>=7.0.0->pydeck>=0.1.dev5->streamlit==1.11.1->-r requirements.txt (line 3)) (5.0.1)\n",
            "Requirement already satisfied: pandocfilters>=1.4.1 in /usr/local/lib/python3.7/dist-packages (from nbconvert->notebook>=4.4.1->widgetsnbextension~=3.6.0->ipywidgets>=7.0.0->pydeck>=0.1.dev5->streamlit==1.11.1->-r requirements.txt (line 3)) (1.5.0)\n",
            "Requirement already satisfied: defusedxml in /usr/local/lib/python3.7/dist-packages (from nbconvert->notebook>=4.4.1->widgetsnbextension~=3.6.0->ipywidgets>=7.0.0->pydeck>=0.1.dev5->streamlit==1.11.1->-r requirements.txt (line 3)) (0.7.1)\n",
            "Requirement already satisfied: testpath in /usr/local/lib/python3.7/dist-packages (from nbconvert->notebook>=4.4.1->widgetsnbextension~=3.6.0->ipywidgets>=7.0.0->pydeck>=0.1.dev5->streamlit==1.11.1->-r requirements.txt (line 3)) (0.6.0)\n",
            "Requirement already satisfied: mistune<2,>=0.8.1 in /usr/local/lib/python3.7/dist-packages (from nbconvert->notebook>=4.4.1->widgetsnbextension~=3.6.0->ipywidgets>=7.0.0->pydeck>=0.1.dev5->streamlit==1.11.1->-r requirements.txt (line 3)) (0.8.4)\n",
            "Requirement already satisfied: fastjsonschema in /usr/local/lib/python3.7/dist-packages (from nbformat->notebook>=4.4.1->widgetsnbextension~=3.6.0->ipywidgets>=7.0.0->pydeck>=0.1.dev5->streamlit==1.11.1->-r requirements.txt (line 3)) (2.16.1)\n",
            "Requirement already satisfied: webencodings in /usr/local/lib/python3.7/dist-packages (from bleach->nbconvert->notebook>=4.4.1->widgetsnbextension~=3.6.0->ipywidgets>=7.0.0->pydeck>=0.1.dev5->streamlit==1.11.1->-r requirements.txt (line 3)) (0.5.1)\n",
            "Requirement already satisfied: joblib in /usr/local/lib/python3.7/dist-packages (from sacremoses->transformers==3.1.0->-r requirements.txt (line 2)) (1.1.0)\n",
            "Building wheels for collected packages: pyngrok, validators, sacremoses\n",
            "  Building wheel for pyngrok (setup.py) ... \u001b[?25l\u001b[?25hdone\n",
            "  Created wheel for pyngrok: filename=pyngrok-4.1.1-py3-none-any.whl size=15983 sha256=712b23a08ece5d58b73930efe5292b530cd77ebf5912978bb9389276645d8bfe\n",
            "  Stored in directory: /root/.cache/pip/wheels/b1/d9/12/045a042fee3127dc40ba6f5df2798aa2df38c414bf533ca765\n",
            "  Building wheel for validators (setup.py) ... \u001b[?25l\u001b[?25hdone\n",
            "  Created wheel for validators: filename=validators-0.20.0-py3-none-any.whl size=19582 sha256=dc0e9c3df0b91fd39f7b0e97ff27e5056d54a46ef07cc02cf34557677ddd5cb8\n",
            "  Stored in directory: /root/.cache/pip/wheels/5f/55/ab/36a76989f7f88d9ca7b1f68da6d94252bb6a8d6ad4f18e04e9\n",
            "  Building wheel for sacremoses (setup.py) ... \u001b[?25l\u001b[?25hdone\n",
            "  Created wheel for sacremoses: filename=sacremoses-0.0.53-py3-none-any.whl size=895260 sha256=ff87b2a98bce9b6898c05d7caa21a9d5a1fe604ccb36cf2d3c2b71ab858c8f4e\n",
            "  Stored in directory: /root/.cache/pip/wheels/87/39/dd/a83eeef36d0bf98e7a4d1933a4ad2d660295a40613079bafc9\n",
            "Successfully built pyngrok validators sacremoses\n",
            "Installing collected packages: tornado, prompt-toolkit, jupyter-client, ipython, ipykernel, smmap, gitdb, commonmark, watchdog, validators, tokenizers, sentencepiece, sacremoses, rich, pympler, pydeck, gitpython, blinker, transformers, streamlit, pyngrok\n",
            "  Attempting uninstall: tornado\n",
            "    Found existing installation: tornado 5.1.1\n",
            "    Uninstalling tornado-5.1.1:\n",
            "      Successfully uninstalled tornado-5.1.1\n",
            "  Attempting uninstall: prompt-toolkit\n",
            "    Found existing installation: prompt-toolkit 1.0.18\n",
            "    Uninstalling prompt-toolkit-1.0.18:\n",
            "      Successfully uninstalled prompt-toolkit-1.0.18\n",
            "  Attempting uninstall: jupyter-client\n",
            "    Found existing installation: jupyter-client 5.3.5\n",
            "    Uninstalling jupyter-client-5.3.5:\n",
            "      Successfully uninstalled jupyter-client-5.3.5\n",
            "  Attempting uninstall: ipython\n",
            "    Found existing installation: ipython 5.5.0\n",
            "    Uninstalling ipython-5.5.0:\n",
            "      Successfully uninstalled ipython-5.5.0\n",
            "  Attempting uninstall: ipykernel\n",
            "    Found existing installation: ipykernel 4.10.1\n",
            "    Uninstalling ipykernel-4.10.1:\n",
            "      Successfully uninstalled ipykernel-4.10.1\n",
            "\u001b[31mERROR: pip's dependency resolver does not currently take into account all the packages that are installed. This behaviour is the source of the following dependency conflicts.\n",
            "nbclient 0.6.6 requires traitlets>=5.2.2, but you have traitlets 5.1.1 which is incompatible.\n",
            "jupyter-console 5.2.0 requires prompt-toolkit<2.0.0,>=1.0.0, but you have prompt-toolkit 3.0.30 which is incompatible.\n",
            "google-colab 1.0.0 requires ipykernel~=4.10, but you have ipykernel 6.15.1 which is incompatible.\n",
            "google-colab 1.0.0 requires ipython~=5.5.0, but you have ipython 7.34.0 which is incompatible.\n",
            "google-colab 1.0.0 requires tornado~=5.1.0, but you have tornado 6.2 which is incompatible.\u001b[0m\n",
            "Successfully installed blinker-1.5 commonmark-0.9.1 gitdb-4.0.9 gitpython-3.1.27 ipykernel-6.15.1 ipython-7.34.0 jupyter-client-7.3.4 prompt-toolkit-3.0.30 pydeck-0.7.1 pympler-1.0.1 pyngrok-4.1.1 rich-12.5.1 sacremoses-0.0.53 sentencepiece-0.1.97 smmap-5.0.0 streamlit-1.11.1 tokenizers-0.8.1rc2 tornado-6.2 transformers-3.1.0 validators-0.20.0 watchdog-2.1.9\n"
          ]
        },
        {
          "output_type": "display_data",
          "data": {
            "application/vnd.colab-display-data+json": {
              "pip_warning": {
                "packages": [
                  "IPython",
                  "prompt_toolkit",
                  "tornado"
                ]
              }
            }
          },
          "metadata": {}
        }
      ],
      "source": [
        "# install dependencies\n",
        "!pip install -r requirements.txt\n",
        "\n",
        "# output at the end of this cell will have a button named \"RESTART RUNTIME\";\n",
        "# just press it and proceed with the rest of the notebook as per normal"
      ]
    },
    {
      "cell_type": "code",
      "source": [
        "# to give access to the trained model saved in your google drive\n",
        "from google.colab import drive \n",
        "drive.mount('/content/drive')"
      ],
      "metadata": {
        "colab": {
          "base_uri": "https://localhost:8080/"
        },
        "id": "H4btNakh6m8x",
        "outputId": "047c5ff4-4931-47f4-b1c0-03cc9f640778"
      },
      "execution_count": 1,
      "outputs": [
        {
          "output_type": "stream",
          "name": "stdout",
          "text": [
            "Mounted at /content/drive\n"
          ]
        }
      ]
    },
    {
      "cell_type": "markdown",
      "source": [
        "## Model loading and logic file\n",
        "\n",
        "This file instantiates the BERT model class and loads in the pretrained model (which should be saved in your google drive)."
      ],
      "metadata": {
        "id": "NHBoO1aB0vpi"
      }
    },
    {
      "cell_type": "code",
      "source": [
        "# IMPORTANT: change the PATH variable to access your saved weights in your\n",
        "# google drive! it can be found after the model class definition\n",
        "\n",
        "%%writefile model.py\n",
        "\n",
        "import torch\n",
        "import torch.nn as nn\n",
        "import transformers\n",
        "from transformers import AutoModel, BertTokenizerFast\n",
        "\n",
        "# define model architecture\n",
        "class BERT_Arch(nn.Module):\n",
        "    def __init__(self, bert_head, bert_body):\n",
        "      super(BERT_Arch, self).__init__()\n",
        "      self.bert_head = bert_head\n",
        "      self.bert_body = bert_body\n",
        "\n",
        "      # Max pooling layer \n",
        "      self.max_pooling = nn.MaxPool1d(4, stride=4)\n",
        "      # dropout layer\n",
        "      self.dropout = nn.Dropout(0.1)\n",
        "      # relu activation function\n",
        "      self.relu =  nn.ReLU()\n",
        "      # dense layer 1\n",
        "      self.fc = nn.Linear(384, 768)\n",
        "      self.fc1 = nn.Linear(768, 512)\n",
        "      # dense layer 2 (Output layer)\n",
        "      self.fc2 = nn.Linear(512, 4)\n",
        "      # softmax activation function \n",
        "      self.softmax = nn.LogSoftmax(dim=-1)\n",
        " \n",
        "    # define forward pass\n",
        "    def forward(self, sent_id_head, sent_id_body, mask_head, mask_body):\n",
        "      # print(sent_id.size())\n",
        "      # print(mask.size())\n",
        "\n",
        "      # pass inputs to the model   \n",
        "      _, cls_hs_h = self.bert_head(sent_id_head, attention_mask=mask_head)\n",
        "      _, cls_hs_b = self.bert_body(sent_id_body, attention_mask=mask_body)\n",
        "      cls_hs = torch.cat((cls_hs_h, cls_hs_b), dim=1)\n",
        "      max_pool_out =torch.squeeze(self.max_pooling(cls_hs.unsqueeze(0)))\n",
        "\n",
        "      fc_out = self.fc(max_pool_out)\n",
        "      fc_act_out = self.relu(fc_out)\n",
        "\n",
        "      x = self.fc1(fc_act_out)\n",
        "      x = self.relu(x)\n",
        "      x = self.dropout(x)\n",
        "\n",
        "      # output layer\n",
        "      x = self.fc2(x)\n",
        "\n",
        "      # apply softmax activation\n",
        "      x = self.softmax(x)\n",
        "      return x\n",
        "\n",
        "\n",
        "# loading the trained model (weights)\n",
        "# change it to your own PATH to the .pt file in your google drive!\n",
        "# galen's PATH\n",
        "PATH = '/content/drive/MyDrive/saved_weights_bert_2.pt'\n",
        "# szechang's PATH\n",
        "# PATH = 'drive/MyDrive/AI bert/saved_weights_bert_2.pt'\n",
        "\n",
        "bert_head = AutoModel.from_pretrained('bert-base-uncased')\n",
        "bert_body = AutoModel.from_pretrained('bert-base-uncased')\n",
        "tokenizer = BertTokenizerFast.from_pretrained('bert-base-uncased')\n",
        "\n",
        "device = torch.device(\"cuda\")\n",
        "model = BERT_Arch(bert_head, bert_body)\n",
        "model = model.to(device)\n",
        "model.load_state_dict(torch.load(PATH))\n",
        "\n",
        "label_to_idx = {\"agree\":0, \"disagree\":1, \"discuss\":2, \"unrelated\":3}\n",
        "idx_to_label = {0:\"agree\", 1:\"disagree\", 2:\"discuss\", 3:\"unrelated\"}\n",
        "\n",
        "max_seq_len_h = 20\n",
        "max_seq_len_b = 512\n",
        "\n",
        "def input_to_tensor(user_input_head, user_input_body):\n",
        "\n",
        "  tokens_head = tokenizer.batch_encode_plus(\n",
        "      [user_input_head],\n",
        "      max_length = max_seq_len_h,\n",
        "      padding='max_length',\n",
        "      pad_to_max_length=True,\n",
        "      truncation=True,\n",
        "      return_token_type_ids=False\n",
        "  )\n",
        "\n",
        "  tokens_body = tokenizer.batch_encode_plus(\n",
        "      [user_input_body],\n",
        "      max_length = max_seq_len_b,\n",
        "      padding='max_length',\n",
        "      pad_to_max_length=True,\n",
        "      truncation=True,\n",
        "      return_token_type_ids=False\n",
        "  )\n",
        "\n",
        "  seq_head = torch.tensor(tokens_head['input_ids'])\n",
        "  mask_head = torch.tensor(tokens_head['attention_mask'])\n",
        "  seq_body = torch.tensor(tokens_body['input_ids'])\n",
        "  mask_body = torch.tensor(tokens_body['attention_mask'])\n",
        "  \n",
        "  return seq_head.to(device),seq_body.to(device),mask_head.to(device),mask_body.to(device)\n"
      ],
      "metadata": {
        "id": "5vgPCLrLp5HK",
        "colab": {
          "base_uri": "https://localhost:8080/"
        },
        "outputId": "02083daa-dd78-4905-f27f-8bf6dcb2bbdf"
      },
      "execution_count": 2,
      "outputs": [
        {
          "output_type": "stream",
          "name": "stdout",
          "text": [
            "Writing model.py\n"
          ]
        }
      ]
    },
    {
      "cell_type": "markdown",
      "source": [
        "## Streamlit GUI file\n",
        "\n",
        "This file contains the code for the GUI, loading in `model.py` and allowing the user to give input of their *news headline* and *news article (body)*.\n",
        "\n",
        "The model then predicts and classifies the inputs given based on the 4 different stances: `Agree`, `Disagree`, `Discuss`, `Unrelated`."
      ],
      "metadata": {
        "id": "mbSwlWBJWJgA"
      }
    },
    {
      "cell_type": "code",
      "source": [
        "%%writefile app.py\n",
        "\n",
        "import streamlit as st\n",
        "import numpy as np\n",
        "from model import *\n",
        "\n",
        "#---------------------------------#\n",
        "# Page configuration\n",
        "\n",
        "PAGE_CONFIG = {\"page_title\":\"AI Project Group 18\",\n",
        "              \"page_icon\":\":newspaper:\",\n",
        "              \"layout\":\"wide\"}\n",
        "st.set_page_config(**PAGE_CONFIG)\n",
        "\n",
        "#---------------------------------#\n",
        "# Home page\n",
        "\n",
        "st.write(\"\"\"\n",
        "# unReal\n",
        "\n",
        "#### *Fake News Classification and Prediction through AI*\n",
        "\n",
        "In this implementation, the *BERT base model (uncased)* was trained and applied for Fake News Stance Detection.\n",
        "\n",
        "Insert your news and news article in the corresponding boxes below and hit *Submit* to check if they are categorised under:\n",
        "\n",
        "`Agree`, `Disagree`, `Discuss`, or `Unrelated`.\n",
        "\"\"\")\n",
        "\n",
        "st.markdown(\"\"\"---\"\"\") \n",
        "\n",
        "if 'output' not in st.session_state:\n",
        "    st.session_state.output = \"\"\n",
        "\n",
        "def get_output(user_input_1, user_input_2):\n",
        "  head_tensor,body_tensor,head_mask,body_mask = input_to_tensor(user_input_1, user_input_2)\n",
        "  \n",
        "  output_tensor = model(head_tensor, body_tensor, head_mask, body_mask)\n",
        "  output_idx = np.argmax(output_tensor.detach().cpu().numpy())\n",
        "  output = idx_to_label[output_idx]\n",
        " \n",
        "  st.session_state.output = output\n",
        "\n",
        "user_input_1 = st.text_area(\"Enter your news headline here:\")\n",
        "user_input_2 = st.text_area(\"Enter your news article (body) here:\")\n",
        "\n",
        "st.button(label=\"Submit\", on_click=get_output, args=(user_input_1, user_input_2))\n",
        "\n",
        "st.write(\"### Your news headline and news article are categorised under:\")\n",
        "st.write(st.session_state.output)\n"
      ],
      "metadata": {
        "colab": {
          "base_uri": "https://localhost:8080/"
        },
        "id": "koCKLYPv9q-P",
        "outputId": "a4e22f6f-6e18-4e8c-a8ed-c121784c4232"
      },
      "execution_count": 3,
      "outputs": [
        {
          "output_type": "stream",
          "name": "stdout",
          "text": [
            "Writing app.py\n"
          ]
        }
      ]
    },
    {
      "cell_type": "markdown",
      "source": [
        "# Running the GUI"
      ],
      "metadata": {
        "id": "hdVnHcy0WYfI"
      }
    },
    {
      "cell_type": "code",
      "source": [
        "# check if required py files have been written to colab sandbox\n",
        "# app.py and model.py should be seen\n",
        "!ls"
      ],
      "metadata": {
        "colab": {
          "base_uri": "https://localhost:8080/"
        },
        "id": "BQgdn4me9umj",
        "outputId": "a90cfd05-7780-4b49-9438-ea61245dadc9"
      },
      "execution_count": 4,
      "outputs": [
        {
          "output_type": "stream",
          "name": "stdout",
          "text": [
            "app.py\tdrive  model.py  requirements.txt  sample_data\n"
          ]
        }
      ]
    },
    {
      "cell_type": "code",
      "source": [
        "# ngrok authentication, only needs to be done once per session\n",
        "!ngrok authtoken 2CQtJERhcUlxLR6cdKdzfP8J9jC_56J8CecbbnGjX8dp1tE4j"
      ],
      "metadata": {
        "colab": {
          "base_uri": "https://localhost:8080/"
        },
        "id": "r5hZtYwGCndT",
        "outputId": "3c6cb6bc-7ed9-4b75-ee04-136b4f976624"
      },
      "execution_count": 5,
      "outputs": [
        {
          "output_type": "stream",
          "name": "stdout",
          "text": [
            "Authtoken saved to configuration file: /root/.ngrok2/ngrok.yml\n"
          ]
        }
      ]
    },
    {
      "cell_type": "code",
      "source": [
        "# start streamlit app instance\n",
        "!streamlit run app.py &>/dev/null&\n",
        "!pgrep streamlit # outputs streamlit process number (required for killing)"
      ],
      "metadata": {
        "colab": {
          "base_uri": "https://localhost:8080/"
        },
        "id": "kAvCyxRoB0h2",
        "outputId": "f383be5f-c8fe-4371-a895-e05f3e069d8b"
      },
      "execution_count": 6,
      "outputs": [
        {
          "output_type": "stream",
          "name": "stdout",
          "text": [
            "420\n"
          ]
        }
      ]
    },
    {
      "cell_type": "code",
      "source": [
        "from pyngrok import ngrok\n",
        "# setup tunnel to 8501 (streamlit port)\n",
        "pub_url = ngrok.connect(port='8501')\n",
        "print(pub_url) # generates url for app"
      ],
      "metadata": {
        "colab": {
          "base_uri": "https://localhost:8080/"
        },
        "id": "7s6SW8BZBUj9",
        "outputId": "27d9426f-02e3-4f4a-9f85-3922ce11458f"
      },
      "execution_count": 7,
      "outputs": [
        {
          "output_type": "stream",
          "name": "stdout",
          "text": [
            "http://6a8d-35-221-38-46.ngrok.io\n"
          ]
        }
      ]
    },
    {
      "cell_type": "code",
      "source": [
        "# shutdown\n",
        "!kill 420 # change the process number\n",
        "ngrok.kill()"
      ],
      "metadata": {
        "id": "X3CZo-rhDMzp"
      },
      "execution_count": 8,
      "outputs": []
    }
  ]
}